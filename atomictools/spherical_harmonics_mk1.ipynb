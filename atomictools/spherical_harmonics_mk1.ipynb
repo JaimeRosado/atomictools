{
 "cells": [
  {
   "cell_type": "code",
   "execution_count": 290,
   "metadata": {},
   "outputs": [],
   "source": [
    "import plotly.graph_objects as go\n",
    "import plotly.io as pio\n",
    "from plotly.subplots import make_subplots\n",
    "from cmath import phase\n",
    "import scipy.special as spe\n",
    "import numpy as np\n",
    "pio.renderers.default='iframe'\n",
    "\n",
    "def ftheta(l,m,theta):\n",
    "    C=np.sqrt((2*l+1)*spe.factorial(l-m)/(4*np.pi)/spe.factorial(l+m))\n",
    "    legendre=spe.lpmv(m,l,np.cos(theta))\n",
    "    return C*legendre\n",
    "\n",
    "def fphi(m, phi):\n",
    "    return np.exp(1j*m*phi)\n",
    "\n",
    "class spherical_harmonics:\n",
    "    \n",
    "    def __init__(self,l,m):\n",
    "        \n",
    "        #definition of class atributes\n",
    "        self.l=l\n",
    "        self.m=m\n",
    "        self.theta=np.linspace(0, np.pi, 50)\n",
    "        self.phi=np.linspace(0, 2*np.pi, 50)\n",
    "       \n",
    "        \n",
    "        #we will also save the computed results of ftheta() and fphi()\n",
    "        C1=ftheta(self.l,self.m,self.theta)\n",
    "        C2=fphi(self.m,self.phi)\n",
    "        \n",
    "        self.theta_vals=C1\n",
    "        self.phi_vals=C2\n",
    "        \n",
    "        #outer product, its absolute value and the square of its absolute\n",
    "        #value of the two arrays above will \n",
    "        #also be stored for future purposes\n",
    "        self.out_product=np.outer(C2, C1)\n",
    "        self.module=np.abs(self.out_product)\n",
    "        self.prob=np.abs(self.out_product)**2\n",
    "        \n",
    "        #Plot constants, only contain normalized grid of spherical coordinates\n",
    "        self.x_plot=np.outer(np.cos(self.phi), np.sin(self.theta))\n",
    "        self.y_plot=np.outer(np.sin(self.phi), np.sin(self.theta))\n",
    "        self.z_plot=np.outer(np.ones_like(self.phi), np.cos(self.theta))\n",
    "        #self.phi_plot = np.outer(np.cos(self.phase),np.ones_like(self.theta))\n",
    "        \n",
    "        \n",
    "        #these loops are meant to calculate the proper phase of every single point. \n",
    "        #it its calculated recursiverly due to the need of having opposite phases\n",
    "        if (m!=0):\n",
    "            self.phi_plot=np.zeros([len(self.z_plot),len(self.z_plot)])\n",
    "        \n",
    "            for i in range(len(self.z_plot)):\n",
    "                a=0-np.pi*i\n",
    "                for j in range(len(self.z_plot)):\n",
    "                \n",
    "                    if (np.sign(self.z_plot[j,i])<0):\n",
    "                        self.phi_plot[j,i]=np.cos(self.phi[j]+np.pi)\n",
    "                \n",
    "                    if (np.sign(self.z_plot[j,i])>0):\n",
    "                        self.phi_plot[j,i]=np.cos(self.phi[j])\n",
    "                        \n",
    "        if (m==0):\n",
    "            self.phi_plot = np.outer(np.ones_like(self.theta), np.cos(self.phi))\n",
    "            \n",
    "    def plot_prob(self):\n",
    "        \n",
    "        prob_plotx=self.prob*self.x_plot\n",
    "        prob_ploty=self.prob*self.y_plot\n",
    "        prob_plotz=self.prob*self.z_plot\n",
    "        \n",
    "        fig = go.Figure(data=[go.Surface(x=prob_plotx, y=prob_ploty, z=prob_plotz, \n",
    "                                         surfacecolor=self.prob, colorscale='Oranges')])\n",
    "  \n",
    "        fig.update_traces(contours_z=dict(\n",
    "               show=True, usecolormap=True,\n",
    "               highlightcolor=\"limegreen\",\n",
    "               project_z=True))\n",
    "        \n",
    "        #this variable is used to dynamically adjust the graph initial zoom\n",
    "        aux1=np.max(self.z_plot)\n",
    "        \n",
    "        #starting zoom of the graph. Relies on the l variable to adjust the graph\n",
    "        camera = dict(\n",
    "               eye=dict(x=1.25+aux1*(self.l-np.abs(self.m)), y=1.25+aux1*(self.l-np.abs(self.m)), z=1.25)\n",
    "        )    \n",
    "    \n",
    "        fig.update_layout(scene_aspectmode='data', scene_camera=camera)\n",
    "  \n",
    "        fig.show()\n",
    "    \n",
    "            \n",
    "    def plot_phase(self):\n",
    "        \n",
    "        phase_plotx=self.module*self.x_plot\n",
    "        phase_ploty=self.module*self.y_plot\n",
    "        phase_plotz=self.module*self.z_plot\n",
    "        \n",
    "        \n",
    "        \n",
    "        fig = go.Figure(data=[go.Surface(x=phase_plotx, y=phase_ploty, z=phase_plotz,\n",
    "                                         surfacecolor=self.phi_plot,\n",
    "                                         colorscale='HSV'\n",
    "                                        )])\n",
    "\n",
    "        fig.update_traces(contours_z=dict(\n",
    "              show=True, usecolormap=True,\n",
    "              highlightcolor=\"limegreen\",\n",
    "              project_z=True))\n",
    "        \n",
    "        #this variable is used to dynamically adjust the graph initial zoom\n",
    "        aux1=np.max(self.z_plot)\n",
    "        \n",
    "        #starting zoom of the graph. Relies on the l variable to adjust the graph\n",
    "        camera1 = dict(\n",
    "               eye=dict(x=1.25+aux1*(self.l-np.abs(self.m)), y=1.25+aux1*(self.l-np.abs(self.m)), z=1.25)\n",
    "        )\n",
    "        \n",
    "        fig.update_layout(scene_aspectmode='data', scene_camera=camera1)\n",
    "  \n",
    "        fig.show()"
   ]
  },
  {
   "cell_type": "code",
   "execution_count": 292,
   "metadata": {},
   "outputs": [
    {
     "data": {
      "text/html": [
       "<iframe\n",
       "    scrolling=\"no\"\n",
       "    width=\"100%\"\n",
       "    height=\"545px\"\n",
       "    src=\"iframe_figures/figure_48.html\"\n",
       "    frameborder=\"0\"\n",
       "    allowfullscreen\n",
       "></iframe>\n"
      ]
     },
     "metadata": {},
     "output_type": "display_data"
    }
   ],
   "source": [
    "spherical_harmonics(6,2).plot_phase()"
   ]
  },
  {
   "cell_type": "code",
   "execution_count": 244,
   "metadata": {},
   "outputs": [
    {
     "data": {
      "text/html": [
       "<iframe\n",
       "    scrolling=\"no\"\n",
       "    width=\"100%\"\n",
       "    height=\"545px\"\n",
       "    src=\"iframe_figures/figure_2.html\"\n",
       "    frameborder=\"0\"\n",
       "    allowfullscreen\n",
       "></iframe>\n"
      ]
     },
     "metadata": {},
     "output_type": "display_data"
    }
   ],
   "source": [
    "spherical_harmonics(3,1).plot_prob()"
   ]
  },
  {
   "cell_type": "code",
   "execution_count": 236,
   "metadata": {},
   "outputs": [
    {
     "name": "stdout",
     "output_type": "stream",
     "text": [
      "[0.         0.04110671 0.18451004 0.0354077  0.06551323 0.06551323\n",
      " 0.0354077  0.18451004 0.04110671 0.        ]\n",
      "[0.         0.14306419 0.64215267 0.12322987 0.22800654 0.22800654\n",
      " 0.12322987 0.64215267 0.14306419 0.        ]\n",
      "[[ 1.          1.          1.          1.          1.         -1.\n",
      "  -1.         -1.         -1.         -1.        ]\n",
      " [ 0.76604444  0.76604444  0.76604444  0.76604444  0.76604444 -0.76604444\n",
      "  -0.76604444 -0.76604444 -0.76604444 -0.76604444]\n",
      " [ 0.17364818  0.17364818  0.17364818  0.17364818  0.17364818 -0.17364818\n",
      "  -0.17364818 -0.17364818 -0.17364818 -0.17364818]\n",
      " [-0.5        -0.5        -0.5        -0.5        -0.5         0.5\n",
      "   0.5         0.5         0.5         0.5       ]\n",
      " [-0.93969262 -0.93969262 -0.93969262 -0.93969262 -0.93969262  0.93969262\n",
      "   0.93969262  0.93969262  0.93969262  0.93969262]\n",
      " [-0.93969262 -0.93969262 -0.93969262 -0.93969262 -0.93969262  0.93969262\n",
      "   0.93969262  0.93969262  0.93969262  0.93969262]\n",
      " [-0.5        -0.5        -0.5        -0.5        -0.5         0.5\n",
      "   0.5         0.5         0.5         0.5       ]\n",
      " [ 0.17364818  0.17364818  0.17364818  0.17364818  0.17364818 -0.17364818\n",
      "  -0.17364818 -0.17364818 -0.17364818 -0.17364818]\n",
      " [ 0.76604444  0.76604444  0.76604444  0.76604444  0.76604444 -0.76604444\n",
      "  -0.76604444 -0.76604444 -0.76604444 -0.76604444]\n",
      " [ 1.          1.          1.          1.          1.         -1.\n",
      "  -1.         -1.         -1.         -1.        ]]\n"
     ]
    }
   ],
   "source": [
    "import numpy.linalg as linalg\n",
    "import matplotlib\n",
    "a=spherical_harmonics(4,2).prob[0]\n",
    "b=spherical_harmonics(4,2).phi_plot\n",
    "print(a)\n",
    "print(a/linalg.norm(a))\n",
    "print(b)"
   ]
  },
  {
   "cell_type": "code",
   "execution_count": 245,
   "metadata": {},
   "outputs": [
    {
     "name": "stdout",
     "output_type": "stream",
     "text": [
      "HSV\n"
     ]
    }
   ],
   "source": [
    "print('HSV')"
   ]
  },
  {
   "cell_type": "code",
   "execution_count": 249,
   "metadata": {},
   "outputs": [
    {
     "name": "stdout",
     "output_type": "stream",
     "text": [
      "[[ 1.          1.          1.         ... -1.         -1.\n",
      "  -1.        ]\n",
      " [ 0.99179001  0.99179001  0.99179001 ... -0.99179001 -0.99179001\n",
      "  -0.99179001]\n",
      " [ 0.96729486  0.96729486  0.96729486 ... -0.96729486 -0.96729486\n",
      "  -0.96729486]\n",
      " ...\n",
      " [ 0.96729486  0.96729486  0.96729486 ... -0.96729486 -0.96729486\n",
      "  -0.96729486]\n",
      " [ 0.99179001  0.99179001  0.99179001 ... -0.99179001 -0.99179001\n",
      "  -0.99179001]\n",
      " [ 1.          1.          1.         ... -1.         -1.\n",
      "  -1.        ]]\n"
     ]
    }
   ],
   "source": [
    "print(spherical_harmonics(3,1).phi_plot)"
   ]
  },
  {
   "cell_type": "code",
   "execution_count": null,
   "metadata": {},
   "outputs": [],
   "source": []
  }
 ],
 "metadata": {
  "kernelspec": {
   "display_name": "Python 3",
   "language": "python",
   "name": "python3"
  },
  "language_info": {
   "codemirror_mode": {
    "name": "ipython",
    "version": 3
   },
   "file_extension": ".py",
   "mimetype": "text/x-python",
   "name": "python",
   "nbconvert_exporter": "python",
   "pygments_lexer": "ipython3",
   "version": "3.8.5"
  }
 },
 "nbformat": 4,
 "nbformat_minor": 4
}
