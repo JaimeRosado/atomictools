{
 "cells": [
  {
   "cell_type": "markdown",
   "metadata": {
    "id": "-szsuPknqU3H"
   },
   "source": [
    "# Orbitales moleculares y orbitales atómicos híbridos\n",
    "\n",
    "Autores: Alejandro Villar y Jaime Rosado"
   ]
  },
  {
   "cell_type": "markdown",
   "metadata": {
    "id": "H-8oi9qXqU3L"
   },
   "source": [
    "### Comandos para ejecutar este cuaderno desde Google Colab"
   ]
  },
  {
   "cell_type": "markdown",
   "metadata": {
    "id": "V8srfIQhqU3M"
   },
   "source": [
    "Monta la unidad de Google Drive asociada a tu **cuenta UCM**. Hay que dar permisos a Colab para que acceda al Drive."
   ]
  },
  {
   "cell_type": "code",
   "execution_count": null,
   "metadata": {
    "colab": {
     "base_uri": "https://localhost:8080/"
    },
    "id": "IjZt0V9SqU3M",
    "outputId": "2162913f-bdb6-4b98-8f29-f22ad0984986"
   },
   "outputs": [],
   "source": [
    "from google.colab import drive\n",
    "drive.mount('/content/drive')"
   ]
  },
  {
   "cell_type": "markdown",
   "metadata": {
    "id": "BcfFvElcqU3O"
   },
   "source": [
    "Sigue este enlace para tener acceso a una carpeta compartida llamada 'ProgramasFAyM', la cual contiene los módulos donde está el código que se usa en este cuaderno.\n",
    "\n",
    "https://drive.google.com/drive/folders/1cSm1S8fYvurHPbSvcQqpm7sluvI1Ez9-?usp=sharing\n",
    "\n",
    "A continuación, **genera un acceso directo a esta carpeta** en el directorio principal de tu unidad de Google Drive (¡ojo, a la carpeta, no a los ficheros que contiene!). Para ello, usa la opción correspondiente del menú desplegable que aparece al pinchar la carpeta con el botón derecho del ratón."
   ]
  },
  {
   "cell_type": "markdown",
   "metadata": {
    "id": "AxBwSgbZqU3O"
   },
   "source": [
    "Añade la ruta de esta carpeta compartida a la ruta de búsqueda de Python."
   ]
  },
  {
   "cell_type": "code",
   "execution_count": null,
   "metadata": {
    "id": "q5T200mJqU3O"
   },
   "outputs": [],
   "source": [
    "import sys\n",
    "Mpath = '/content/drive/MyDrive/ProgramasFAyM'\n",
    "#Mpath = '/content/drive/My Drive/ProgramasFAyM'\n",
    "#Mpath = '/drive/MyDrive/ProgramasFAyM'\n",
    "#Mpath = '/drive/My Drive/ProgramasFAyM'\n",
    "sys.path.append(Mpath)"
   ]
  },
  {
   "cell_type": "markdown",
   "metadata": {
    "id": "mB5yFJyZTAVL"
   },
   "source": [
    "Importa el módulo donde se encuentra el código del programa y la librería numpy que es necesaria para algunos cálculos. Sólo es necesario hacerlo una vez, aunque el programa se ejecute varias veces.\n",
    "\n",
    "Si no encuentra el módulo puede significar que no se ha creado correctamente el acceso directo a la carpeta compartida o que la ruta de esta carpeta es diferente a lo indicado en la celda anterior. En este último caso, prueba alguna de las alternativas de `Mpath` quitando el símbolo `#` que tiene delante. Si esto sigue sin funcionar, abre el árbol de archivos (icono con forma de carpeta a la izquierda de esta ventana) del entorno de ejecución y busca el acceso directo a la carpeta compartida en tu unidad Drive. Al pinchar con el botón derecho sobre ella, aparece un menú desplegable con la opción `copiar ruta`, que permite hallar la ruta correcta para dar a la variable `Mpath`."
   ]
  },
  {
   "cell_type": "code",
   "execution_count": null,
   "metadata": {
    "id": "w2WkiQPnTGAL"
   },
   "outputs": [],
   "source": [
    "import atomictools as at\n",
    "import numpy as np"
   ]
  },
  {
   "cell_type": "markdown",
   "metadata": {
    "id": "01F47UHlvM-0"
   },
   "source": [
    "### Orbitales moleculares"
   ]
  },
  {
   "cell_type": "markdown",
   "metadata": {
    "id": "qURC0cfJxxuc"
   },
   "source": [
    "En este cuaderno vamos a construir y visualizar algunos orbitales moleculares, tanto enlazantes como antienlazantes, en la aproximación CLOA (Combinación Lineal de Orbitales Atómicos). Por simplicidad, usaremos orbitales de átomos monoelectrónicos. Podríamos usar orbitales de átomos polielectrónicos construidos a partir de las soluciones radiales numéricas para un potencial central adecuado (ver cuaderno de ejemplos de para átomos polielectrónicos), pero no cambia mucho la forma de los orbitales moleculares resultantes.\n",
    "\n",
    "Primero construimos los primeros orbitales del átomo de hidrógeno. Por conveniencia, tomaremos funciones angulares reales, es decir, usamos los orbitales $\\text{2p}_\\text{x}$, $\\text{2p}_\\text{y}$, $\\text{2p}_\\text{z}$, aunque se podrían tomar también armónicos esféricos (pruébalo!)."
   ]
  },
  {
   "cell_type": "code",
   "execution_count": null,
   "metadata": {
    "id": "yNSlpTBuBARA"
   },
   "outputs": [],
   "source": [
    "orb_1s = at.orbital_hydrog(n=1, l=0, m=0)\n",
    "orb_2s = at.orbital_hydrog(n=2, l=0, m=0)\n",
    "orb_2pz = at.orbital_hydrog(n=2, l=1, m=0, part=\"Re\")\n",
    "orb_2px = at.orbital_hydrog(n=2, l=1, m=1, part=\"Re\")\n",
    "orb_2py = at.orbital_hydrog(n=2, l=1, m=1, part=\"Im\")"
   ]
  },
  {
   "cell_type": "markdown",
   "metadata": {
    "id": "-iRBEp-LKZNi"
   },
   "source": [
    "A continuación, construimos los orbitales moleculares $\\sigma_\\text{g}$ y $\\sigma^*_\\text{u}$ a partir de dos orbitales atómicos $\\text{1s}$ centrados en posiciones distintas. Usamos la función `molecular_orbital`, al que tenemos que pasar las listas `orbitals`, `coefficients` y `centers`, donde la última lista debe tener las coordenadas cartesianas de los dos núcleos. Para la molécula H$_2^+$, la distancia internuclear de equilibrio en esta aproximación es $R=2.49\\,a_0$, aunque podemos probar otros valores."
   ]
  },
  {
   "cell_type": "code",
   "execution_count": null,
   "metadata": {
    "id": "kkMW3kiBAa_E"
   },
   "outputs": [],
   "source": [
    "R = 2.49\n",
    "sigma_g = at.molecular_orbital(orbitals=[orb_1s, orb_1s], coefficients=[1., 1.], centers=[(0.,0.,R/2), (0.,0.,-R/2)])\n",
    "sigma_u = at.molecular_orbital(orbitals=[orb_1s, orb_1s], coefficients=[1., -1.], centers=[(0.,0.,R/2), (0.,0.,-R/2)])"
   ]
  },
  {
   "cell_type": "markdown",
   "metadata": {
    "id": "0x7vjZKMyIEu"
   },
   "source": [
    "Se pueden visualizar usando la función `plot_volume` o `plot_scatter`"
   ]
  },
  {
   "cell_type": "code",
   "execution_count": null,
   "metadata": {
    "colab": {
     "base_uri": "https://localhost:8080/",
     "height": 1000
    },
    "id": "tZrRCTTL4Ouo",
    "outputId": "74a39058-2a6c-4e58-9155-1f848befc333"
   },
   "outputs": [],
   "source": [
    "#sigma_g.plot_volume()\n",
    "#sigma_u.plot_volume()\n",
    "sigma_g.plot_scatter()\n",
    "sigma_u.plot_scatter()"
   ]
  },
  {
   "cell_type": "markdown",
   "metadata": {
    "id": "2HMtCpjlyvj9"
   },
   "source": [
    "Probamos ahora combinaciones de orbitales $\\text{2p}$. Esperamos una distancia internuclear mayor, así que podemos probar con $R=8\\,a_0$.\n",
    "\n",
    "Primero los orbitales $\\sigma\\,\\text{2p}$ enlanzante y antienlazante. Notar que los coeficientes de combinación lineal tienen el signo cambiado para el orbital par y el mismo signo para el orbital impar. "
   ]
  },
  {
   "cell_type": "code",
   "execution_count": null,
   "metadata": {
    "colab": {
     "base_uri": "https://localhost:8080/",
     "height": 1000
    },
    "id": "lO8Q5EwPzAdN",
    "outputId": "096e0da7-6d25-4f30-c01e-47c466fdf96c"
   },
   "outputs": [],
   "source": [
    "R = 8.\n",
    "sigma_g_2p = at.molecular_orbital(orbitals=[orb_2pz, orb_2pz], coefficients=[1., -1.], centers=[(0.,0.,R/2), (0.,0.,-R/2)])\n",
    "sigma_u_2p = at.molecular_orbital(orbitals=[orb_2pz, orb_2pz], coefficients=[1., 1.], centers=[(0.,0.,R/2), (0.,0.,-R/2)])\n",
    "\n",
    "sigma_g_2p.plot_volume()\n",
    "sigma_u_2p.plot_volume()\n",
    "#sigma_g_2p.plot_scatter()\n",
    "#sigma_u_2p.plot_scatter()"
   ]
  },
  {
   "cell_type": "markdown",
   "metadata": {
    "id": "ws1IHK33zTc1"
   },
   "source": [
    "Orbitales $\\pi\\,\\text{2p}$"
   ]
  },
  {
   "cell_type": "code",
   "execution_count": null,
   "metadata": {
    "colab": {
     "base_uri": "https://localhost:8080/",
     "height": 1000
    },
    "id": "B9Y9FF9fB14i",
    "outputId": "046fcb7e-51fa-4778-9cf1-2d2916c874d8"
   },
   "outputs": [],
   "source": [
    "R = 8.\n",
    "pi_u_2px = at.molecular_orbital(orbitals=[orb_2px, orb_2px], coefficients=[1., 1.], centers=[(0.,0.,R/2), (0.,0.,-R/2)])\n",
    "pi_g_2px = at.molecular_orbital(orbitals=[orb_2px, orb_2px], coefficients=[1., -1.], centers=[(0.,0.,R/2), (0.,0.,-R/2)])\n",
    "\n",
    "pi_u_2px.plot_volume()\n",
    "pi_g_2px.plot_volume()\n",
    "#pi_u_2px.plot_scatter()\n",
    "#pi_g_2px.plot_scatter()"
   ]
  },
  {
   "cell_type": "markdown",
   "metadata": {
    "id": "nR-wi4SA3sPD"
   },
   "source": [
    "Podemos construir también un orbital molecular de una molécula polar. Por ejemplo, combinando un orbital $\\text{1s}$ con un orbital $\\text{2s}$. Esta sería la situación de la molécula de Li H, aunque en lugar de tomar el orbital $\\text{2s}$ calculado para un potencial central adecuado para el Li, usaremos por simplicidad el orbital $\\text{2s}$ del H, que será parecido. Además, suponemos un peso mayor para el orbital $\\text{1s}$ del H que para el $\\text{2s}$ del Li, por ser el H más electronegativo."
   ]
  },
  {
   "cell_type": "code",
   "execution_count": null,
   "metadata": {
    "colab": {
     "base_uri": "https://localhost:8080/",
     "height": 542
    },
    "id": "Mh1qyQqvCJWP",
    "outputId": "fcbb2664-c6c9-4470-cda1-373d7eed194f"
   },
   "outputs": [],
   "source": [
    "R = 5.\n",
    "orb = at.molecular_orbital(orbitals=[orb_1s, orb_2s], coefficients=[2., 1.], centers=[(0.,0.,R/2), (0.,0.,-R/2)])\n",
    "orb.plot_volume()"
   ]
  },
  {
   "cell_type": "markdown",
   "metadata": {
    "id": "OnLwW-OlDni5"
   },
   "source": [
    "Por último, podemos simular el orbital $\\text{1a}_1$ de la molécula H$_2$O, que resulta de una combinación simétrica de los orbitales $\\text{1s}$ del H, que se combina a su vez con el orbital $\\text{2s}$ del O, el cual aproximaremos con el del H y le daremos un mayor peso. Hay que tener en cuenta además la geometría tridimensional de la molécula para construir este orbital, donde se han elegido distancias internucleares apropiadas para una mejor visualización, aunque el resultado no sea del todo realista."
   ]
  },
  {
   "cell_type": "code",
   "execution_count": null,
   "metadata": {
    "colab": {
     "base_uri": "https://localhost:8080/",
     "height": 542
    },
    "id": "nbFUJoPD5GUV",
    "outputId": "6804c407-6b23-46c5-cadf-0b7d8e0e9877"
   },
   "outputs": [],
   "source": [
    "x_O = 0.\n",
    "y_O = 0.\n",
    "z_O = 0.5\n",
    "R_O = (x_O, y_O, z_O)\n",
    "R_OH = 2.\n",
    "angle = 104.5 * np.pi / 180.\n",
    "x_H1 = R_OH * np.sin(angle/2.)\n",
    "x_H2 = -x_H1\n",
    "y_H1 = 0.\n",
    "y_H2 = 0.\n",
    "z_H1 = -R_OH * np.cos(angle/2.)\n",
    "z_H2 = z_H1\n",
    "R_H1 = (x_H1, y_H1, z_H1)\n",
    "R_H2 = (x_H2, y_H2, z_H2)\n",
    "\n",
    "orb = at.molecular_orbital(orbitals=[orb_1s, orb_1s, orb_2s], coefficients=[1., 1., 3.], centers=[R_H1, R_H2, R_O])\n",
    "orb.plot_volume()"
   ]
  },
  {
   "cell_type": "markdown",
   "metadata": {
    "id": "e6f-sUUC4v_H"
   },
   "source": [
    "### Orbitales híbridos"
   ]
  },
  {
   "cell_type": "markdown",
   "metadata": {
    "id": "NpMdIZU54zYV"
   },
   "source": [
    "En el método de enlace-valencia, se asume que cada electrón se encuentra en un orbital atómico (no molecular) y se producen enlaces entre los orbitales de los distintos átomos. Para tener en cuenta el efecto de un átomo sobre otro y la geometría de la molécula resultante, se asume que los orbitales atómicos se pueden hibridar. De hecho, ya hemos obtenido estos orbitales híbridos en otro cuaderno donde estudiábamos cómo un campo electrostático deforma los orbitales del átomos de H (efecto Stark).\n",
    "\n",
    "Veamos aquí los 3 módelos de hibridación típicos de átomos como el C. Para ello, usaremos de nuevo los orbitales del átomo de H por simplicidad. Visualizamos sólo uno de cada tipo porque sólo cambia su orientación."
   ]
  },
  {
   "cell_type": "code",
   "execution_count": null,
   "metadata": {
    "colab": {
     "base_uri": "https://localhost:8080/",
     "height": 542
    },
    "id": "hSV3NDnNELM-",
    "outputId": "51417fdb-d6cf-4fc8-9bdd-8a7b622722f9"
   },
   "outputs": [],
   "source": [
    "# orbitales sp\n",
    "orb_sp_1 = at.hybrid_orbital(orbitals=[orb_2s, orb_2pz], coefficients=[1., 1.])\n",
    "orb_sp_1.plot_volume()\n",
    "#orb_sp_2 = at.hybrid_orbital(orbitals=[orb_2s, orb_2pz], coefficients=[1., -1.])\n",
    "#orb_sp_2.plot_volume()"
   ]
  },
  {
   "cell_type": "markdown",
   "metadata": {
    "id": "WSiapHlc93PX"
   },
   "source": [
    "Este ejemplo no está funcionando correctamente!!"
   ]
  },
  {
   "cell_type": "code",
   "execution_count": null,
   "metadata": {
    "colab": {
     "base_uri": "https://localhost:8080/",
     "height": 542
    },
    "id": "vxcmuFbK6uv4",
    "outputId": "e6c258f5-3dff-4477-9d00-0bba730e736e"
   },
   "outputs": [],
   "source": [
    "# orbitales sp2\n",
    "#orb_sp2_1 = at.hybrid_orbital(orbitals=[orb_2s, orb_2px], coefficients=[1., np.sqrt(2.)])\n",
    "#orb_sp2_1.plot_volume()\n",
    "#orb_sp2_2 = at.hybrid_orbital(orbitals=[orb_2s, orb_2px, orb_2py], coefficients=[1., -1./np.sqrt(2.), np.sqrt(3./2.)])\n",
    "#orb_sp2_2.plot_volume()\n",
    "orb_sp2_3 = at.hybrid_orbital(orbitals=[orb_2s, orb_2px, orb_2py], coefficients=[1., -1./np.sqrt(2.), -np.sqrt(3./2.)])\n",
    "orb_sp2_3.plot_volume()"
   ]
  },
  {
   "cell_type": "code",
   "execution_count": null,
   "metadata": {
    "id": "eVYpUXhD8Db7"
   },
   "outputs": [],
   "source": []
  }
 ],
 "metadata": {
  "colab": {
   "provenance": []
  },
  "kernelspec": {
   "display_name": "Python 3",
   "language": "python",
   "name": "python3"
  },
  "language_info": {
   "codemirror_mode": {
    "name": "ipython",
    "version": 3
   },
   "file_extension": ".py",
   "mimetype": "text/x-python",
   "name": "python",
   "nbconvert_exporter": "python",
   "pygments_lexer": "ipython3",
   "version": "3.8.5"
  }
 },
 "nbformat": 4,
 "nbformat_minor": 1
}
