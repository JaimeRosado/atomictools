{
  "cells": [
    {
      "cell_type": "markdown",
      "metadata": {
        "id": "-szsuPknqU3H"
      },
      "source": [
        "# Orbitales de átomos polielectrónicos\n",
        "Autores: Alejandro Villar y Jaime Rosado"
      ]
    },
    {
      "cell_type": "markdown",
      "metadata": {
        "id": "H-8oi9qXqU3L"
      },
      "source": [
        "### Comandos para ejecutar este cuaderno desde Google Colab"
      ]
    },
    {
      "cell_type": "markdown",
      "metadata": {
        "id": "V8srfIQhqU3M"
      },
      "source": [
        "Clona el repositorio de GitHub donde está alojada la librería `atomictools`."
      ]
    },
    {
      "cell_type": "code",
      "execution_count": null,
      "metadata": {
        "id": "IjZt0V9SqU3M"
      },
      "outputs": [],
      "source": [
        "!git clone https://github.com/JaimeRosado/atomictools.git"
      ]
    },
    {
      "cell_type": "markdown",
      "metadata": {
        "id": "BcfFvElcqU3O"
      },
      "source": [
        "Al pinchar en el icono en forma de carpeta en el menú de la izquierda de la pantalla, se abre un árbol de archivos donde debería aparecer una carpeta llamada `atomictools`. Añade la ruta de esta carpeta en la búsqueda de Python."
      ]
    },
    {
      "cell_type": "code",
      "execution_count": null,
      "metadata": {
        "id": "q5T200mJqU3O"
      },
      "outputs": [],
      "source": [
        "import sys\n",
        "sys.path.insert(0,'/content/atomictools')"
      ]
    },
    {
      "cell_type": "markdown",
      "metadata": {
        "id": "mB5yFJyZTAVL"
      },
      "source": [
        "Ahora importa la librería `atomictools` con el alias `at` y la librería `numpy` como `np`."
      ]
    },
    {
      "cell_type": "code",
      "execution_count": null,
      "metadata": {
        "id": "w2WkiQPnTGAL"
      },
      "outputs": [],
      "source": [
        "import atomictools as at\n",
        "import numpy as np"
      ]
    },
    {
      "cell_type": "markdown",
      "source": [
        "### Soluciones para átomos polielectrónicos"
      ],
      "metadata": {
        "id": "ZRtctSRwj7Ql"
      }
    },
    {
      "cell_type": "markdown",
      "source": [
        "En la misma carpeta compartida donde está la librería, hay unos ficheros de ejmplo que contienen las soluciones numéricas a la ecuación de Schrödinger radial con un modelo de potencial central para el átomo de carbono. Hay un fichero para cada nivel ocupado del átomo en su configuración fundamental 1s$^2$ 2s$^2$ 2p$^2$.\n",
        "\n",
        "A continuación pasa la ruta de estos ficheros a la función `R_num` para cargar la función radial en este entorno de trabajo."
      ],
      "metadata": {
        "id": "qURC0cfJxxuc"
      }
    },
    {
      "cell_type": "code",
      "source": [
        "C_1s_num = at.R_num('/content/atomictools/files/C_1s.txt')\n",
        "C_2s_num = at.R_num('/content/atomictools/files/C_2s.txt')\n",
        "C_2p_num = at.R_num('/content/atomictools/files/C_2p.txt')"
      ],
      "metadata": {
        "id": "rES1SsvT3cji"
      },
      "execution_count": null,
      "outputs": []
    },
    {
      "cell_type": "markdown",
      "source": [
        "Vamos a comparar estas soluciones numéricas con las soluciones hidrogenoides para un potencial coulombiano de carga $Z=6$.\n",
        "\n",
        "Obtenemos primero las funciones radiales hidrogenoides con la función `R_hydog`."
      ],
      "metadata": {
        "id": "OCR43_CFzdJh"
      }
    },
    {
      "cell_type": "code",
      "source": [
        "C_1s_Z = at.R_hydrog(n=1, l=0, Z=6)\n",
        "C_2s_Z = at.R_hydrog(n=2, l=0, Z=6)\n",
        "C_2p_Z = at.R_hydrog(n=2, l=1, Z=6)"
      ],
      "metadata": {
        "id": "yNSlpTBuBARA"
      },
      "execution_count": null,
      "outputs": []
    },
    {
      "cell_type": "markdown",
      "source": [
        "A continuación, comparamos gráficamente los resultados. Para el nivel 1s, no se aprecian grandes diferencias entre la solución numérica y la solución hidrogenoide (nótese que la escala horizontal es distinta).\n",
        "Para los otros niveles sí se aprecian diferencias claras en las posiciones de los nodos y los máximos de probabilidad, sobre todo para el nivel 2p, donde el desplazamiento del máximo es muy notable. Esto se debe al apantallamiento que producen los electrones más internos."
      ],
      "metadata": {
        "id": "-iRBEp-LKZNi"
      }
    },
    {
      "cell_type": "code",
      "source": [
        "#C_1s_num.plot_P()\n",
        "#C_2s_num.plot_P()\n",
        "C_2p_num.plot_P()\n",
        "\n",
        "#C_1s_Z.plot_P()\n",
        "#C_2s_Z.plot_P()\n",
        "C_2p_Z.plot_P()"
      ],
      "metadata": {
        "id": "kkMW3kiBAa_E"
      },
      "execution_count": null,
      "outputs": []
    },
    {
      "cell_type": "markdown",
      "source": [
        "Podemos construir orbitales con la función `orbital` a partir de las funciones radiales numéricas anteriores y los armónicos esféricos correspondientes (o funciones angulares radiales)."
      ],
      "metadata": {
        "id": "0x7vjZKMyIEu"
      }
    },
    {
      "cell_type": "code",
      "source": [
        "Y00 = at.spherical_harmonic(l=0, m=0)\n",
        "Y10 = at.spherical_harmonic(l=1, m=0)\n",
        "Y11 = at.spherical_harmonic(l=1, m=1)\n",
        "Y1_1 = at.spherical_harmonic(l=1, m=-1)\n",
        "\n",
        "orb_1s = at.orbital(f_rad=C_1s_num, f_ang=Y00)\n",
        "orb_2s = at.orbital(f_rad=C_2s_num, f_ang=Y00)\n",
        "orb_2p0 = at.orbital(f_rad=C_2p_num, f_ang=Y10)\n",
        "orb_2p1 = at.orbital(f_rad=C_2p_num, f_ang=Y11)\n",
        "orb_2p_1 = at.orbital(f_rad=C_2p_num, f_ang=Y1_1)"
      ],
      "metadata": {
        "id": "tZrRCTTL4Ouo"
      },
      "execution_count": null,
      "outputs": []
    },
    {
      "cell_type": "markdown",
      "source": [
        "La visualización 3D es muy similar a la de un orbital del átomo de hidrógono. La principal diferencia es el tamaño del orbital."
      ],
      "metadata": {
        "id": "2HMtCpjlyvj9"
      }
    },
    {
      "cell_type": "code",
      "source": [
        "#orb_1s.plot_volume()\n",
        "#orb_2s.plot_volume()\n",
        "orb_2p0.plot_volume()\n",
        "#orb_2p1.plot_volume()\n",
        "#orb_2p_1.plot_volume()"
      ],
      "metadata": {
        "id": "lO8Q5EwPzAdN"
      },
      "execution_count": null,
      "outputs": []
    },
    {
      "cell_type": "markdown",
      "source": [
        "### Distribución espacial de carga de un átomo"
      ],
      "metadata": {
        "id": "qxxNZ29DmvQR"
      }
    },
    {
      "cell_type": "markdown",
      "source": [
        "No se puede visualizar la distribución de probabilidad de todos los electrones del átomo (es una distribución en $6\\cdot 3=18$ dimensiones!!). Pero sí es fácil obtener la distribución espacial de carga. Ésta se obtiene sumando las distribuciones espaciales de probabilidad de todos los orbitales ocupados (sumando también sobre espines). Nótese que el resultado dependerá del estado en que se encuentre el átomo. Asumiendo que el estado se describe por un determinante de Slater, se obtiene el siguiente resultado."
      ],
      "metadata": {
        "id": "ws1IHK33zTc1"
      }
    },
    {
      "cell_type": "code",
      "source": [
        "orb = at.orbital_hydrog(n=1, l=0, m=0) # Sólo es para generar un objeto de tipo orbital\n",
        "# Niveles 1s2 2s2\n",
        "orb.prob = 2. * orb_1s.prob + 2. * orb_2s.prob\n",
        "# Determinante (0+ 0-)\n",
        "#orb.prob += 2. * orb_2p0.prob\n",
        "# Determinante (1+ 0+)\n",
        "orb.prob += 1. * orb_2p1.prob + 1. * orb_2p0.prob\n",
        "orb.plot_volume()"
      ],
      "metadata": {
        "id": "B9Y9FF9fB14i"
      },
      "execution_count": null,
      "outputs": []
    },
    {
      "cell_type": "markdown",
      "source": [
        "Para todos los estados se obtiene básicamente la misma figura porque la distribución del orbital 1s está mucho más concentrada que la de los orbitales apantallados 2s y 2p, que no se aprecian por la escala de colores del plot de volumen.\n",
        "\n",
        "Si nos centramos ahora en los electrones de valencia 2p, la distribución de carga es la siguiente. Nótese el cambio de escala en la densidad de probabilidad de la barra de colores."
      ],
      "metadata": {
        "id": "nR-wi4SA3sPD"
      }
    },
    {
      "cell_type": "code",
      "source": [
        "orb = at.orbital_hydrog(n=1, l=0, m=0) # Sólo es para generar un objeto de tipo orbital\n",
        "# Determinante (0+ 0-)\n",
        "#orb.prob = 2. * orb_2p0.prob\n",
        "# Determinante (1+ 0+)\n",
        "orb.prob = 1. * orb_2p1.prob + 1. * orb_2p0.prob\n",
        "orb.plot_volume()"
      ],
      "metadata": {
        "id": "Mh1qyQqvCJWP"
      },
      "execution_count": null,
      "outputs": []
    },
    {
      "cell_type": "markdown",
      "source": [
        "Un último resultado interesante que se puede obtener en este ejemplo es demostrar que la distribución espacial de carga de un nivel completo tiene simetría esférica. Para ello, sumamos las distribuciones de probabilidad de los 3 orbitales 2p (6 si tenemos en cuenta las orientaciones de espín)."
      ],
      "metadata": {
        "id": "OnLwW-OlDni5"
      }
    },
    {
      "cell_type": "code",
      "source": [
        "orb = at.orbital_hydrog(n=1, l=0, m=0) # Sólo es para generar un objeto de tipo orbital\n",
        "orb.prob = 2. * orb_2p0.prob + 2. * orb_2p1.prob + 2. * orb_2p_1.prob\n",
        "orb.plot_volume()"
      ],
      "metadata": {
        "id": "nbFUJoPD5GUV"
      },
      "execution_count": null,
      "outputs": []
    },
    {
      "cell_type": "markdown",
      "source": [
        "### Usa tus propias soluciones"
      ],
      "metadata": {
        "id": "0IRx_WAxm63I"
      }
    },
    {
      "cell_type": "markdown",
      "source": [
        "Puedes usar tus propios ficheros obtenidos con el programa `orbiats` de las prácticas de cálculo. Para ello, abre el árbol de archivos (icono con forma de carpeta del menú de la izquierda) y pincha en el icono de la hoja con una flecha hacia arriba (subir al almacenamiento de sesión). A continuación, busca en tu disco un archivo con una solución que hayas obtenido tú. Una vez hecho esto, puedes cargar la solución usando la función `R_num`. En este caso, es suficiente con poner el nombre del archivo, como se muestra en el ejemplo de abajo, que sólo funciona si previamente se ha subido un fichero con ese nombre."
      ],
      "metadata": {
        "id": "5DRkZmBTm_dn"
      }
    },
    {
      "cell_type": "code",
      "source": [
        "C_1s_num = at.R_num('sample.txt')"
      ],
      "metadata": {
        "id": "hSV3NDnNELM-"
      },
      "execution_count": null,
      "outputs": []
    },
    {
      "cell_type": "code",
      "source": [],
      "metadata": {
        "id": "dU2bP8TPo_54"
      },
      "execution_count": null,
      "outputs": []
    }
  ],
  "metadata": {
    "colab": {
      "provenance": []
    },
    "kernelspec": {
      "display_name": "Python 3",
      "language": "python",
      "name": "python3"
    },
    "language_info": {
      "codemirror_mode": {
        "name": "ipython",
        "version": 3
      },
      "file_extension": ".py",
      "mimetype": "text/x-python",
      "name": "python",
      "nbconvert_exporter": "python",
      "pygments_lexer": "ipython3",
      "version": "3.8.5"
    }
  },
  "nbformat": 4,
  "nbformat_minor": 0
}