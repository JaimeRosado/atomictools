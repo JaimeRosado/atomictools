{
 "cells": [
  {
   "cell_type": "markdown",
   "metadata": {
    "id": "-szsuPknqU3H"
   },
   "source": [
    "# Visualización de orbitales atómicos\n",
    "Autores: Alejandro Villar y Jaime Rosado"
   ]
  },
  {
   "cell_type": "markdown",
   "metadata": {
    "id": "H-8oi9qXqU3L"
   },
   "source": [
    "### Comandos para ejecutar este cuaderno desde Google Colab"
   ]
  },
  {
   "cell_type": "markdown",
   "metadata": {
    "id": "V8srfIQhqU3M"
   },
   "source": [
    "Monta la unidad de Google Drive asociada a tu **cuenta UCM**. Hay que dar permisos a Colab para que acceda al Drive."
   ]
  },
  {
   "cell_type": "code",
   "execution_count": null,
   "metadata": {
    "colab": {
     "base_uri": "https://localhost:8080/"
    },
    "id": "IjZt0V9SqU3M",
    "outputId": "c8714bda-6629-4cc4-d100-64ee64486cc0"
   },
   "outputs": [],
   "source": [
    "from google.colab import drive\n",
    "drive.mount('/content/drive')"
   ]
  },
  {
   "cell_type": "markdown",
   "metadata": {
    "id": "BcfFvElcqU3O"
   },
   "source": [
    "Si no lo has hecho anteriormente, sigue este enlace para tener acceso a una carpeta compartida llamada 'ProgramasFAyM', la cual contiene los módulos donde está el código que se usa en este cuaderno.\n",
    "\n",
    "https://drive.google.com/drive/folders/1cSm1S8fYvurHPbSvcQqpm7sluvI1Ez9-?usp=sharing\n",
    "\n",
    "A continuación, **genera un acceso directo a esta carpeta** en el directorio principal de tu unidad de Google Drive (¡ojo, a la carpeta, no a los ficheros que contiene!). Para ello, usa la opción correspondiente del menú desplegable que aparece al pinchar la carpeta con el botón derecho del ratón. Una vez tengas este acceso directo en tu unidad de Drive, no tienes que volver a hacer este paso."
   ]
  },
  {
   "cell_type": "markdown",
   "metadata": {
    "id": "AxBwSgbZqU3O"
   },
   "source": [
    "Añade la ruta de esta carpeta compartida a la ruta de búsqueda de Python."
   ]
  },
  {
   "cell_type": "code",
   "execution_count": null,
   "metadata": {
    "id": "q5T200mJqU3O"
   },
   "outputs": [],
   "source": [
    "import sys\n",
    "Mpath = '/content/drive/MyDrive/ProgramasFAyM'\n",
    "#Mpath = '/content/drive/My Drive/ProgramasFAyM'\n",
    "#Mpath = '/drive/MyDrive/ProgramasFAyM'\n",
    "#Mpath = '/drive/My Drive/ProgramasFAyM'\n",
    "sys.path.append(Mpath)"
   ]
  },
  {
   "cell_type": "markdown",
   "metadata": {
    "id": "mB5yFJyZTAVL"
   },
   "source": [
    "Importa el módulo donde se encuentra el código del programa. Sólo es necesario hacerlo una vez, aunque el programa se ejecute varias veces.\n",
    "\n",
    "Si no encuentra el módulo puede significar que no se ha creado correctamente el acceso directo a la carpeta compartida o que la ruta de esta carpeta es diferente a lo indicado en la celda anterior. En este último caso, prueba alguna de las alternativas de `Mpath` quitando el símbolo `#` que tiene delante. Si esto sigue sin funcionar, abre el árbol de archivos (icono con forma de carpeta a la izquierda de esta ventana) del entorno de ejecución y busca el acceso directo a la carpeta compartida en tu unidad Drive. Al pinchar con el botón derecho sobre ella, aparece un menú desplegable con la opción `copiar ruta`, que permite hallar la ruta correcta para dar a la variable `Mpath`."
   ]
  },
  {
   "cell_type": "code",
   "execution_count": null,
   "metadata": {
    "id": "w2WkiQPnTGAL"
   },
   "outputs": [],
   "source": [
    "import atomictools as at"
   ]
  },
  {
   "cell_type": "markdown",
   "metadata": {
    "id": "spQnTYiOqU3P"
   },
   "source": [
    "### Funciones angulares"
   ]
  },
  {
   "cell_type": "markdown",
   "metadata": {
    "id": "8XYIMhM3qU3R"
   },
   "source": [
    "Construye un armónico esférico. Para ello, hay que pasar a la siguiente función `spherical_harmonic` los números cuánticos $l$ y $m$ deseados."
   ]
  },
  {
   "cell_type": "code",
   "execution_count": null,
   "metadata": {
    "id": "13slnVQ7eoW-"
   },
   "outputs": [],
   "source": [
    "Y = at.spherical_harmonic(l=2, m=1)"
   ]
  },
  {
   "cell_type": "markdown",
   "metadata": {
    "id": "mhGgU-HeeoW_"
   },
   "source": [
    "El objeto creado permite visualizar el armónico esférico de dos maneras diferentes:\n",
    "- La distribución de probabilidad por ángulo sólido, es decir $|Y|^2$.\n",
    "- La función compleja $Y$, donde la escala de colores representa la fase compleja.\n",
    "\n",
    "En ambas representaciones, la figura 3d generada es interactiva. Se puede girar arrastrando con el ratón o hacer zoom usando la rueda del ratón. Además, hay unos botones en la parte superior derecha que permiten mover los ejes, volver a la visualización por defecto, etc."
   ]
  },
  {
   "cell_type": "code",
   "execution_count": null,
   "metadata": {
    "colab": {
     "base_uri": "https://localhost:8080/",
     "height": 542
    },
    "id": "tM8ZrvcIeoW_",
    "outputId": "ad54ed8b-c026-46a9-d265-80c65ba69d36"
   },
   "outputs": [],
   "source": [
    "# Distribución de probabilidad\n",
    "Y.plot_prob()"
   ]
  },
  {
   "cell_type": "code",
   "execution_count": null,
   "metadata": {
    "colab": {
     "base_uri": "https://localhost:8080/",
     "height": 542
    },
    "id": "owgfoilpeoXA",
    "outputId": "a94ba6d7-6999-4eda-b42f-fb8ccc390270"
   },
   "outputs": [],
   "source": [
    "# Función compleja\n",
    "Y.plot_phase()"
   ]
  },
  {
   "cell_type": "markdown",
   "metadata": {
    "id": "QlUTvv7NLeg0"
   },
   "source": [
    "También se pueden construir funciones angulares reales (partes real o imaginaria de armónicos esféricos). Para ello, hay que pasar a la siguiente función `real_ang_function` los números cuánticos $l$ y $m$ (valor absoluto) e indicar la orientación del orbital, es decir, si se toma la parte real o imaginaria del armónico esférico correspondiente. Para ello, hay que introducir `part=\"Re\"` (opción por defector) o `part=\"Im\"`."
   ]
  },
  {
   "cell_type": "code",
   "execution_count": null,
   "metadata": {
    "id": "7HC0cpFILdQV"
   },
   "outputs": [],
   "source": [
    "ang_f = at.real_ang_function(l=2, m=1, part=\"Re\")"
   ]
  },
  {
   "cell_type": "markdown",
   "metadata": {
    "id": "_ca7sTcNMisU"
   },
   "source": [
    "El objeto creado permite los mismos tipos de visualización que para armónicos esféricos. Nótese que al ser funciones reales, `plot_phase` representa la función en sólo dos colores: azul para la parte positiva (fase=0) y rojo para la parte negativa (fase=$\\pi$)."
   ]
  },
  {
   "cell_type": "code",
   "execution_count": null,
   "metadata": {
    "colab": {
     "base_uri": "https://localhost:8080/",
     "height": 542
    },
    "id": "6ClPkRdMM-3H",
    "outputId": "9f9d1e72-9c89-4929-e24b-ab9fb5def69c"
   },
   "outputs": [],
   "source": [
    "# Distribución de probabilidad\n",
    "ang_f.plot_prob()"
   ]
  },
  {
   "cell_type": "code",
   "execution_count": null,
   "metadata": {
    "colab": {
     "base_uri": "https://localhost:8080/",
     "height": 542
    },
    "id": "89WEIxJiNHMW",
    "outputId": "145bbdd8-842f-4c31-9a80-fc3932163cd4"
   },
   "outputs": [],
   "source": [
    "# Función compleja\n",
    "ang_f.plot_phase()"
   ]
  },
  {
   "cell_type": "markdown",
   "metadata": {
    "id": "fEe_vgzuMMQb"
   },
   "source": [
    "Por último, se pueden generar funciones angulares como combinación lineal de armónicos esféricos o de funciones angulares reales. Para eso, hay que introducir a la siguiente función `comb_ang_function` una lista de funciones angulares `functions` y sus coeficientes `coefficients`. Para cada función angular, hay que indicar entre paréntesis los parámetros `l`, `m` y `part` (`part` es sólo para funciones reales, si se omite se asume un armónico esférico). Los coeficientes no necesitan estar normalizados y pueden ser complejos."
   ]
  },
  {
   "cell_type": "code",
   "execution_count": null,
   "metadata": {
    "colab": {
     "base_uri": "https://localhost:8080/",
     "height": 542
    },
    "id": "hVFQNA2hMb9z",
    "outputId": "8a7b1e76-7ea7-4ce2-e35b-434832f87629"
   },
   "outputs": [],
   "source": [
    "comb_f = at.comb_ang_function(functions=[(1, 1, \"Re\"), (1, 0, \"Re\")], coefficients=[1., 1j])\n",
    "comb_f.plot_phase()"
   ]
  },
  {
   "cell_type": "markdown",
   "metadata": {
    "id": "2sdpiwK7eoXA"
   },
   "source": [
    "### Funciones radiales"
   ]
  },
  {
   "cell_type": "markdown",
   "metadata": {
    "id": "o-heg2z1eoXB"
   },
   "source": [
    "Construye la solución a la ecuación de Schrödinger radial para un átomo de un solo electrón. Para ello pasa a la siguiente función `R_hydrog` los números cuánticos $n$ y $l$ deseados.\n",
    "\n",
    "Por defecto, se asume el átomo de hidrógeno ($Z=1$) con un núcleo de masa infinita (masa reducida $\\mu=m_e$)."
   ]
  },
  {
   "cell_type": "code",
   "execution_count": null,
   "metadata": {
    "id": "p1LFF55ReoXB"
   },
   "outputs": [],
   "source": [
    "R = at.R_hydrog(n=3, l=2)"
   ]
  },
  {
   "cell_type": "markdown",
   "metadata": {
    "id": "GNSH0SLKeoXC"
   },
   "source": [
    "El objeto creado permite hacer distintas visualizaciones:\n",
    "- La función $R$ frente a la distancia $r$ entre el electrón y el núcleo.\n",
    "- La función $P=r\\cdot R$ frente a $r$.\n",
    "- La función $R^2$ (distribución de probabilidad volumétrica) frente a $r$.\n",
    "- La función $P^2$ (distribución de probabilidad radial) frente a $r$.\n",
    "\n",
    "En este caso, la figuras son 2d y por tanto no puede rotarse, pero se puede hacer zoom in/out sobre ellas, mover los ejes, etc."
   ]
  },
  {
   "cell_type": "code",
   "execution_count": null,
   "metadata": {
    "colab": {
     "base_uri": "https://localhost:8080/",
     "height": 542
    },
    "id": "7UXNQHvweoXC",
    "outputId": "dc33934f-5646-4fa9-b120-ab5edbf02af5"
   },
   "outputs": [],
   "source": [
    "R.plot_R()\n",
    "#R.plot_P()\n",
    "#R.plot_R2()\n",
    "#R.plot_P2()"
   ]
  },
  {
   "cell_type": "markdown",
   "metadata": {
    "id": "J-R_iNdZeoXC"
   },
   "source": [
    "La misma función `R_hydrog` permite obtener las funciones radiales para cualquier átomo de un sólo electrón introduciendo el valor correspondiente de $Z$ o incluso átomos exóticos formados por dos partículas de signo opuesto. Por ejemplo, el positronio está formado por un electrón y un positrón y su masa reducida es $\\mu=m_e/2$. Para obtener una función radial del positronio, pasa a la función `mu=0.5`."
   ]
  },
  {
   "cell_type": "code",
   "execution_count": null,
   "metadata": {
    "colab": {
     "base_uri": "https://localhost:8080/",
     "height": 542
    },
    "id": "cT2jTmIkeoXD",
    "outputId": "8790a763-8a58-41e1-8556-91550f852943"
   },
   "outputs": [],
   "source": [
    "#R = at.R_hydrog(n=1, l=0, Z=2) # He+\n",
    "R = at.R_hydrog(n=3, l=2, mu=0.5) # Positronio\n",
    "R.plot_R()"
   ]
  },
  {
   "cell_type": "markdown",
   "metadata": {
    "id": "3brbbilgeoXD"
   },
   "source": [
    "### Orbitales"
   ]
  },
  {
   "cell_type": "markdown",
   "metadata": {
    "id": "8ja4a9K1-Z7A"
   },
   "source": [
    "Construye un orbital (con parte radial y angular, pero no espinorial) para un átomo de un solo electron. Para ello, pasa a la siguiente función `orbital_hydrog` los números cuánticos $n$, $l$ y $m$. Para tomar una función angular real en lugar de un armónico esférico, introduce además `part=\"Re\"` o `part=\"Im\"`. Esta función también admite los parámetros `Z`y `mu`.\n",
    "\n"
   ]
  },
  {
   "cell_type": "code",
   "execution_count": null,
   "metadata": {
    "id": "FHmnjCgbADBB"
   },
   "outputs": [],
   "source": [
    "orbital = at.orbital_hydrog(n=3, l=2, m=1, part=\"Im\")"
   ]
  },
  {
   "cell_type": "markdown",
   "metadata": {
    "id": "CnjlxE7FAnK5"
   },
   "source": [
    "El objeto creado permite visualizar la distribución espacial de probabilidad 3d del electrón de dos maneras distintas:\n",
    "- Una representación de \"volumen\" que consiste en isosuperficies de probabilidad semitransparentes en distintos colores.\n",
    "- Una distribución de puntos semitransparentes con posiciones aleatorias siguiendo la distribución de probabilidad volumétrica.\n",
    "\n",
    "Como en los casos anteriores, se puede interaccionar con la figura generada."
   ]
  },
  {
   "cell_type": "code",
   "execution_count": null,
   "metadata": {
    "colab": {
     "base_uri": "https://localhost:8080/",
     "height": 542
    },
    "id": "rasohJs4CR1t",
    "outputId": "07c911fb-0933-4710-d002-39321e5a596e"
   },
   "outputs": [],
   "source": [
    "orbital.plot_volume()"
   ]
  },
  {
   "cell_type": "code",
   "execution_count": null,
   "metadata": {
    "colab": {
     "base_uri": "https://localhost:8080/",
     "height": 542
    },
    "id": "Ob2SHasKCc_P",
    "outputId": "30b247ad-617d-455a-836f-c28b79dd1e6a"
   },
   "outputs": [],
   "source": [
    "orbital.plot_scatter()"
   ]
  },
  {
   "cell_type": "markdown",
   "metadata": {
    "id": "RjGOweK6DYA3"
   },
   "source": [
    "Esta función `plot_scatter` admite modificar el número de puntos y la opacidad con la que se ven a través de los parámetros `points` (1e4 por defecto, máximo 6.7e5) y `op` (0.05 por defecto, rango entre 0 y 1). Esto puede ser útil para poder ver mejor el átomo desde dentro al hacer zoom in."
   ]
  },
  {
   "cell_type": "code",
   "execution_count": null,
   "metadata": {
    "colab": {
     "base_uri": "https://localhost:8080/",
     "height": 542
    },
    "id": "qDRjYT4TE5T5",
    "outputId": "aae6b5dd-76c0-480b-b788-52f5770aac2a"
   },
   "outputs": [],
   "source": [
    "orbital = at.orbital_hydrog(n=4, l=2, m=0)\n",
    "orbital.plot_scatter(points=5e4, op=0.5)"
   ]
  },
  {
   "cell_type": "markdown",
   "metadata": {
    "id": "EkDZaRqQO25i"
   },
   "source": [
    "Con la función `orbital` se puede crear un orbital a partir de una función radial `f_rad` y una función angular `f_ang` ya creadas."
   ]
  },
  {
   "cell_type": "code",
   "execution_count": null,
   "metadata": {
    "colab": {
     "base_uri": "https://localhost:8080/",
     "height": 542
    },
    "id": "Ak2L1YiQFmuF",
    "outputId": "2a9ad4fa-b66d-40fd-d3fb-ce354b399475"
   },
   "outputs": [],
   "source": [
    "R_32 = at.R_hydrog(n=3, l=2)\n",
    "function = at.comb_ang_function(functions=[(2, 1), (2, 0)], coefficients=[1., 1.])\n",
    "orb = at.orbital(f_rad=R_32, f_ang=function)\n",
    "orb.plot_volume()"
   ]
  },
  {
   "cell_type": "markdown",
   "metadata": {
    "id": "gwYx2vLRQu1M"
   },
   "source": [
    "Además, la función `hybrid_orbital` permite crear un orbital como combinación lineal de otros orbitales ya creados. Para ello, hay que pasar una lista de orbitales al parámetro `orbitals` y los coeficientes de combinación lineal correspondientes al parámetro `coefficients`. El ejemplo de abajo ilustra los orbitales \"híbridos\" en los que se desdobla el nivel $n=2$ del átomo de hidrógeno por efecto Stark."
   ]
  },
  {
   "cell_type": "code",
   "execution_count": null,
   "metadata": {
    "colab": {
     "base_uri": "https://localhost:8080/",
     "height": 1000
    },
    "id": "hbiSw6OSWzjB",
    "outputId": "0204a0a1-f01f-46ea-ffb3-529182f7c7a5"
   },
   "outputs": [],
   "source": [
    "orb_200 = at.orbital_hydrog(2,0,0)\n",
    "orb_210 = at.orbital_hydrog(2,1,0)\n",
    "orbs = [orb_200, orb_210]\n",
    "comb1 = at.hybrid_orbital(orbitals=orbs, coefficients=[1.,1.])\n",
    "comb2 = at.hybrid_orbital(orbitals=orbs, coefficients=[1.,-1.])\n",
    "comb1.plot_volume()\n",
    "comb2.plot_volume()"
   ]
  },
  {
   "cell_type": "code",
   "execution_count": null,
   "metadata": {
    "id": "sJqJzw8PVdy4"
   },
   "outputs": [],
   "source": []
  }
 ],
 "metadata": {
  "colab": {
   "provenance": []
  },
  "kernelspec": {
   "display_name": "Python 3",
   "language": "python",
   "name": "python3"
  },
  "language_info": {
   "codemirror_mode": {
    "name": "ipython",
    "version": 3
   },
   "file_extension": ".py",
   "mimetype": "text/x-python",
   "name": "python",
   "nbconvert_exporter": "python",
   "pygments_lexer": "ipython3",
   "version": "3.8.5"
  }
 },
 "nbformat": 4,
 "nbformat_minor": 1
}
