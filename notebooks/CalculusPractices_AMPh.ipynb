{
 "cells": [
  {
   "cell_type": "markdown",
   "metadata": {},
   "source": [
    "# Numerical Calculus Practices\n",
    "###### Atomic and Molecular Physics, Jaime Rosado - UCM"
   ]
  },
  {
   "cell_type": "markdown",
   "metadata": {},
   "source": [
    "### Commands to run this notebook from Google Colab$^*$"
   ]
  },
  {
   "cell_type": "markdown",
   "metadata": {},
   "source": [
    "First, it is necessary to install a library that is not included by default in Colab and configure the graphical environment."
   ]
  },
  {
   "cell_type": "code",
   "execution_count": null,
   "metadata": {},
   "outputs": [],
   "source": [
    "!pip install ipympl\n",
    "from google.colab import output\n",
    "output.enable_custom_widget_manager()"
   ]
  },
  {
   "cell_type": "markdown",
   "metadata": {},
   "source": [
    "Clone the GitHub repository where the `atomictools` library is hosted."
   ]
  },
  {
   "cell_type": "code",
   "execution_count": null,
   "metadata": {},
   "outputs": [],
   "source": [
    "!git clone https://github.com/JaimeRosado/atomictools.git"
   ]
  },
  {
   "cell_type": "markdown",
   "metadata": {},
   "source": [
    "By clicking on the folder icon in the menu on the left side of the screen, a file tree will open, and a folder named `atomictool` should appear. Add the path of this folder to Python's search path."
   ]
  },
  {
   "cell_type": "code",
   "execution_count": null,
   "metadata": {},
   "outputs": [],
   "source": [
    "import sys\n",
    "sys.path.insert(0,'/content/atomictools')"
   ]
  },
  {
   "cell_type": "markdown",
   "metadata": {},
   "source": [
    "Now, configure the notebook to generate interactive plots and import the `atomictools` library with the alias `at`."
   ]
  },
  {
   "cell_type": "code",
   "execution_count": null,
   "metadata": {},
   "outputs": [],
   "source": [
    "%matplotlib widget\n",
    "import atomictools as at"
   ]
  },
  {
   "cell_type": "markdown",
   "metadata": {},
   "source": [
    "$^*$If you have Python and Jupyter installed, you can run the notebook from Jupyter instead of Colab. To do this, you need to download the `atomictools` library to your PC beforehand. Go to the page https://github.com/JaimeRosado/atomictools, click on the green`Code` button, and a dropdown menu will appear. Click on the `Download ZIP` option to download the library. Then, extract the contents of the ZIP file and move this notebook to the same folder where you extracted the library. Finally, open the notebook with Jupyter and run the above cell to import the library (the first three cells are only needed to run the notebook from Colab)."
   ]
  },
  {
   "cell_type": "markdown",
   "metadata": {},
   "source": [
    "### First Practice: Calculation of Atomic Orbitals with Two Potential Models"
   ]
  },
  {
   "cell_type": "markdown",
   "metadata": {},
   "source": [
    "Run the `calculate` program found in the`atomictools` library. By default, the program loads the input parameters and the solution to the Schrödinger equation for the $1s$ orbital of the Hydrogen atom. A figure is generated representing the function $P(r)$ in atomic units, including a detailed view of the function near the origin in an inset plot in the upper right corner. The figure updates each time a parameter is modified. Additionally, the figure itself has interactive buttons to change the scale, zoom in, etc. The house-shaped icon returns the scale to its original setting. However, if many scale changes have been made, it may be necessary to rerun the cell for the figure to display in auto-scale.\n",
    "\n",
    "The controls allow you to modify the potential model and parameters for solving the Schrödinger equation. Some parameters are fixed depending on the chosen potential model. You can enter numerical values directly with as many decimal places as needed in the fields to the right of the control. You must press Enter each time you manually enter a numerical value in a field for the parameter to update. You can also press the up/down arrows to change the value in some fields, but with limited precision.\n",
    "\n",
    "Once a solution is found that satisfies the boundary conditions and the number of nodes of the desired orbital, enter a filename and click `Save` to save it. The file will be saved in the same working directory where this notebook is located. After saving a solution to a file, you can continue modifying the parameters to find another solution and save it in a different file with a new name (remember to change the name to avoid overwriting the file).\n",
    "\n",
    "However, it is not necessary to save all calculated orbitals in files. It is sufficient to note for each calculated orbital: the energy, the maximum calculation radius, and the radius where the function reaches its maximum."
   ]
  },
  {
   "cell_type": "code",
   "execution_count": null,
   "metadata": {
    "scrolled": true
   },
   "outputs": [],
   "source": [
    "at.calculate()"
   ]
  },
  {
   "cell_type": "markdown",
   "metadata": {},
   "source": [
    "Once an orbital has been saved to a file (let's suppose it is the $1s$ orbital saved as '1s.txt'), it can be loaded for further visualization using the tools in the `atomictools` library (see the notebook for multi-electron atoms).\n",
    "\n"
   ]
  },
  {
   "cell_type": "code",
   "execution_count": null,
   "metadata": {},
   "outputs": [],
   "source": [
    "R_1s = at.R_num('1s.txt')"
   ]
  },
  {
   "cell_type": "markdown",
   "metadata": {},
   "source": [
    "With the `calculate` program, the function $P$ was visualized, but we can also visualize, for example, the volumetric probability distribution."
   ]
  },
  {
   "cell_type": "code",
   "execution_count": null,
   "metadata": {},
   "outputs": [],
   "source": [
    "R_1s.plot_R2()"
   ]
  },
  {
   "cell_type": "markdown",
   "metadata": {},
   "source": [
    "We can also visualize the orbital three-dimensionally, including the angular part."
   ]
  },
  {
   "cell_type": "code",
   "execution_count": null,
   "metadata": {},
   "outputs": [],
   "source": [
    "Y00 = at.spherical_harmonic(l=0, m=0)\n",
    "orb_1s = at.orbital(f_rad=R_1s, f_ang=Y00)\n",
    "orb_1s.plot_volume()"
   ]
  },
  {
   "cell_type": "markdown",
   "metadata": {},
   "source": [
    "### Second Practice: Calculation of Atomic Orbitals with the Thomas-Fermi Potential"
   ]
  },
  {
   "cell_type": "markdown",
   "metadata": {},
   "source": [
    "Once you have run the first cells of this notebook to configure the graphical environment and import the necessary libraries, run the `Fermi` program to solve the Fermi equation. The controls allow you to modify the input parameters to solve the equation. You can directly enter numerical values in the fields to the right of the control (remember to **press `Enter`**). The figure also has internal controls to change the scale, zoom, etc.\n",
    "\n",
    "After finding the solution that satisfies the boundary conditions for the atom in question, click `Accept` to accept the solution. A plot will then be generated showing the charge distribution and potential.\n",
    "\n",
    "Next, enter a filename to save the results and click `Save`."
   ]
  },
  {
   "cell_type": "code",
   "execution_count": null,
   "metadata": {
    "scrolled": true
   },
   "outputs": [],
   "source": [
    "at.Fermi()"
   ]
  },
  {
   "cell_type": "markdown",
   "metadata": {},
   "source": [
    "Follow the instructions in the script to find the parameters `H` and `D` of the Green-Sellin-Zachor potential that adjusts the potential obtained with the Thomas-Fermi model. You can use the lines of code below to perform the calculations with Python."
   ]
  },
  {
   "cell_type": "code",
   "execution_count": null,
   "metadata": {},
   "outputs": [],
   "source": []
  },
  {
   "cell_type": "code",
   "execution_count": null,
   "metadata": {},
   "outputs": [],
   "source": []
  },
  {
   "cell_type": "markdown",
   "metadata": {},
   "source": [
    "To verify that the adjustment is correct, run the following cell. You need to enter the filename where the Fermi equation solution was saved and then the parameters `H` and `D` that were found."
   ]
  },
  {
   "cell_type": "code",
   "execution_count": null,
   "metadata": {},
   "outputs": [],
   "source": [
    "at.check_fit()"
   ]
  },
  {
   "cell_type": "markdown",
   "metadata": {},
   "source": [
    "Run the program for calculating orbitals, which is the same one used in the first practice. Select the Green-Sellin-Zachor potential with the `H` and `D` parameters found earlier.\n",
    "\n",
    "Remember that once a solution is found, you can save it to a file, although it is sufficient to note the energy and maximum calculation radius of each orbital."
   ]
  },
  {
   "cell_type": "code",
   "execution_count": null,
   "metadata": {
    "scrolled": false
   },
   "outputs": [],
   "source": [
    "at.calculate()"
   ]
  },
  {
   "cell_type": "markdown",
   "metadata": {},
   "source": [
    "Once we have calculated the requested orbitals, we can obtain the expected value $\\langle r \\rangle$ for each one and compare it with the parameter $r_0$ obtained from solving the Fermi equation. If $\\langle r \\rangle > r_0$, we can consider the orbital to be external and use the appropriate approximations to describe such orbitals."
   ]
  },
  {
   "cell_type": "code",
   "execution_count": null,
   "metadata": {},
   "outputs": [],
   "source": [
    "R_4s = at.R_num('4s.txt')\n",
    "R_4s.expected_rk(1)"
   ]
  },
  {
   "cell_type": "code",
   "execution_count": null,
   "metadata": {},
   "outputs": [],
   "source": []
  }
 ],
 "metadata": {
  "kernelspec": {
   "display_name": "Python 3 (ipykernel)",
   "language": "python",
   "name": "python3"
  },
  "language_info": {
   "codemirror_mode": {
    "name": "ipython",
    "version": 3
   },
   "file_extension": ".py",
   "mimetype": "text/x-python",
   "name": "python",
   "nbconvert_exporter": "python",
   "pygments_lexer": "ipython3",
   "version": "3.10.9"
  }
 },
 "nbformat": 4,
 "nbformat_minor": 4
}
