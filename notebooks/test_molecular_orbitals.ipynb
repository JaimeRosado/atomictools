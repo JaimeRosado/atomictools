{
 "cells": [
  {
   "cell_type": "code",
   "execution_count": null,
   "id": "36f49544-5bd8-48d8-bfd7-b9fc98ac83a1",
   "metadata": {},
   "outputs": [],
   "source": [
    "import atomictools as at\n",
    "import matplotlib.pyplot as plt"
   ]
  },
  {
   "cell_type": "code",
   "execution_count": null,
   "id": "46552ceb-ac3a-47f5-9482-eb4198d52d45",
   "metadata": {},
   "outputs": [],
   "source": [
    "orb_1 = at.orbital_hydrog(1,0,0)\n",
    "orb_2 = at.orbital_hydrog(1,0,0)\n",
    "\n",
    "orbitals = [orb_1, orb_2]\n",
    "coefs = [1, 1]\n",
    "\n",
    "comb = at.hybrid_orbital(orbitals, coefs)"
   ]
  },
  {
   "cell_type": "code",
   "execution_count": null,
   "id": "f5afd6eb-3041-4018-87cc-9c5d25d0493b",
   "metadata": {},
   "outputs": [],
   "source": [
    "comb.plot_scatter()"
   ]
  },
  {
   "cell_type": "code",
   "execution_count": null,
   "id": "2cc28558-7bd4-4cf8-9f3b-e3f30823de9a",
   "metadata": {},
   "outputs": [],
   "source": [
    "centers = [[0,0,0],[7.5,0,0]]"
   ]
  },
  {
   "cell_type": "code",
   "execution_count": null,
   "id": "fcc78d15-8fb5-4f27-ae02-42dcd0d47111",
   "metadata": {},
   "outputs": [],
   "source": [
    "mol = at.molecular_orbital(orbitals, coefs, centers)"
   ]
  },
  {
   "cell_type": "code",
   "execution_count": null,
   "id": "210dae97-704b-451c-872b-84a5b32bfe53",
   "metadata": {},
   "outputs": [],
   "source": [
    "mol.plot_volume()"
   ]
  },
  {
   "cell_type": "code",
   "execution_count": null,
   "id": "1f5137f5-1b10-4a62-af94-823c7dc133a8",
   "metadata": {},
   "outputs": [],
   "source": [
    "mol.plot_scatter()"
   ]
  },
  {
   "cell_type": "code",
   "execution_count": null,
   "id": "7f527fef-fb72-405a-80d4-4551ac233f2e",
   "metadata": {},
   "outputs": [],
   "source": []
  },
  {
   "cell_type": "code",
   "execution_count": null,
   "id": "593d49ec-7282-44cb-913c-4af8444d10c6",
   "metadata": {},
   "outputs": [],
   "source": []
  }
 ],
 "metadata": {
  "kernelspec": {
   "display_name": "Python 3 (ipykernel)",
   "language": "python",
   "name": "python3"
  },
  "language_info": {
   "codemirror_mode": {
    "name": "ipython",
    "version": 3
   },
   "file_extension": ".py",
   "mimetype": "text/x-python",
   "name": "python",
   "nbconvert_exporter": "python",
   "pygments_lexer": "ipython3",
   "version": "3.8.5"
  }
 },
 "nbformat": 4,
 "nbformat_minor": 5
}
