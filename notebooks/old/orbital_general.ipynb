{
 "cells": [
  {
   "cell_type": "code",
   "execution_count": 1,
   "metadata": {},
   "outputs": [],
   "source": [
    "import atomictools as at\n",
    "import numpy as np\n",
    "import plotly.graph_objects as go\n",
    "import plotly.io as pio\n",
    "pio.renderers.default='iframe'\n",
    "from scipy.interpolate import RegularGridInterpolator, interp1d"
   ]
  },
  {
   "cell_type": "code",
   "execution_count": 2,
   "metadata": {},
   "outputs": [],
   "source": [
    "def sph_to_cart(r, theta, phi):\n",
    "    x = r*np.sin(theta)*np.cos(phi)\n",
    "    y = r*np.sin(theta)*np.sin(phi)\n",
    "    z = r*np.cos(theta)\n",
    "    return x, y, z\n",
    "\n",
    "def cart_to_sph(x, y, z):\n",
    "    r = np.sqrt(x**2 + y**2 + z**2)\n",
    "    theta = np.arccos(z/r)\n",
    "    phi = np.arctan(y/x)\n",
    "    return r, theta, phi"
   ]
  },
  {
   "cell_type": "code",
   "execution_count": 3,
   "metadata": {},
   "outputs": [],
   "source": [
    "def interpolate(phi_val, theta_val, Y):\n",
    "    phi=np.linspace(0,2*np.pi, 100)\n",
    "    theta=np.linspace(0, np.pi, 50)\n",
    "    interp = RegularGridInterpolator((phi, theta), Y,\n",
    "                                 bounds_error=False, fill_value=None, method=\"quintic\")\n",
    "    Y_val=interp((phi_val, theta_val))\n",
    "    return Y_val\n",
    "\n",
    "def interpolate_3d(r, r_dist, r_val, phi_val, theta_val, Y):\n",
    "    Y_val = interpolate (phi_val, theta_val, Y)\n",
    "    interp = interp1d(r, r_dist, fill_value=\"extrapolate\")\n",
    "    r_interp = interp(r_val)\n",
    "    return r_interp**2 * np.abs(Y_val)**2"
   ]
  },
  {
   "cell_type": "code",
   "execution_count": 17,
   "metadata": {},
   "outputs": [],
   "source": [
    "#utilizamos las funciones ya definidas en atomictools para crear objetos con los que se puede trabajar\n",
    "\n",
    "class orbital():\n",
    "    def __init__(self,f_rad, f_ang):\n",
    "        \n",
    "        l=f_rad.l\n",
    "        m=f_ang.m\n",
    "        Z=f_rad.Z\n",
    "        \n",
    "        \n",
    "        self.R = f_rad\n",
    "        rmax = self.R.rmax\n",
    "        self.rmax = rmax\n",
    "        self.r = self.R.r\n",
    "        self.r_dist = self.R.P2.cumsum() * rmax / (self.R.npt-1)\n",
    "        self.r_dist /= self.r_dist[-1]\n",
    "        \n",
    "        self.Y=f_ang\n",
    "        self.theta = self.Y.theta\n",
    "        \n",
    "        if f_ang.switcher==True:\n",
    "            self.theta_dist = (self.Y.ftheta_lm**2 * np.sin(self.theta)).cumsum() * np.pi/49.\n",
    "            self.theta_dist /= self.theta_dist[-1]\n",
    "        \n",
    "        self.phi = self.Y.phi\n",
    "        \n",
    "        if f_ang.switcher==True:\n",
    "            part=self.Y.part\n",
    "            self.part=part\n",
    "        \n",
    "            if part is not None:\n",
    "                self.phi_dist = (self.Y.fphi_m**2).cumsum() * 2. * np.pi / 99.\n",
    "                self.phi_dist /= self.phi_dist[-1]\n",
    "            \n",
    "        self.x, self.y, self.z = np.mgrid[-rmax:rmax:40j, -rmax:rmax:40j, -rmax:rmax:40j]\n",
    "        r, theta, phi = cart_to_sph(self.x, self.y, self.z)\n",
    "        \n",
    "        self.prob=interpolate_3d(self.r, self.R.R, r, phi, theta, self.Y.Y)\n",
    "\n",
    "        \n",
    "    def get_r(self, points=1):\n",
    "            p = np.random.random(points)\n",
    "            r = np.interp(p, self.r_dist, self.r)\n",
    "            return r\n",
    "    \n",
    "    def get_theta(self, points=1):\n",
    "            p = np.random.random(points)\n",
    "            \n",
    "            if f_ang.switcher == True:\n",
    "                theta = np.interp(p, self.theta_dist, self.theta)\n",
    "            elif f_ang.switcher == False:\n",
    "                theta = np.interp(p, np.abs(self.theta_dist), self.theta)\n",
    "            return theta\n",
    "    \n",
    "    def get_phi(self, points=1):\n",
    "            if self.part is None:\n",
    "                phi = np.random.random(points)*2.*np.pi\n",
    "                return phi\n",
    "            else:\n",
    "                p = np.random.random(points)\n",
    "                phi = np.interp(p, self.phi_dist, self.phi)\n",
    "                return phi\n",
    "        \n",
    "    def plot_volume(self):\n",
    "        \n",
    "            min_val = np.min(self.prob)\n",
    "            max_val = np.max(self.prob)\n",
    "        \n",
    "            fig = go.Figure(data=go.Volume(\n",
    "               x=self.x.flatten(),\n",
    "               y=self.y.flatten(),\n",
    "               z=self.z.flatten(),\n",
    "               value=self.prob.flatten(),\n",
    "               opacity=0.1,\n",
    "               isomin=0.0025*max_val,\n",
    "               isomax=0.99*max_val,\n",
    "               surface_count=100,\n",
    "               colorscale='viridis'\n",
    "               ))\n",
    "            fig.show()\n",
    "        \n",
    "    def plot_scatter(self, points=100000, op=0.01):\n",
    "            if points>6.7e5:\n",
    "                print(\"The maximum number of points is 6.7e5.\")\n",
    "                points = 6.7e5\n",
    "            points = int(points)\n",
    "            r = self.get_r(points)\n",
    "            theta = self.get_theta(points)\n",
    "            phi = self.get_phi(points)\n",
    "            rmax = self.rmax\n",
    "        \n",
    "            x, y, z = sph_to_cart(r, theta, phi)\n",
    "            fig=go.Figure(data=go.Scatter3d(\n",
    "                x=x,\n",
    "                y=y,\n",
    "                z=z,\n",
    "                mode='markers',\n",
    "                marker=dict(size=1., color = 'red'),\n",
    "                opacity=op\n",
    "                ))\n",
    "            fig.update_layout(\n",
    "               #showlegend=False,\n",
    "               scene = dict(\n",
    "                xaxis = dict(nticks=4, range=[-rmax, rmax]),\n",
    "                yaxis = dict(nticks=4, range=[-rmax, rmax]),\n",
    "                zaxis = dict(nticks=4, range=[-rmax, rmax]),\n",
    "                aspectmode = 'cube'\n",
    "               )\n",
    "           )\n",
    "            fig.show()\n"
   ]
  },
  {
   "cell_type": "code",
   "execution_count": 18,
   "metadata": {},
   "outputs": [
    {
     "data": {
      "text/plain": [
       "'f_rad=at.R_hydrog(5,3)\\n\\nf_ang=at.real_ang_function(3,0)\\nobj=orbital(f_rad, f_ang)\\nobj.plot_scatter()'"
      ]
     },
     "execution_count": 18,
     "metadata": {},
     "output_type": "execute_result"
    }
   ],
   "source": [
    "'''f_rad=at.R_hydrog(5,3)\n",
    "\n",
    "f_ang=at.real_ang_function(3,0)\n",
    "obj=orbital(f_rad, f_ang)\n",
    "obj.plot_scatter()'''"
   ]
  },
  {
   "cell_type": "code",
   "execution_count": 19,
   "metadata": {},
   "outputs": [
    {
     "data": {
      "text/plain": [
       "'f_rad=at.R_num(\"FeVII_2s.txt\")\\nf_ang=at.real_ang_function(0,0, \"Im\")\\nobj=orbital(f_rad, f_ang)\\nobj.plot_volume()'"
      ]
     },
     "execution_count": 19,
     "metadata": {},
     "output_type": "execute_result"
    }
   ],
   "source": [
    "'''f_rad=at.R_num(\"FeVII_2s.txt\")\n",
    "f_ang=at.real_ang_function(0,0, \"Im\")\n",
    "obj=orbital(f_rad, f_ang)\n",
    "obj.plot_volume()'''"
   ]
  },
  {
   "cell_type": "code",
   "execution_count": 20,
   "metadata": {},
   "outputs": [
    {
     "data": {
      "text/plain": [
       "'obj.plot_scatter()'"
      ]
     },
     "execution_count": 20,
     "metadata": {},
     "output_type": "execute_result"
    }
   ],
   "source": [
    "'''obj.plot_scatter()'''"
   ]
  },
  {
   "cell_type": "code",
   "execution_count": 26,
   "metadata": {},
   "outputs": [
    {
     "data": {
      "text/plain": [
       "'f_rad=at.R_hydrog(2,1)\\n\\nfunctions=([1,0], [2,-1], [3,0], [4,-2])\\ncoefs=(1,1,1,1)\\n\\nf_ang=at.comb_ang_function(functions, coefs)\\n\\nobj=orbital(f_rad, f_ang)\\nobj.plot_volume()'"
      ]
     },
     "execution_count": 26,
     "metadata": {},
     "output_type": "execute_result"
    }
   ],
   "source": [
    "'''f_rad=at.R_hydrog(2,1)\n",
    "\n",
    "functions=([1,0], [2,-1], [3,0], [4,-2])\n",
    "coefs=(1,1,1,1)\n",
    "\n",
    "f_ang=at.comb_ang_function(functions, coefs)\n",
    "\n",
    "obj=orbital(f_rad, f_ang)\n",
    "obj.plot_volume()'''"
   ]
  },
  {
   "cell_type": "code",
   "execution_count": 23,
   "metadata": {},
   "outputs": [
    {
     "data": {
      "text/plain": [
       "'obj.plot_scatter()'"
      ]
     },
     "execution_count": 23,
     "metadata": {},
     "output_type": "execute_result"
    }
   ],
   "source": [
    "'''obj.plot_scatter()'''"
   ]
  },
  {
   "cell_type": "code",
   "execution_count": 27,
   "metadata": {},
   "outputs": [
    {
     "data": {
      "text/plain": [
       "'f_ang=at.spherical_harmonic(3,2)\\nf_ang.plot_phase()'"
      ]
     },
     "execution_count": 27,
     "metadata": {},
     "output_type": "execute_result"
    }
   ],
   "source": [
    "'''f_ang=at.spherical_harmonic(3,2)\n",
    "f_ang.plot_phase()'''"
   ]
  },
  {
   "cell_type": "code",
   "execution_count": null,
   "metadata": {},
   "outputs": [],
   "source": []
  }
 ],
 "metadata": {
  "kernelspec": {
   "display_name": "Python 3 (ipykernel)",
   "language": "python",
   "name": "python3"
  },
  "language_info": {
   "codemirror_mode": {
    "name": "ipython",
    "version": 3
   },
   "file_extension": ".py",
   "mimetype": "text/x-python",
   "name": "python",
   "nbconvert_exporter": "python",
   "pygments_lexer": "ipython3",
   "version": "3.8.5"
  }
 },
 "nbformat": 4,
 "nbformat_minor": 4
}
