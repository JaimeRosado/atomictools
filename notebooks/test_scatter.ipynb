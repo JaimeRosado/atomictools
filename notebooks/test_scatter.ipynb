{
 "cells": [
  {
   "cell_type": "code",
   "execution_count": null,
   "id": "4bd62373-f579-41a6-84c1-207e1db06aba",
   "metadata": {},
   "outputs": [],
   "source": [
    "import atomictools as at\n",
    "import matplotlib.pyplot as plt\n",
    "import numpy as np"
   ]
  },
  {
   "cell_type": "code",
   "execution_count": null,
   "id": "e3088150-8e0d-43eb-affc-4383a489342b",
   "metadata": {},
   "outputs": [],
   "source": [
    "#utilizamos una función radial para ambos casos\n",
    "f_rad = at.R_hydrog(2,1)"
   ]
  },
  {
   "cell_type": "code",
   "execution_count": null,
   "id": "1abed7e8-e329-43b2-85b1-31fc8925d510",
   "metadata": {},
   "outputs": [],
   "source": [
    "#combinacion de funciones angulares\n",
    "functions=([1,1], [1,-1])\n",
    "coefs=(-1,1)\n",
    "px0=at.comb_ang_function(functions, coefs)\n",
    "orb = at.orbital(f_rad, px0)\n",
    "orb.plot_scatter()"
   ]
  },
  {
   "cell_type": "code",
   "execution_count": null,
   "id": "b42ab5e7-8ef8-4607-900a-726ec9b4a6a5",
   "metadata": {},
   "outputs": [],
   "source": [
    "orb.plot_volume()"
   ]
  },
  {
   "cell_type": "code",
   "execution_count": null,
   "id": "ac5b1986-0df4-4c15-bfef-40995a399588",
   "metadata": {},
   "outputs": [],
   "source": [
    "px1 = at.real_ang_function(1, 1, part=\"Re\")\n",
    "orb1 = at.orbital(f_rad, px1)\n",
    "orb1.plot_scatter()"
   ]
  },
  {
   "cell_type": "code",
   "execution_count": null,
   "id": "9f901293-01e6-48e9-bdf0-76e5a37d998d",
   "metadata": {},
   "outputs": [],
   "source": [
    "orb1.plot_volume()"
   ]
  },
  {
   "cell_type": "code",
   "execution_count": null,
   "id": "f5b548e5-8248-4186-9871-be55b8a05eb5",
   "metadata": {},
   "outputs": [],
   "source": []
  },
  {
   "cell_type": "code",
   "execution_count": null,
   "id": "805f7c57-4f99-42ec-a78e-dde27b1ffa95",
   "metadata": {},
   "outputs": [],
   "source": []
  }
 ],
 "metadata": {
  "kernelspec": {
   "display_name": "Python 3 (ipykernel)",
   "language": "python",
   "name": "python3"
  },
  "language_info": {
   "codemirror_mode": {
    "name": "ipython",
    "version": 3
   },
   "file_extension": ".py",
   "mimetype": "text/x-python",
   "name": "python",
   "nbconvert_exporter": "python",
   "pygments_lexer": "ipython3",
   "version": "3.8.5"
  }
 },
 "nbformat": 4,
 "nbformat_minor": 5
}
