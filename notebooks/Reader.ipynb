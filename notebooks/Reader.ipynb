{
 "cells": [
  {
   "cell_type": "code",
   "execution_count": 1,
   "metadata": {},
   "outputs": [],
   "source": [
    "import numpy as np"
   ]
  },
  {
   "cell_type": "code",
   "execution_count": null,
   "metadata": {},
   "outputs": [],
   "source": [
    "    if model=='Hdg':\n",
    "        f.write(\"Hydrogenic potential -Z/r\" + \"\\n\")\n",
    "        f.write(\"Z\" + \"\\t\" + param_text + \"\\n\")\n",
    "        f.write(str(Z) + \"\\t\" + param_values + \"\\n\")\n",
    "    elif model=='SdR':\n",
    "        f.write(\"S. del Rio potential\" + \"\\n\")\n",
    "        f.write(\"Z\" + \"\\t\" + \"A\" + \"\\t\" + \"a1\" + \"\\t\" + \"a2\" + \"\\t\" + param_text + \"\\n\")\n",
    "        f.write(str(Z) + \"\\t\" + str(round(A, 3)) + \"\\t\" + str(round(a1, 3)) + \"\\t\" + str(round(a2, 3))\n",
    "                + \"\\t\" + param_values + \"\\n\")\n",
    "    elif model=='GSZ':\n",
    "f.write(\"Green-Sellin-Zachor potential\" + \"\\n\")"
   ]
  },
  {
   "cell_type": "code",
   "execution_count": 19,
   "metadata": {},
   "outputs": [],
   "source": [
    "filename = \"FeVII_2s.txt\"\n",
    "f = open(filename, \"r\")\n",
    "for line in range(4):\n",
    "    model = f.readline()\n",
    "f.close\n",
    "model = model[0]\n",
    "if model=='H':\n",
    "    ll\n",
    "elif model=='S':\n",
    "    ll\n",
    "elif model=='G':\n",
    "    Z, N, H, D, L, E, rmc, npt = np.loadtxt(filename, skiprows=5, unpack=True, max_rows=1)\n",
    "el\n",
    "r, P = np.loadtxt(filename, skiprows=8, unpack=True)"
   ]
  },
  {
   "cell_type": "code",
   "execution_count": 20,
   "metadata": {},
   "outputs": [
    {
     "data": {
      "text/plain": [
       "'Green-Sellin-Zachor potential\\n'"
      ]
     },
     "execution_count": 20,
     "metadata": {},
     "output_type": "execute_result"
    }
   ],
   "source": [
    "model"
   ]
  },
  {
   "cell_type": "code",
   "execution_count": 21,
   "metadata": {},
   "outputs": [
    {
     "data": {
      "text/plain": [
       "'G'"
      ]
     },
     "execution_count": 21,
     "metadata": {},
     "output_type": "execute_result"
    }
   ],
   "source": [
    "model[0]"
   ]
  },
  {
   "cell_type": "code",
   "execution_count": 14,
   "metadata": {},
   "outputs": [
    {
     "data": {
      "text/plain": [
       "'2022-10-19 13:06:13\\n'"
      ]
     },
     "execution_count": 14,
     "metadata": {},
     "output_type": "execute_result"
    }
   ],
   "source": [
    "model"
   ]
  },
  {
   "cell_type": "code",
   "execution_count": null,
   "metadata": {},
   "outputs": [],
   "source": []
  }
 ],
 "metadata": {
  "kernelspec": {
   "display_name": "Python 3",
   "language": "python",
   "name": "python3"
  },
  "language_info": {
   "codemirror_mode": {
    "name": "ipython",
    "version": 3
   },
   "file_extension": ".py",
   "mimetype": "text/x-python",
   "name": "python",
   "nbconvert_exporter": "python",
   "pygments_lexer": "ipython3",
   "version": "3.8.5"
  }
 },
 "nbformat": 4,
 "nbformat_minor": 4
}
