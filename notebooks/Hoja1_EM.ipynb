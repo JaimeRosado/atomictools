{
 "cells": [
  {
   "cell_type": "markdown",
   "metadata": {
    "id": "-szsuPknqU3H"
   },
   "source": [
    "# Hoja 1 de problemas: Átomos monoelectrónicos\n",
    "Autores: Alejandro Villar y Jaime Rosado"
   ]
  },
  {
   "cell_type": "markdown",
   "metadata": {
    "id": "H-8oi9qXqU3L"
   },
   "source": [
    "### Comandos para ejecutar este cuaderno desde Google Colab"
   ]
  },
  {
   "cell_type": "markdown",
   "metadata": {
    "id": "V8srfIQhqU3M"
   },
   "source": [
    "Monta la unidad de Google Drive asociada a tu **cuenta UCM**. Hay que dar permisos a Colab para que acceda al Drive."
   ]
  },
  {
   "cell_type": "code",
   "execution_count": null,
   "metadata": {
    "colab": {
     "base_uri": "https://localhost:8080/"
    },
    "id": "IjZt0V9SqU3M",
    "outputId": "1c422cdd-936f-4160-91b5-40c96cdbc55e"
   },
   "outputs": [],
   "source": [
    "from google.colab import drive\n",
    "drive.mount('/content/drive')"
   ]
  },
  {
   "cell_type": "markdown",
   "metadata": {
    "id": "BcfFvElcqU3O"
   },
   "source": [
    "Sigue este enlace para tener acceso a una carpeta compartida llamada 'ProgramasFAyM', la cual contiene los módulos donde está el código que se usa en este cuaderno.\n",
    "\n",
    "https://drive.google.com/drive/folders/1cSm1S8fYvurHPbSvcQqpm7sluvI1Ez9-?usp=sharing\n",
    "\n",
    "A continuación, **genera un acceso directo a esta carpeta** en el directorio principal de tu unidad de Google Drive (¡ojo, a la carpeta, no a los ficheros que contiene!). Para ello, usa la opción correspondiente del menú desplegable que aparece al pinchar la carpeta con el botón derecho del ratón."
   ]
  },
  {
   "cell_type": "markdown",
   "metadata": {
    "id": "AxBwSgbZqU3O"
   },
   "source": [
    "Añade la ruta de esta carpeta compartida a la ruta de búsqueda de Python."
   ]
  },
  {
   "cell_type": "code",
   "execution_count": null,
   "metadata": {
    "id": "q5T200mJqU3O"
   },
   "outputs": [],
   "source": [
    "import sys\n",
    "Mpath = '/content/drive/MyDrive/ProgramasFAyM'\n",
    "#Mpath = '/content/drive/My Drive/ProgramasFAyM'\n",
    "#Mpath = '/drive/MyDrive/ProgramasFAyM'\n",
    "#Mpath = '/drive/My Drive/ProgramasFAyM'\n",
    "sys.path.append(Mpath)"
   ]
  },
  {
   "cell_type": "markdown",
   "metadata": {
    "id": "mB5yFJyZTAVL"
   },
   "source": [
    "Importa el módulo donde se encuentra el código del programa y la librería numpy que es necesaria para algunos cálculos. Sólo es necesario hacerlo una vez, aunque el programa se ejecute varias veces.\n",
    "\n",
    "Si no encuentra el módulo puede significar que no se ha creado correctamente el acceso directo a la carpeta compartida o que la ruta de esta carpeta es diferente a lo indicado en la celda anterior. En este último caso, prueba alguna de las alternativas de `Mpath` quitando el símbolo `#` que tiene delante. Si esto sigue sin funcionar, abre el árbol de archivos (icono con forma de carpeta a la izquierda de esta ventana) del entorno de ejecución y busca el acceso directo a la carpeta compartida en tu unidad Drive. Al pinchar con el botón derecho sobre ella, aparece un menú desplegable con la opción `copiar ruta`, que permite hallar la ruta correcta para dar a la variable `Mpath`."
   ]
  },
  {
   "cell_type": "code",
   "execution_count": null,
   "metadata": {
    "id": "w2WkiQPnTGAL"
   },
   "outputs": [],
   "source": [
    "import atomictools as at\n",
    "import numpy as np"
   ]
  },
  {
   "cell_type": "markdown",
   "metadata": {
    "id": "spQnTYiOqU3P"
   },
   "source": [
    "### Ejercicio 4: Distribuciones de probabilidad"
   ]
  },
  {
   "cell_type": "markdown",
   "metadata": {
    "id": "8XYIMhM3qU3R"
   },
   "source": [
    "Pongamos como ejemplo los orbitales $|{\\rm 2s}\\;m_l=0⟩$, $|{\\rm 2p}\\;m_l=0⟩$, $|{\\rm 2p}\\;m_l=+1⟩$ y $|{\\rm 2p}\\;m_l=-1⟩$ del átomo de hidrógeno."
   ]
  },
  {
   "cell_type": "code",
   "execution_count": null,
   "metadata": {
    "id": "13slnVQ7eoW-"
   },
   "outputs": [],
   "source": [
    "orb_200 = at.orbital_hydrog(n=2, l=0, m=0)\n",
    "orb_210 = at.orbital_hydrog(n=2, l=1, m=0)\n",
    "orb_211 = at.orbital_hydrog(n=2, l=1, m=1)\n",
    "orb_21_1 = at.orbital_hydrog(n=2, l=1, m=-1)"
   ]
  },
  {
   "cell_type": "markdown",
   "metadata": {
    "id": "veGj6UsS0Omg"
   },
   "source": [
    "#### a) Densidad de probabilidad volumétrica"
   ]
  },
  {
   "cell_type": "markdown",
   "metadata": {
    "id": "kvp-1qpfhk7y"
   },
   "source": [
    "A continuación se representan las densidades de probabilidad volumétricas de los 4 orbitales."
   ]
  },
  {
   "cell_type": "code",
   "execution_count": null,
   "metadata": {
    "colab": {
     "base_uri": "https://localhost:8080/"
    },
    "id": "09QuSAArhgmq",
    "outputId": "ddc8de90-09f2-4a85-e8b4-26a063376ef4"
   },
   "outputs": [],
   "source": [
    "orb_200.plot_volume()\n",
    "# Con esta otra visualización se aprecia mejor el máximo de probabilidad a radios intermedios\n",
    "#orb_200.plot_scatter()"
   ]
  },
  {
   "cell_type": "code",
   "execution_count": null,
   "metadata": {
    "colab": {
     "base_uri": "https://localhost:8080/",
     "height": 542
    },
    "id": "FE7lbfteh3qu",
    "outputId": "f8fa388b-0d90-4116-c5ef-e539b16a6000"
   },
   "outputs": [],
   "source": [
    "orb_210.plot_volume()\n",
    "#orb_210.plot_scatter()"
   ]
  },
  {
   "cell_type": "code",
   "execution_count": null,
   "metadata": {
    "colab": {
     "base_uri": "https://localhost:8080/",
     "height": 542
    },
    "id": "09aH8nuqh-89",
    "outputId": "386aeee8-4eeb-44bd-eea8-36154dc4c356"
   },
   "outputs": [],
   "source": [
    "# Ambos orbitales tienen la misma distribución espacial de probabilidad. Sólo se representa uno\n",
    "orb_211.plot_volume()\n",
    "#orb_12_1.plot_volume()\n",
    "#orb_211.plot_scatter()\n",
    "#orb_21_1.plot_scatter()"
   ]
  },
  {
   "cell_type": "markdown",
   "metadata": {
    "id": "Vrf5PdgsM4fk"
   },
   "source": [
    "Prueba a visualizar las distribuciones espaciales de probabilidad con la función alternativa `plot_scatter` y generar otros orbitales."
   ]
  },
  {
   "cell_type": "markdown",
   "metadata": {
    "id": "3gCaJIzh_R7l"
   },
   "source": [
    "#### b) Probabilidad en un diferencial de volumen"
   ]
  },
  {
   "cell_type": "markdown",
   "metadata": {
    "id": "mhGgU-HeeoW_"
   },
   "source": [
    "Podemos evaluar las funciones de onda en cualquier punto $(r,\\,\\theta,\\,\\phi)$. El módulo cuadrado de la función multiplicado por un diferencial de volumen en torno a ese punto dará la probabilidad de encontrar el electrón ahí. El programa usa como unidad de longitud el radio de Bohr $a_0$. Tomemos por ejemplo la probabilidad en un volumen de $0.001\\,a_0^3$ torno al punto $(r=a_0,\\,\\theta=\\pi/2,\\,\\phi=0)$."
   ]
  },
  {
   "cell_type": "code",
   "execution_count": null,
   "metadata": {
    "colab": {
     "base_uri": "https://localhost:8080/"
    },
    "id": "tM8ZrvcIeoW_",
    "outputId": "0b2164e9-cbb8-4f3e-b0f9-0a5811d7c719"
   },
   "outputs": [],
   "source": [
    "r = 1.\n",
    "theta = np.pi/2.\n",
    "phi = 0.\n",
    "dr = 0.1\n",
    "dtheta = 0.1\n",
    "dphi = 0.1\n",
    "dV = r**2 * np.sin(theta) * dr * dtheta * dphi\n",
    "print(\"Volumen de\", round(dV, 5), \"a0^3 en torno al punto (r, theta, phi)=\", (round(r, 3), round(theta, 3), round(phi, 3)))\n",
    "\n",
    "p = np.abs(orb_200.evaluate(r, theta, phi))**2 * dV\n",
    "print(\"Probabilidad para 2s(ml=0):\", p)\n",
    "p = np.abs(orb_210.evaluate(r, theta, phi))**2 * dV\n",
    "print(\"Probabilidad para 2p(ml=0):\", p)\n",
    "p = np.abs(orb_211.evaluate(r, theta, phi))**2 * dV\n",
    "print(\"Probabilidad para 2p(ml=1):\", p)"
   ]
  },
  {
   "cell_type": "markdown",
   "metadata": {
    "id": "tvyNuDE8NVJ5"
   },
   "source": [
    "Prueba a calcular la probabilidad en un diferencial de volumen en torno a otros puntos. ¿Qué ocurre en $\\theta=0$?"
   ]
  },
  {
   "cell_type": "markdown",
   "metadata": {
    "id": "jdEkZ-fH0bU7"
   },
   "source": [
    "#### c) Densidad de probabilidad radial"
   ]
  },
  {
   "cell_type": "markdown",
   "metadata": {
    "id": "64l9Fo_hnNCf"
   },
   "source": [
    "La densidad de probabilidad radial es la probabilidad por unidad de longitud una vez se integra para todos los ángulos. Esto viene dado por el cuadrado de la función $P(r)=r\\cdot R(r)$."
   ]
  },
  {
   "cell_type": "code",
   "execution_count": null,
   "metadata": {
    "colab": {
     "base_uri": "https://localhost:8080/",
     "height": 1000
    },
    "id": "owgfoilpeoXA",
    "outputId": "a492fc76-50dd-437d-f0a4-2ad61eb3719a"
   },
   "outputs": [],
   "source": [
    "orb_200.R.plot_P2()\n",
    "# Los 3 orbitales 2p tienen la misma parte radial, por lo que su densidad de probabilidad radial será idéntica\n",
    "orb_210.R.plot_P2()\n",
    "#orb_211.R.plot_P2()\n",
    "#orb_21_1.R.plot_P2()"
   ]
  },
  {
   "cell_type": "markdown",
   "metadata": {
    "id": "QlUTvv7NLeg0"
   },
   "source": [
    "También se estudia la densidad de probabilidad volumétrica promediada en ángulos. Salvo un factor $4\\pi$, ésta viene dada por el cuadrado de la función $R(r)$."
   ]
  },
  {
   "cell_type": "code",
   "execution_count": null,
   "metadata": {
    "colab": {
     "base_uri": "https://localhost:8080/",
     "height": 1000
    },
    "id": "7HC0cpFILdQV",
    "outputId": "aae9ed7e-19b6-4a8d-f3f3-66a8db555260"
   },
   "outputs": [],
   "source": [
    "orb_200.R.plot_R2()\n",
    "orb_210.R.plot_R2()"
   ]
  },
  {
   "cell_type": "markdown",
   "metadata": {
    "id": "_ca7sTcNMisU"
   },
   "source": [
    "#### d) Probabilidad en función de $\\theta$"
   ]
  },
  {
   "cell_type": "markdown",
   "metadata": {
    "id": "9CjJEDxt05TR"
   },
   "source": [
    "Normalmente se usa la densidad de probabilidad por ángulo sólido, que se corresponde con el cuadrado del módulo del armónico esférico correspondiente y se representa en un plot polar. Hay que tener en cuenta que la densidad de probabilidad por ángulo $\\theta$ va multiplicada por $\\sin(\\theta)$."
   ]
  },
  {
   "cell_type": "code",
   "execution_count": null,
   "metadata": {
    "colab": {
     "base_uri": "https://localhost:8080/",
     "height": 542
    },
    "id": "6ClPkRdMM-3H",
    "outputId": "a177b6b1-6ea5-4e43-9caf-0b5d9e581a78"
   },
   "outputs": [],
   "source": [
    "orb_200.Y.plot_prob()"
   ]
  },
  {
   "cell_type": "code",
   "execution_count": null,
   "metadata": {
    "colab": {
     "base_uri": "https://localhost:8080/",
     "height": 542
    },
    "id": "B6SyrPZZ2IWd",
    "outputId": "f43bc5bd-1b0e-44de-ac4c-d6d963cba856"
   },
   "outputs": [],
   "source": [
    "orb_210.Y.plot_prob()"
   ]
  },
  {
   "cell_type": "code",
   "execution_count": null,
   "metadata": {
    "colab": {
     "base_uri": "https://localhost:8080/",
     "height": 542
    },
    "id": "XCKfPPrY2KhZ",
    "outputId": "cb8bc63a-bf42-4a0f-83e8-cc9b6e8bd278"
   },
   "outputs": [],
   "source": [
    "# Ambos orbitales tienen la misma densidad de probabilidad angular. Sólo se representa uno\n",
    "orb_211.Y.plot_prob()\n",
    "#orb_21_1.Y.plot_prob()"
   ]
  },
  {
   "cell_type": "markdown",
   "metadata": {
    "id": "r8_IHxfhdYJy"
   },
   "source": [
    "### Ejercicio 5: Orbital ${\\rm 1s}$"
   ]
  },
  {
   "cell_type": "markdown",
   "metadata": {
    "id": "yTEkIW14dl_U"
   },
   "source": [
    "#### b) Máximo de la densidad de probabilidad volumétrica"
   ]
  },
  {
   "cell_type": "markdown",
   "metadata": {
    "id": "85_cn1nxfF7c"
   },
   "source": [
    "El orbital ${\\rm 1s}$ tiene su máximo de probabilidad en el origen. Sólo presenta un máximo local, a diferencial del orbital ${\\rm 2s}$."
   ]
  },
  {
   "cell_type": "code",
   "execution_count": null,
   "metadata": {
    "colab": {
     "base_uri": "https://localhost:8080/",
     "height": 542
    },
    "id": "QSg6EPVGdkh3",
    "outputId": "0d6a1b9b-a189-4d2b-ff8b-473eedac53c2"
   },
   "outputs": [],
   "source": [
    "orb_100 = at.orbital_hydrog(n=1, l=0, m=0)\n",
    "orb_100.plot_scatter()"
   ]
  },
  {
   "cell_type": "code",
   "execution_count": null,
   "metadata": {
    "colab": {
     "base_uri": "https://localhost:8080/",
     "height": 542
    },
    "id": "3IajTIdUfDug",
    "outputId": "cbd4606b-c06a-4e93-dcfb-c80916f4ee86"
   },
   "outputs": [],
   "source": [
    "# Densidad de probabilidad volumétrica promediada en ángulos (falta un factor 2pi dividiendo)\n",
    "orb_100.R.plot_R2()"
   ]
  },
  {
   "cell_type": "markdown",
   "metadata": {
    "id": "BxFPMwdVjWMk"
   },
   "source": [
    "El valor de la densidad de probabilidad volumétrica en el origen es $\\frac{1}{\\pi a_0^3}=0.3183\\,a_0^{-3}$"
   ]
  },
  {
   "cell_type": "code",
   "execution_count": null,
   "metadata": {
    "colab": {
     "base_uri": "https://localhost:8080/"
    },
    "id": "LsGO5UrejUiF",
    "outputId": "8c688b01-1a62-461f-a36a-dd9e1aa33449"
   },
   "outputs": [],
   "source": [
    "p_dV = np.abs(orb_100.evaluate(0., 0., 0.))**2\n",
    "print(\"Densidad de probabilidad volumétrica en el origen\", p_dV, \"a0^(-3)\")"
   ]
  },
  {
   "cell_type": "markdown",
   "metadata": {
    "id": "z9tQlJ-0f3jV"
   },
   "source": [
    "#### c) Densidad de probabilidad radial"
   ]
  },
  {
   "cell_type": "markdown",
   "metadata": {
    "id": "Uu7RdMsAf7xE"
   },
   "source": [
    "A diferencia de la densidad de probabilidad volumétrica, la densidad de probabilidad radial se anula en el origen. El máximo se encuentra en $r=a_0$."
   ]
  },
  {
   "cell_type": "code",
   "execution_count": null,
   "metadata": {
    "colab": {
     "base_uri": "https://localhost:8080/",
     "height": 542
    },
    "id": "5WTNn7DMfka2",
    "outputId": "71da736e-07de-4393-d8e3-c38bc59190b1"
   },
   "outputs": [],
   "source": [
    "orb_100.R.plot_P2()"
   ]
  },
  {
   "cell_type": "markdown",
   "metadata": {
    "id": "1ValKcCIgZfM"
   },
   "source": [
    "#### d) Probabilidad de encontrar al electrón dentro del núcleo"
   ]
  },
  {
   "cell_type": "markdown",
   "metadata": {
    "id": "e4A39VZ3geTl"
   },
   "source": [
    "Asumiendo un radio nuclear $r_N = 10\\,{\\rm fm} = 1.89\\cdot 10^{-4}\\,a_0$, el volumen del núcleo se puede tomar como un diferencial y, por tanto, la probabilidad de encontrar el electrón dentro del núcleo se puede evaluar como la densidad de probabilidad volumétrica en el origen multiplicada por el volumen nuclear. El resultado es casi idéntico a integrar la densidad de probabilidad entre $0$ y $r_N$."
   ]
  },
  {
   "cell_type": "code",
   "execution_count": null,
   "metadata": {
    "colab": {
     "base_uri": "https://localhost:8080/"
    },
    "id": "mIN0JIQ2gGb1",
    "outputId": "1319abd2-d427-4a9a-eeb3-4e2e7a987a10"
   },
   "outputs": [],
   "source": [
    "rN = 1.89e-4\n",
    "dV = 4./3. * np.pi * rN**3\n",
    "p = np.abs(orb_100.evaluate(0., 0., 0.))**2 * dV\n",
    "print(\"Probabilidad de encontrar el electrón dentro del núcleo\", p)"
   ]
  },
  {
   "cell_type": "markdown",
   "metadata": {
    "id": "GLvXh_ZImVQY"
   },
   "source": [
    "### Ejercicio 7: Estados correspondientes a los niveles de estructura fina para $n=2$"
   ]
  },
  {
   "cell_type": "markdown",
   "metadata": {
    "id": "Hf08QakenMj_"
   },
   "source": [
    "Normalmente se visualizan los orbitales $|n\\,l\\,m_l\\rangle$, cada uno de los cuales se corresponde a la parte espacial de la función de onda de un estado \"completo\" $|n\\,l\\,m_l\\,m_s\\rangle$, cuya parte espinorial está factorizada y el espín no interviene en la distribución espacial de probabilidad (de hecho $m_s$ no tiene por que estar definido). Pero al tener en cuenta la estructura fina, los estados estacionarios del átomos son del tipo $|n\\,l\\,j\\,m_j\\rangle$. ¿Cómo es su distribución espacial de probabilidad?\n",
    "\n",
    "Tomemos $n=2$, cuyos orbitales $|n\\,l\\,m_l\\rangle$ ya se visualizaron en el ejercicio 4. Es fácil obtener los 8 estados $|n\\,l\\,j\\,m_j\\rangle$ como combinación lineal de estados $|n\\,l\\,m_l\\,m_s\\rangle$. Los que tienen $m_j>0$ son:\n",
    "\n",
    "$|{\\rm 2s}_{1/2}\\;+1/2\\rangle = |{\\rm 2s}\\;\\;0\\;+1/2\\rangle$\n",
    "\n",
    "$|{\\rm 2p}_{3/2}\\;+3/2\\rangle = |{\\rm 2p}\\;+1\\;+1/2\\rangle$\n",
    "\n",
    "$|{\\rm 2p}_{3/2}\\;+1/2\\rangle = \\sqrt{\\frac{2}{3}}|{\\rm 2p}\\;\\;0\\;+1/2\\rangle + \\frac{1}{\\sqrt{3}}|{\\rm 2p}\\;+1\\;-1/2\\rangle$\n",
    "\n",
    "$|{\\rm 2p}_{1/2}\\;+1/2\\rangle = \\frac{1}{\\sqrt{3}}|{\\rm 2p}\\;\\;0\\;+1/2\\rangle - \\sqrt{\\frac{2}{3}} |{\\rm 2p}\\;+1\\;-1/2\\rangle$\n",
    "\n",
    "Observar la notación reducida con $j$ en un subíndice y que los estados $|n\\,l\\,j\\,m_j\\rangle$ sólo pueden ser combinaciones lineales de los estados $|n\\,l\\,m_l\\,m_s\\rangle$ que cumplen $m_l+m_s=m_j$."
   ]
  },
  {
   "cell_type": "markdown",
   "metadata": {
    "id": "cXyVoH2Qy7AG"
   },
   "source": [
    "Los estados $|{\\rm 2s}_{1/2}\\;\\pm 1/2\\rangle$ y $|{\\rm 2p}_{3/2}\\;\\pm 3/2\\rangle$ tienen todos los números cuánticos $l$, $m_l$, $s$, $m_s$, $j$, $m_j$ bien definidos y se corresponden idénticamente a estados del tipo $|n\\,l\\,m_l\\,m_s\\rangle$ con distribuciones espaciales conocidas."
   ]
  },
  {
   "cell_type": "code",
   "execution_count": null,
   "metadata": {
    "colab": {
     "base_uri": "https://localhost:8080/",
     "height": 542
    },
    "id": "RwzeiyrSitlK",
    "outputId": "15a41e92-4b09-4b13-cebc-90518d4497c7"
   },
   "outputs": [],
   "source": [
    "# Estados 2s_1/2 (mj = +1/2, -1/2)\n",
    "orb_200.plot_volume()"
   ]
  },
  {
   "cell_type": "code",
   "execution_count": null,
   "metadata": {
    "colab": {
     "base_uri": "https://localhost:8080/",
     "height": 542
    },
    "id": "ISxa99RGz-ax",
    "outputId": "3ddcb105-77c3-48c8-8a04-77967e074332"
   },
   "outputs": [],
   "source": [
    "# Estados 2p_3/2 (mj = +3/2, -3/2)\n",
    "orb_211.plot_volume()\n",
    "#orb_21_1.plot_volume() # ml = -1, pero misma distribución espacial"
   ]
  },
  {
   "cell_type": "markdown",
   "metadata": {
    "id": "uktEb4n717xS"
   },
   "source": [
    "Los estados $|{\\rm 2p}_{3/2}\\;\\pm 1/2\\rangle$ y $|{\\rm 2p}_{1/2}\\;\\pm 1/2\\rangle$ no tienen bien definidos los números cuánticos $m_l$ y $m_s$ porque son combinaciones de estados $|n\\,l\\,m_l\\,m_s\\rangle$. Tomemos por ejemplo el estado:\n",
    "\n",
    "$|{\\rm 2p}_{3/2}\\;+1/2\\rangle = \\sqrt{\\frac{2}{3}}|{\\rm 2p}\\;\\;0\\;+1/2\\rangle + \\frac{1}{\\sqrt{3}}|{\\rm 2p}\\;+1\\;-1/2\\rangle$\n",
    "\n",
    "En este estado, el electrón se encontrará $\\frac{2}{3}$ de las veces con espín $m_s=+1/2$ y una distribución espacial de probabilidad como la del orbital $|{\\rm 2p}\\;m_l=0\\rangle$ (figura superior), mientras que $\\frac{1}{3}$ de las veces restantes tendrá espín $m_s=-1/2$ y una distribución espacial de probabilidad como la del orbital $|{\\rm 2p}\\;m_l=+1\\rangle$ (figura inferior). Los dos estados de espín son ortogonales entre sí, por lo que estas distribuciones espaciales no se mezclan."
   ]
  },
  {
   "cell_type": "code",
   "execution_count": null,
   "metadata": {
    "colab": {
     "base_uri": "https://localhost:8080/",
     "height": 1000
    },
    "id": "rvtXZsSF5Fdq",
    "outputId": "5077b47d-8f44-4b6d-f830-2546820430b2"
   },
   "outputs": [],
   "source": [
    "orb_210.plot_volume() # para espín ms = +1/2\n",
    "orb_211.plot_volume() # para espín ms = -1/2"
   ]
  },
  {
   "cell_type": "markdown",
   "metadata": {
    "id": "GyTn1qVh17Xc"
   },
   "source": [
    "Para este tipo de estados, la función de onda no está factorizada en una parte espacial y una parte espinorial, por lo que no es correcto hablar de un único orbital o una única distribución espacial de probabilidad. No obstante, se puede definir una distribución espacial \"independiente del espín\" integrando (sumando) para las dos posibles orientaciones del espín. El resultado no es más que la suma pesada de las dos distribuciones de probabilidad de arriba.\n",
    "\n",
    "La librería `atomictools` no contempla el espín y no puede crear este tipo de estados. Pero el siguiente código es un \"atajo\" que permite representar esta distribución espacial independiente del espín para el estado $|{\\rm 2p}_{3/2}\\;+1/2\\rangle$. Haz lo equivalente para el estado $|{\\rm 2p}_{1/2}\\;+1/2\\rangle$."
   ]
  },
  {
   "cell_type": "code",
   "execution_count": null,
   "metadata": {
    "colab": {
     "base_uri": "https://localhost:8080/",
     "height": 542
    },
    "id": "j2VwvG7gDf9e",
    "outputId": "4c6f9c54-3b2b-49e3-ce03-1c406deb3a11"
   },
   "outputs": [],
   "source": [
    "orb = at.orbital_hydrog(n=2, l=1, m=0)\n",
    "orb.prob = 2./3. * orb_210.prob + 1./3. * orb_211.prob\n",
    "orb.plot_volume()"
   ]
  }
 ],
 "metadata": {
  "colab": {
   "provenance": []
  },
  "kernelspec": {
   "display_name": "Python 3",
   "language": "python",
   "name": "python3"
  },
  "language_info": {
   "codemirror_mode": {
    "name": "ipython",
    "version": 3
   },
   "file_extension": ".py",
   "mimetype": "text/x-python",
   "name": "python",
   "nbconvert_exporter": "python",
   "pygments_lexer": "ipython3",
   "version": "3.8.5"
  }
 },
 "nbformat": 4,
 "nbformat_minor": 1
}
