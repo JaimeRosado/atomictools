{
 "cells": [
  {
   "cell_type": "markdown",
   "metadata": {
    "id": "-szsuPknqU3H"
   },
   "source": [
    "# Ejemplos para átomos monoelectrónicos\n",
    "Autores: Alejandro Villar y Jaime Rosado"
   ]
  },
  {
   "cell_type": "markdown",
   "metadata": {
    "id": "H-8oi9qXqU3L"
   },
   "source": [
    "### Comandos para ejecutar este cuaderno desde Google Colab"
   ]
  },
  {
   "cell_type": "markdown",
   "metadata": {
    "id": "V8srfIQhqU3M"
   },
   "source": [
    "Monta la unidad de Google Drive asociada a tu **cuenta UCM**. Hay que dar permisos a Colab para que acceda al Drive."
   ]
  },
  {
   "cell_type": "code",
   "execution_count": null,
   "metadata": {
    "colab": {
     "base_uri": "https://localhost:8080/"
    },
    "id": "IjZt0V9SqU3M",
    "outputId": "85a40ec6-fe25-4cfb-9ce7-538d496414d0"
   },
   "outputs": [],
   "source": [
    "from google.colab import drive\n",
    "drive.mount('/content/drive')"
   ]
  },
  {
   "cell_type": "markdown",
   "metadata": {
    "id": "BcfFvElcqU3O"
   },
   "source": [
    "Sigue este enlace para tener acceso a una carpeta compartida llamada 'ProgramasFAyM', la cual contiene los módulos donde está el código que se usa en este cuaderno.\n",
    "\n",
    "https://drive.google.com/drive/folders/1cSm1S8fYvurHPbSvcQqpm7sluvI1Ez9-?usp=sharing\n",
    "\n",
    "A continuación, **genera un acceso directo a esta carpeta** en el directorio principal de tu unidad de Google Drive (¡ojo, a la carpeta, no a los ficheros que contiene!). Para ello, usa la opción correspondiente del menú desplegable que aparece al pinchar la carpeta con el botón derecho del ratón."
   ]
  },
  {
   "cell_type": "markdown",
   "metadata": {
    "id": "AxBwSgbZqU3O"
   },
   "source": [
    "Añade la ruta de esta carpeta compartida a la ruta de búsqueda de Python."
   ]
  },
  {
   "cell_type": "code",
   "execution_count": null,
   "metadata": {
    "id": "q5T200mJqU3O"
   },
   "outputs": [],
   "source": [
    "import sys\n",
    "Mpath = '/content/drive/MyDrive/ProgramasFAyM'\n",
    "#Mpath = '/content/drive/My Drive/ProgramasFAyM'\n",
    "#Mpath = '/drive/MyDrive/ProgramasFAyM'\n",
    "#Mpath = '/drive/My Drive/ProgramasFAyM'\n",
    "sys.path.append(Mpath)"
   ]
  },
  {
   "cell_type": "markdown",
   "metadata": {
    "id": "mB5yFJyZTAVL"
   },
   "source": [
    "Importa el módulo donde se encuentra el código del programa y la librería numpy que es necesaria para algunos cálculos. Sólo es necesario hacerlo una vez, aunque el programa se ejecute varias veces.\n",
    "\n",
    "Si no encuentra el módulo puede significar que no se ha creado correctamente el acceso directo a la carpeta compartida o que la ruta de esta carpeta es diferente a lo indicado en la celda anterior. En este último caso, prueba alguna de las alternativas de `Mpath` quitando el símbolo `#` que tiene delante. Si esto sigue sin funcionar, abre el árbol de archivos (icono con forma de carpeta a la izquierda de esta ventana) del entorno de ejecución y busca el acceso directo a la carpeta compartida en tu unidad Drive. Al pinchar con el botón derecho sobre ella, aparece un menú desplegable con la opción `copiar ruta`, que permite hallar la ruta correcta para dar a la variable `Mpath`."
   ]
  },
  {
   "cell_type": "code",
   "execution_count": null,
   "metadata": {
    "id": "w2WkiQPnTGAL"
   },
   "outputs": [],
   "source": [
    "import atomictools as at\n",
    "import numpy as np"
   ]
  },
  {
   "cell_type": "markdown",
   "metadata": {
    "id": "qURC0cfJxxuc"
   },
   "source": [
    "En la misma carpeta compartida donde está el código del programa, se han subido unos ficheros con las soluciones numéricas a la ecuación de Schrödinger radial con un modelo de potencial central para el átomo de carbono. Hay un fichero para cada nivel ocupado del átomo en su configuración fundamental 1s$^2$ 2s$^2$ 2p$^2$.\n",
    "\n",
    "A continuación pasa la ruta de estos ficheros a la función `R_num` para cargar la función radial en este entorno de trabajo."
   ]
  },
  {
   "cell_type": "code",
   "execution_count": null,
   "metadata": {
    "colab": {
     "base_uri": "https://localhost:8080/"
    },
    "id": "rES1SsvT3cji",
    "outputId": "027e665e-f3fa-4ce7-a017-a335f23f59dd"
   },
   "outputs": [],
   "source": [
    "C_1s_num = at.R_num(Mpath + '/files/C_1s.txt')\n",
    "C_2s_num = at.R_num(Mpath + '/files/C_2s.txt')\n",
    "C_2p_num = at.R_num(Mpath + '/files/C_2p.txt')"
   ]
  },
  {
   "cell_type": "markdown",
   "metadata": {
    "id": "OCR43_CFzdJh"
   },
   "source": [
    "Vamos a comparar estas soluciones numéricas con las soluciones hidrogenoides para un potencial coulombiano de carga $Z=6$.\n",
    "\n",
    "Obtenemos primero las funciones radiales hidrogenoides con la función `R_hydog`."
   ]
  },
  {
   "cell_type": "code",
   "execution_count": null,
   "metadata": {
    "id": "yNSlpTBuBARA"
   },
   "outputs": [],
   "source": [
    "C_1s_Z = at.R_hydrog(n=1, l=0, Z=6)\n",
    "C_2s_Z = at.R_hydrog(n=2, l=0, Z=6)\n",
    "C_2p_Z = at.R_hydrog(n=2, l=1, Z=6)"
   ]
  },
  {
   "cell_type": "markdown",
   "metadata": {
    "id": "-iRBEp-LKZNi"
   },
   "source": [
    "A continuación, comparamos gráficamente los resultados. Para el nivel 1s, no se aprecian grandes diferencias entre la solución numérica y la solución hidrogenoide (nótese que la escala horizontal es distinta).\n",
    "Para los otros niveles sí se aprecian diferencias claras en las posiciones de los nodos y los máximos de probabilidad, sobre todo para el nivel 2p, donde el desplazamiento del máximo es muy notable. Esto se debe al apantallamiento que producen los electrones más internos."
   ]
  },
  {
   "cell_type": "code",
   "execution_count": null,
   "metadata": {
    "colab": {
     "base_uri": "https://localhost:8080/",
     "height": 1000
    },
    "id": "kkMW3kiBAa_E",
    "outputId": "5ad92f4e-234c-4e2e-bade-b0e1c8e56dfa"
   },
   "outputs": [],
   "source": [
    "#C_1s_num.plot_P()\n",
    "#C_2s_num.plot_P()\n",
    "C_2p_num.plot_P()\n",
    "\n",
    "#C_1s_Z.plot_P()\n",
    "#C_2s_Z.plot_P()\n",
    "C_2p_Z.plot_P()"
   ]
  },
  {
   "cell_type": "markdown",
   "metadata": {
    "id": "0x7vjZKMyIEu"
   },
   "source": [
    "Podemos construir orbitales con la función `orbital` a partir de las funciones radiales numéricas anteriores y los armónicos esféricos correspondientes (o funciones angulares radiales)."
   ]
  },
  {
   "cell_type": "code",
   "execution_count": null,
   "metadata": {
    "id": "tZrRCTTL4Ouo"
   },
   "outputs": [],
   "source": [
    "Y00 = at.spherical_harmonic(l=0, m=0)\n",
    "Y10 = at.spherical_harmonic(l=1, m=0)\n",
    "Y11 = at.spherical_harmonic(l=1, m=1)\n",
    "Y1_1 = at.spherical_harmonic(l=1, m=-1)\n",
    "\n",
    "orb_1s = at.orbital(f_rad=C_1s_num, f_ang=Y00)\n",
    "orb_2s = at.orbital(f_rad=C_2s_num, f_ang=Y00)\n",
    "orb_2p0 = at.orbital(f_rad=C_2p_num, f_ang=Y10)\n",
    "orb_2p1 = at.orbital(f_rad=C_2p_num, f_ang=Y11)\n",
    "orb_2p_1 = at.orbital(f_rad=C_2p_num, f_ang=Y1_1)"
   ]
  },
  {
   "cell_type": "markdown",
   "metadata": {
    "id": "2HMtCpjlyvj9"
   },
   "source": [
    "La visualización 3D es muy similar a la de un orbital del átomo de hidrógono. La principal diferencia es el tamaño del orbital."
   ]
  },
  {
   "cell_type": "code",
   "execution_count": null,
   "metadata": {
    "colab": {
     "base_uri": "https://localhost:8080/",
     "height": 542
    },
    "id": "lO8Q5EwPzAdN",
    "outputId": "63c0eb38-9548-416d-c042-589d7c44d0a6"
   },
   "outputs": [],
   "source": [
    "#orb_1s.plot_volume()\n",
    "#orb_2s.plot_volume()\n",
    "orb_2p0.plot_volume()\n",
    "#orb_2p1.plot_volume()\n",
    "#orb_2p_1.plot_volume()"
   ]
  },
  {
   "cell_type": "markdown",
   "metadata": {
    "id": "ws1IHK33zTc1"
   },
   "source": [
    "No se puede visualizar la distribución de probabilidad de todos los electrones del átomo (es una distribución en $6\\cdot 3=18$ dimensiones!!). Pero sí es fácil obtener la distribución espacial de carga. Ésta se obtiene sumando las distribuciones espaciales de probabilidad de todos los orbitales ocupados (sumando también sobre espines). Nótese que el resultado dependerá del estado en que se encuentre el átomo. Asumiendo que el estado se describe por un determinante de Slater, se obtiene el siguiente resultado."
   ]
  },
  {
   "cell_type": "code",
   "execution_count": null,
   "metadata": {
    "colab": {
     "base_uri": "https://localhost:8080/",
     "height": 542
    },
    "id": "B9Y9FF9fB14i",
    "outputId": "0899f0a1-180a-4f54-f194-07d0584f6bad"
   },
   "outputs": [],
   "source": [
    "orb = at.orbital_hydrog(n=1, l=0, m=0) # Sólo es para generar un objeto de tipo orbital\n",
    "# Niveles 1s2 2s2\n",
    "prob.orb = 2. * orb_1s.prob #+ 2. * orb_2s.prob\n",
    "# Determinante (0+ 0-)\n",
    "#orb.prob += 2. * orb_2p0.prob\n",
    "# Determinante (1+ 0+)\n",
    "orb.prob += 1. * orb_2p1.prob + 1. * orb_2p0.prob\n",
    "orb.plot_volume()"
   ]
  },
  {
   "cell_type": "markdown",
   "metadata": {
    "id": "nR-wi4SA3sPD"
   },
   "source": [
    "Para todos los estados se obtiene básicamente la misma figura porque la distribución del orbital 1s está mucho más concentrada que la de los orbitales apantallados 2s y 2p, que no se aprecian por la escala de colores del plot de volumen.\n",
    "\n",
    "Si nos centramos ahora en los electrones de valencia 2p, la distribución de carga es la siguiente. Nótese el cambio de escala en la densidad de probabilidad de la barra de colores."
   ]
  },
  {
   "cell_type": "code",
   "execution_count": null,
   "metadata": {
    "colab": {
     "base_uri": "https://localhost:8080/",
     "height": 542
    },
    "id": "Mh1qyQqvCJWP",
    "outputId": "f43409a3-be78-4c3e-9e7f-8c288aa1f274"
   },
   "outputs": [],
   "source": [
    "orb = at.orbital_hydrog(n=1, l=0, m=0) # Sólo es para generar un objeto de tipo orbital\n",
    "# Determinante (0+ 0-)\n",
    "#orb.prob = 2. * orb_2p0.prob\n",
    "# Determinante (1+ 0+)\n",
    "orb.prob = 1. * orb_2p1.prob + 1. * orb_2p0.prob\n",
    "orb.plot_volume()"
   ]
  },
  {
   "cell_type": "markdown",
   "metadata": {
    "id": "OnLwW-OlDni5"
   },
   "source": [
    "Un último resultado interesante que se puede obtener en este ejemplo es demostrar que la distribución espacial de carga de un nivel completo tiene simetría esférica. Para ello, sumamos las distribuciones de probabilidad de los 3 orbitales 2p (6 si tenemos en cuenta las orientaciones de espín)."
   ]
  },
  {
   "cell_type": "code",
   "execution_count": null,
   "metadata": {
    "colab": {
     "base_uri": "https://localhost:8080/",
     "height": 542
    },
    "id": "nbFUJoPD5GUV",
    "outputId": "4f2dcb23-fb2b-4839-9c5d-19b94fe0d04d"
   },
   "outputs": [],
   "source": [
    "orb = at.orbital_hydrog(n=1, l=0, m=0) # Sólo es para generar un objeto de tipo orbital\n",
    "orb.prob = 2. * orb_2p0.prob + 2. * orb_2p1.prob + 2. * orb_2p_1.prob\n",
    "orb.plot_volume()"
   ]
  },
  {
   "cell_type": "code",
   "execution_count": null,
   "metadata": {
    "id": "hSV3NDnNELM-"
   },
   "outputs": [],
   "source": []
  }
 ],
 "metadata": {
  "colab": {
   "provenance": []
  },
  "kernelspec": {
   "display_name": "Python 3",
   "language": "python",
   "name": "python3"
  },
  "language_info": {
   "codemirror_mode": {
    "name": "ipython",
    "version": 3
   },
   "file_extension": ".py",
   "mimetype": "text/x-python",
   "name": "python",
   "nbconvert_exporter": "python",
   "pygments_lexer": "ipython3",
   "version": "3.8.5"
  }
 },
 "nbformat": 4,
 "nbformat_minor": 1
}
