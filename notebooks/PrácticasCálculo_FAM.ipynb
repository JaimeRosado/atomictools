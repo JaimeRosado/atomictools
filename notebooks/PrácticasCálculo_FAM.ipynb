{
 "cells": [
  {
   "cell_type": "markdown",
   "metadata": {},
   "source": [
    "# Prácticas de cálculo numérico\n",
    "###### Física Atómica y Molecular, Jaime Rosado - UCM"
   ]
  },
  {
   "cell_type": "markdown",
   "metadata": {},
   "source": [
    "### Comandos para ejecutar este cuaderno desde Google Colab$^*$"
   ]
  },
  {
   "cell_type": "markdown",
   "metadata": {},
   "source": [
    "En primer lugar, es necesario instalar una librería no incluida por defecto en Colab y configurar el entorno gráfico."
   ]
  },
  {
   "cell_type": "code",
   "execution_count": null,
   "metadata": {},
   "outputs": [],
   "source": [
    "!pip install ipympl\n",
    "from google.colab import output\n",
    "output.enable_custom_widget_manager()"
   ]
  },
  {
   "cell_type": "markdown",
   "metadata": {},
   "source": [
    "Clona el repositorio de GitHub donde está alojada la librería `atomictools`."
   ]
  },
  {
   "cell_type": "code",
   "execution_count": null,
   "metadata": {},
   "outputs": [],
   "source": [
    "!git clone https://github.com/JaimeRosado/atomictools.git"
   ]
  },
  {
   "cell_type": "markdown",
   "metadata": {},
   "source": [
    "Al pinchar en el icono en forma de carpeta en el menú de la izquierda de la pantalla, se abre un árbol de archivos donde debería aparecer una carpeta llamada `atomictools`. Añade la ruta de esta carpeta en la búsqueda de Python."
   ]
  },
  {
   "cell_type": "code",
   "execution_count": null,
   "metadata": {},
   "outputs": [],
   "source": [
    "import sys\n",
    "sys.path.insert(0,'/content/atomictools')"
   ]
  },
  {
   "cell_type": "markdown",
   "metadata": {},
   "source": [
    "Ahora configura el notebook para generar gráficos interactivos e importa la librería `atomictools` con el alias `at`."
   ]
  },
  {
   "cell_type": "code",
   "execution_count": null,
   "metadata": {},
   "outputs": [],
   "source": [
    "%matplotlib widget\n",
    "import atomictools as at"
   ]
  },
  {
   "cell_type": "markdown",
   "metadata": {},
   "source": [
    "$^*$Si tienes Python y Jupyter instalados, puedes correr el cuaderno desde Jupyter en lugar de Colab. Para eso, tienes que descargarte previamente la librería `atomictools` en tu PC. Ve a la página https://github.com/JaimeRosado/atomictools, pincha en el botón verde `Code` y se abrirá un menú desplegable. Pincha en la opción `Download ZIP` para descargarte la librería. A continuación, extrae el contenido del archivo ZIP y mueve este cuaderno a la misma carpeta donde has extraído la librería. Finalmente, abre el cuaderno con Jupyter y ejecuta la celda de arriba para importar la librería (las tres primeras celdas sólo sirven para ejecutar el cuaderno desde Colab)."
   ]
  },
  {
   "cell_type": "markdown",
   "metadata": {},
   "source": [
    "### Primera práctica: cálculo de orbitales atómicos con dos modelos de potencial"
   ]
  },
  {
   "cell_type": "markdown",
   "metadata": {},
   "source": [
    "Ejecuta el programa `calculate` que se encuentra en la librería `atomictools`. Por defecto, el programa carga los parámetros de entrada y la solución a la ecuación de Schrödinger para el orbital 1s del átomo de Hidrógeno. Se genera una figura donde se representa la función $P(r)$ en unidades atómicas, incluyendo el detalle de la función cerca del origen en un gráfico insertado en la esquina superior derecha. La figura se actualiza cada vez que se modifica algún parámetro. Además, la propia figura tiene botones interactivos para cambiar la escala, hacer zoom, etc. El icono con forma de casa sirve para volver a la escala original. Pero si se han hecho muchos cambios de escala, puede ser necesario volver a ejecutar la celda para que la figura se visualice en autoescala.\n",
    "\n",
    "Los controles permiten modificar el potencial modelo y los parámetros para resolver la ecuación de Schrödinger. Algunos parámetros están fijos dependiendo del modelo de potencial elegido. Se pueden introducir directamente los valores numéricos con todos los decimales que se necesiten en los campos a la derecha del control. Hay que **pulsar `Enter`** cada vez que se introduce manualmente un valor numérico en un campo para que el parámetro se actualice. También se pueden pulsar las flechas arriba/abajo para variar el valor de algunos campos, pero con una precisión limitada.\n",
    "\n",
    "Una vez se haya encontrado una solución que satisface las condiciones de contorno y el número de nodos del orbital buscado, pon un nombre de fichero y haz click en `Save` para guardarlo. El fichero se guardará en el mismo directorio de trabajo donde se encuentra este cuaderno. Tras guardar una solución en un fichero, se puede seguir modificando los parámetros para encontrar otra solución y guardarla en otro fichero con distinto nombre (recuerda cambiar el nombre para no sobreescribir el fichero).\n",
    "\n",
    "No obstante, no es necesario guardar todos los orbitales calculados en ficheros. Es suficiente con apuntar para cada orbital calculado: la energía, el radio máximo de cálculo y el radio donde la función alcanza el máximo."
   ]
  },
  {
   "cell_type": "code",
   "execution_count": null,
   "metadata": {
    "scrolled": true
   },
   "outputs": [],
   "source": [
    "at.calculate()"
   ]
  },
  {
   "cell_type": "markdown",
   "metadata": {},
   "source": [
    "Una vez se ha guardado un orbital en un fichero (supongamos que se trata del orbital 1s con nombre '1s.txt'), éste se puede cargar para su posterior visualización con las herramientas de la librería `atomictools`(ver notebook para átomos polielectrónicos)."
   ]
  },
  {
   "cell_type": "code",
   "execution_count": null,
   "metadata": {},
   "outputs": [],
   "source": [
    "R_1s = at.R_num('1s.txt')"
   ]
  },
  {
   "cell_type": "markdown",
   "metadata": {},
   "source": [
    "Con el programa `calculate` se visualizaba la función $P$, pero podemos visualizar por ejemplo la distribución de probabilidad volumétrica."
   ]
  },
  {
   "cell_type": "code",
   "execution_count": null,
   "metadata": {},
   "outputs": [],
   "source": [
    "R_1s.plot_R2()"
   ]
  },
  {
   "cell_type": "markdown",
   "metadata": {},
   "source": [
    "También podemos visualizar el orbital tridimensionalmente incluyendo la parte angular."
   ]
  },
  {
   "cell_type": "code",
   "execution_count": null,
   "metadata": {},
   "outputs": [],
   "source": [
    "Y00 = at.spherical_harmonic(l=0, m=0)\n",
    "orb_1s = at.orbital(f_rad=R_1s, f_ang=Y00)\n",
    "orb_1s.plot_volume()"
   ]
  },
  {
   "cell_type": "markdown",
   "metadata": {},
   "source": [
    "### Segunda práctica: cálculo de orbitales atómicos con el potencial de Thomas-Fermi"
   ]
  },
  {
   "cell_type": "markdown",
   "metadata": {},
   "source": [
    "Una vez hayas ejecutado las primeras celdas de este cuaderno para configurar el entorno gráfico e importar las librerías necesarias, ejecuta el programa `Fermi` para resolver la ecuación de Fermi. Los controles permiten modificar los parámetros de entrada con los que resolver la ecuación. Se pueden introducir directamente los valores numéricos en los campos a la derecha del control (recuerda **pulsar `Enter`**). La figura también tiene controles internos para cambiar la escala, hacer zoom, etc.\n",
    "\n",
    "Tras encontrar la solución que satisface las condiciones de contorno para el átomo considerado, haz click en `Accept` para aceptar la solución. Se generará entonces un gráfico con la distribución de carga y el potencial.\n",
    "\n",
    "A continuación, pon un nombre del fichero donde guardar los resultados y haz click en `Save`."
   ]
  },
  {
   "cell_type": "code",
   "execution_count": null,
   "metadata": {
    "scrolled": true
   },
   "outputs": [],
   "source": [
    "at.Fermi()"
   ]
  },
  {
   "cell_type": "markdown",
   "metadata": {},
   "source": [
    "Sigue las instrucciones del guion para hallar los parámetros `H` y `D` del potencial de Green-Sellin-Zachor que ajusta el potencial obtenido con el modelo de Thomas-Fermi. Puedes usar las líneas de código de abajo para hacer los cálculos con Python."
   ]
  },
  {
   "cell_type": "code",
   "execution_count": null,
   "metadata": {},
   "outputs": [],
   "source": []
  },
  {
   "cell_type": "code",
   "execution_count": null,
   "metadata": {},
   "outputs": [],
   "source": []
  },
  {
   "cell_type": "markdown",
   "metadata": {},
   "source": [
    "Para comprobar que el ajuste es correcto, ejecuta la siguiente celda. Hay que introducir el nombre del fichero donde se ha guardado la solución de la ecuación de Fermi y, a continuación, los parámetros `H` y `D` encontrados."
   ]
  },
  {
   "cell_type": "code",
   "execution_count": null,
   "metadata": {},
   "outputs": [],
   "source": [
    "at.check_fit()"
   ]
  },
  {
   "cell_type": "markdown",
   "metadata": {},
   "source": [
    "Ejecuta el programa para el cálculo de orbitales, que es el mismo usado en la primera práctica. Selecciona el potencial de Green-Sellin-Zachor con los parámetros `H` y `D` encontrados anteriormente.\n",
    "\n",
    "Recuerda que una vez se haya encontrado una solución, puedes guardarla en un fichero, aunque es suficiente con apuntar la energía y radio máximo de cálculo de cada orbital."
   ]
  },
  {
   "cell_type": "code",
   "execution_count": null,
   "metadata": {
    "scrolled": false
   },
   "outputs": [],
   "source": [
    "at.calculate()"
   ]
  },
  {
   "cell_type": "markdown",
   "metadata": {},
   "source": [
    "Una vez hemos calculado los orbitales pedidos en el guion, podemos obtener el valor esperado $\\langle r\\rangle$ para cada uno y compararlo con el parámetro $r_0$ obtenido al resolver la ecuación de Fermi. Si $\\langle r\\rangle>r_0$, podemos considerar que el orbital es externo y usar las aproximaciones adecuadas para describir este tipo de orbitales."
   ]
  },
  {
   "cell_type": "code",
   "execution_count": null,
   "metadata": {},
   "outputs": [],
   "source": [
    "R_4s = at.R_num('4s.txt')\n",
    "R_4s.expected_rk(1)"
   ]
  },
  {
   "cell_type": "code",
   "execution_count": null,
   "metadata": {},
   "outputs": [],
   "source": []
  }
 ],
 "metadata": {
  "kernelspec": {
   "display_name": "Python 3",
   "language": "python",
   "name": "python3"
  },
  "language_info": {
   "codemirror_mode": {
    "name": "ipython",
    "version": 3
   },
   "file_extension": ".py",
   "mimetype": "text/x-python",
   "name": "python",
   "nbconvert_exporter": "python",
   "pygments_lexer": "ipython3",
   "version": "3.8.5"
  }
 },
 "nbformat": 4,
 "nbformat_minor": 4
}
