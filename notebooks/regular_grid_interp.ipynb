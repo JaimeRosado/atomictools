{
 "cells": [
  {
   "cell_type": "code",
   "execution_count": 1,
   "metadata": {},
   "outputs": [],
   "source": [
    "import numpy as np\n",
    "import scipy.special as spe\n",
    "from scipy.interpolate import RegularGridInterpolator\n",
    "import plotly.graph_objects as go\n",
    "import plotly.io as pio\n",
    "pio.renderers.default='iframe'"
   ]
  },
  {
   "cell_type": "code",
   "execution_count": 2,
   "metadata": {},
   "outputs": [],
   "source": [
    "def ftheta(l, m, theta):\n",
    "    C = np.sqrt((2.*l+1.) * spe.factorial(l-m) / 2. / spe.factorial(l+m))\n",
    "    legendre = spe.lpmv(m, l, np.cos(theta))\n",
    "    return C * legendre\n",
    "\n",
    "def fphi(m, phi, part=None):\n",
    "    if part is None:\n",
    "        return np.sqrt(1./(2.*np.pi)) * np.exp(1j * m * phi)\n",
    "    elif part==\"Re\" or m==0:\n",
    "        return np.sqrt(1./np.pi) * np.cos(m * phi)\n",
    "    elif part==\"Im\":\n",
    "        return np.sqrt(1./np.pi) * np.sin(m * phi)\n",
    "    else:\n",
    "        raise ValueError(\"The parameter part should be Re or Im.\")\n"
   ]
  },
  {
   "cell_type": "code",
   "execution_count": 3,
   "metadata": {},
   "outputs": [],
   "source": [
    "phi=np.linspace(0,2*np.pi,100)\n",
    "theta=np.linspace(0, np.pi, 50)\n",
    "\n",
    "[PHI, THETA]=np.meshgrid(phi, theta)\n",
    "\n",
    "fphi_m = fphi(1, phi)\n",
    "ftheta_lm = ftheta(2,1,theta)\n",
    "\n",
    "Y = np.outer(fphi_m, ftheta_lm)\n",
    "module = np.abs(Y)\n",
    "prob = module**2*np.sin(theta)"
   ]
  },
  {
   "cell_type": "code",
   "execution_count": 4,
   "metadata": {},
   "outputs": [],
   "source": [
    "interp = RegularGridInterpolator((phi, theta), prob,\n",
    "                                 bounds_error=False, fill_value=None)"
   ]
  },
  {
   "cell_type": "code",
   "execution_count": 13,
   "metadata": {},
   "outputs": [
    {
     "data": {
      "text/html": [
       "<iframe\n",
       "    scrolling=\"no\"\n",
       "    width=\"100%\"\n",
       "    height=\"545px\"\n",
       "    src=\"iframe_figures/figure_13.html\"\n",
       "    frameborder=\"0\"\n",
       "    allowfullscreen\n",
       "></iframe>\n"
      ]
     },
     "metadata": {},
     "output_type": "display_data"
    }
   ],
   "source": [
    "fig1 = go.Figure(data=[go.Scatter3d(x=PHI.ravel(), y=THETA.ravel(), z=prob.ravel(),\n",
    "                                   mode='markers', \n",
    "                                    marker=dict(\n",
    "                                     size=3,\n",
    "                                     color=prob.ravel(),                # set color to an array/list of desired values\n",
    "                                     colorscale='Viridis',   # choose a colorscale\n",
    "                                     opacity=0.8\n",
    "                                ))])\n",
    "fig1.show()"
   ]
  },
  {
   "cell_type": "code",
   "execution_count": null,
   "metadata": {},
   "outputs": [],
   "source": []
  }
 ],
 "metadata": {
  "kernelspec": {
   "display_name": "Python 3",
   "language": "python",
   "name": "python3"
  },
  "language_info": {
   "codemirror_mode": {
    "name": "ipython",
    "version": 3
   },
   "file_extension": ".py",
   "mimetype": "text/x-python",
   "name": "python",
   "nbconvert_exporter": "python",
   "pygments_lexer": "ipython3",
   "version": "3.8.5"
  }
 },
 "nbformat": 4,
 "nbformat_minor": 4
}
