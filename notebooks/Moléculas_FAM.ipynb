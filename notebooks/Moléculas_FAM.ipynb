{
  "cells": [
    {
      "cell_type": "markdown",
      "metadata": {
        "id": "-szsuPknqU3H"
      },
      "source": [
        "# Orbitales moleculares y orbitales atómicos híbridos\n",
        "\n",
        "Autores: Alejandro Villar y Jaime Rosado"
      ]
    },
    {
      "cell_type": "markdown",
      "metadata": {
        "id": "H-8oi9qXqU3L"
      },
      "source": [
        "### Comandos para ejecutar este cuaderno desde Google Colab"
      ]
    },
    {
      "cell_type": "markdown",
      "metadata": {
        "id": "V8srfIQhqU3M"
      },
      "source": [
        "Clona el repositorio de GitHub donde está alojada la librería `atomictools`."
      ]
    },
    {
      "cell_type": "code",
      "execution_count": null,
      "metadata": {
        "id": "IjZt0V9SqU3M"
      },
      "outputs": [],
      "source": [
        "!git clone https://github.com/JaimeRosado/atomictools.git"
      ]
    },
    {
      "cell_type": "markdown",
      "metadata": {
        "id": "BcfFvElcqU3O"
      },
      "source": [
        "Al pinchar en el icono en forma de carpeta en el menú de la izquierda de la pantalla, se abre un árbol de archivos donde debería aparecer una carpeta llamada `atomictools`. Añade la ruta de esta carpeta en la búsqueda de Python."
      ]
    },
    {
      "cell_type": "code",
      "execution_count": null,
      "metadata": {
        "id": "q5T200mJqU3O"
      },
      "outputs": [],
      "source": [
        "import sys\n",
        "sys.path.insert(0,'/content/atomictools')"
      ]
    },
    {
      "cell_type": "markdown",
      "metadata": {
        "id": "mB5yFJyZTAVL"
      },
      "source": [
        "Ahora importa la librería `atomictools` con el alias `at` y la librería `numpy` como `np`."
      ]
    },
    {
      "cell_type": "code",
      "execution_count": null,
      "metadata": {
        "id": "w2WkiQPnTGAL"
      },
      "outputs": [],
      "source": [
        "import atomictools as at\n",
        "import numpy as np"
      ]
    },
    {
      "cell_type": "markdown",
      "source": [
        "### Orbitales moleculares"
      ],
      "metadata": {
        "id": "01F47UHlvM-0"
      }
    },
    {
      "cell_type": "markdown",
      "source": [
        "En este cuaderno vamos a construir y visualizar algunos orbitales moleculares, tanto enlazantes como antienlazantes, en la aproximación CLOA (Combinación Lineal de Orbitales Atómicos). Por simplicidad, usaremos orbitales de átomos monoelectrónicos. Podríamos usar orbitales de átomos polielectrónicos construidos a partir de las soluciones radiales numéricas para un potencial central adecuado (ver cuaderno de ejemplos de para átomos polielectrónicos), pero no cambia mucho la forma de los orbitales moleculares resultantes.\n",
        "\n",
        "Primero construimos los primeros orbitales del átomo de hidrógeno. Por conveniencia, tomaremos funciones angulares reales, es decir, usamos los orbitales $\\text{2p}_\\text{x}$, $\\text{2p}_\\text{y}$, $\\text{2p}_\\text{z}$, aunque se podrían tomar también armónicos esféricos (pruébalo!)."
      ],
      "metadata": {
        "id": "qURC0cfJxxuc"
      }
    },
    {
      "cell_type": "code",
      "source": [
        "orb_1s = at.orbital_hydrog(n=1, l=0, m=0)\n",
        "orb_2s = at.orbital_hydrog(n=2, l=0, m=0)\n",
        "orb_2pz = at.orbital_hydrog(n=2, l=1, m=0, part=\"Re\")\n",
        "orb_2px = at.orbital_hydrog(n=2, l=1, m=1, part=\"Re\")\n",
        "orb_2py = at.orbital_hydrog(n=2, l=1, m=1, part=\"Im\")"
      ],
      "metadata": {
        "id": "yNSlpTBuBARA"
      },
      "execution_count": null,
      "outputs": []
    },
    {
      "cell_type": "markdown",
      "source": [
        "A continuación, construimos los orbitales moleculares $\\sigma_\\text{g}$ y $\\sigma^*_\\text{u}$ a partir de dos orbitales atómicos $\\text{1s}$ centrados en posiciones distintas. Usamos la función `molecular_orbital`, al que tenemos que pasar las listas `orbitals`, `coefficients` y `centers`, donde la última lista debe tener las coordenadas cartesianas de los dos núcleos. Para la molécula H$_2^+$, la distancia internuclear de equilibrio en esta aproximación es $R=2.49\\,a_0$, aunque podemos probar otros valores (siempre en unidades atómicas)."
      ],
      "metadata": {
        "id": "-iRBEp-LKZNi"
      }
    },
    {
      "cell_type": "code",
      "source": [
        "R = 2.49\n",
        "sigma_g = at.molecular_orbital(orbitals=[orb_1s, orb_1s], coefficients=[1., 1.], centers=[(0.,0.,R/2), (0.,0.,-R/2)])\n",
        "sigma_u = at.molecular_orbital(orbitals=[orb_1s, orb_1s], coefficients=[1., -1.], centers=[(0.,0.,R/2), (0.,0.,-R/2)])"
      ],
      "metadata": {
        "id": "kkMW3kiBAa_E"
      },
      "execution_count": null,
      "outputs": []
    },
    {
      "cell_type": "markdown",
      "source": [
        "Se pueden visualizar usando la función `plot_volume` o `plot_scatter`"
      ],
      "metadata": {
        "id": "0x7vjZKMyIEu"
      }
    },
    {
      "cell_type": "code",
      "source": [
        "#sigma_g.plot_volume()\n",
        "#sigma_u.plot_volume()\n",
        "sigma_g.plot_scatter()\n",
        "sigma_u.plot_scatter()"
      ],
      "metadata": {
        "id": "tZrRCTTL4Ouo"
      },
      "execution_count": null,
      "outputs": []
    },
    {
      "cell_type": "markdown",
      "source": [
        "Probamos ahora combinaciones de orbitales $\\text{2p}$. Esperamos una distancia internuclear mayor, así que podemos probar con $R=8\\,a_0$.\n",
        "\n",
        "Primero los orbitales $\\sigma\\,\\text{2p}$ enlanzante y antienlazante. Notar que los coeficientes de combinación lineal tienen el signo cambiado para el orbital par y el mismo signo para el orbital impar."
      ],
      "metadata": {
        "id": "2HMtCpjlyvj9"
      }
    },
    {
      "cell_type": "code",
      "source": [
        "R = 8.\n",
        "sigma_g_2p = at.molecular_orbital(orbitals=[orb_2pz, orb_2pz], coefficients=[1., -1.], centers=[(0.,0.,R/2), (0.,0.,-R/2)])\n",
        "sigma_u_2p = at.molecular_orbital(orbitals=[orb_2pz, orb_2pz], coefficients=[1., 1.], centers=[(0.,0.,R/2), (0.,0.,-R/2)])\n",
        "\n",
        "sigma_g_2p.plot_volume()\n",
        "sigma_u_2p.plot_volume()\n",
        "#sigma_g_2p.plot_scatter()\n",
        "#sigma_u_2p.plot_scatter()"
      ],
      "metadata": {
        "id": "lO8Q5EwPzAdN"
      },
      "execution_count": null,
      "outputs": []
    },
    {
      "cell_type": "markdown",
      "source": [
        "Orbitales $\\pi\\,\\text{2p}$"
      ],
      "metadata": {
        "id": "ws1IHK33zTc1"
      }
    },
    {
      "cell_type": "code",
      "source": [
        "R = 8.\n",
        "pi_u_2px = at.molecular_orbital(orbitals=[orb_2px, orb_2px], coefficients=[1., 1.], centers=[(0.,0.,R/2), (0.,0.,-R/2)])\n",
        "pi_g_2px = at.molecular_orbital(orbitals=[orb_2px, orb_2px], coefficients=[1., -1.], centers=[(0.,0.,R/2), (0.,0.,-R/2)])\n",
        "\n",
        "pi_u_2px.plot_volume()\n",
        "pi_g_2px.plot_volume()\n",
        "#pi_u_2px.plot_scatter()\n",
        "#pi_g_2px.plot_scatter()"
      ],
      "metadata": {
        "id": "B9Y9FF9fB14i"
      },
      "execution_count": null,
      "outputs": []
    },
    {
      "cell_type": "markdown",
      "source": [
        "Podemos construir también un orbital molecular de una molécula polar. Por ejemplo, combinando un orbital $\\text{1s}$ con un orbital $\\text{2s}$. Esta sería la situación de la molécula de Li H, aunque en lugar de tomar el orbital $\\text{2s}$ calculado para un potencial central adecuado para el Li, usaremos por simplicidad el orbital $\\text{2s}$ del H, que será parecido. Además, suponemos un peso mayor para el orbital $\\text{1s}$ del H que para el $\\text{2s}$ del Li, por ser el H más electronegativo."
      ],
      "metadata": {
        "id": "nR-wi4SA3sPD"
      }
    },
    {
      "cell_type": "code",
      "source": [
        "R = 5.\n",
        "orb = at.molecular_orbital(orbitals=[orb_1s, orb_2s], coefficients=[2., 1.], centers=[(0.,0.,R/2.), (0.,0.,-R/2.)])\n",
        "orb.plot_volume()"
      ],
      "metadata": {
        "id": "Mh1qyQqvCJWP"
      },
      "execution_count": null,
      "outputs": []
    },
    {
      "cell_type": "markdown",
      "source": [
        "Por último, podemos simular el orbital $\\text{1a}_1$ de la molécula H$_2$O, que resulta de una combinación simétrica de los orbitales $\\text{1s}$ del H, que se combina a su vez con el orbital $\\text{2s}$ del O, el cual aproximaremos con el del H y le daremos un mayor peso. Hay que tener en cuenta además la geometría tridimensional de la molécula para construir este orbital, donde se han elegido distancias internucleares apropiadas para una mejor visualización, aunque el resultado no sea del todo realista."
      ],
      "metadata": {
        "id": "OnLwW-OlDni5"
      }
    },
    {
      "cell_type": "code",
      "source": [
        "x_O = 0.\n",
        "y_O = 0.\n",
        "z_O = 0.5\n",
        "R_O = (x_O, y_O, z_O)\n",
        "R_OH = 2.\n",
        "angle = 104.5 * np.pi / 180.\n",
        "x_H1 = R_OH * np.sin(angle/2.)\n",
        "x_H2 = -x_H1\n",
        "y_H1 = 0.\n",
        "y_H2 = 0.\n",
        "z_H1 = -R_OH * np.cos(angle/2.)\n",
        "z_H2 = z_H1\n",
        "R_H1 = (x_H1, y_H1, z_H1)\n",
        "R_H2 = (x_H2, y_H2, z_H2)\n",
        "\n",
        "orb = at.molecular_orbital(orbitals=[orb_1s, orb_1s, orb_2s], coefficients=[1., 1., 3.], centers=[R_H1, R_H2, R_O])\n",
        "orb.plot_volume()"
      ],
      "metadata": {
        "id": "nbFUJoPD5GUV"
      },
      "execution_count": null,
      "outputs": []
    },
    {
      "cell_type": "markdown",
      "source": [
        "### Orbitales híbridos"
      ],
      "metadata": {
        "id": "e6f-sUUC4v_H"
      }
    },
    {
      "cell_type": "markdown",
      "source": [
        "En el método de enlace-valencia, se asume que cada electrón se encuentra en un orbital atómico (no molecular) y se producen enlaces entre los orbitales de los distintos átomos. Para tener en cuenta el efecto de un átomo sobre otro y la geometría de la molécula resultante, se asume que los orbitales atómicos se pueden hibridar. De hecho, ya hemos obtenido estos orbitales híbridos en otro cuaderno donde estudiábamos cómo un campo electrostático deforma los orbitales del átomos de H (efecto Stark).\n",
        "\n",
        "Veamos aquí los 3 módelos de hibridación típicos de átomos como el C. Para ello, usaremos de nuevo los orbitales del átomo de H por simplicidad. Visualizamos sólo uno de cada tipo porque sólo cambia su orientación."
      ],
      "metadata": {
        "id": "NpMdIZU54zYV"
      }
    },
    {
      "cell_type": "code",
      "source": [
        "# orbitales sp\n",
        "orb_sp_1 = at.hybrid_orbital(orbitals=[orb_2s, orb_2pz], coefficients=[1., 1.])\n",
        "orb_sp_1.plot_volume()\n",
        "#orb_sp_2 = at.hybrid_orbital(orbitals=[orb_2s, orb_2pz], coefficients=[1., -1.])\n",
        "#orb_sp_2.plot_volume()"
      ],
      "metadata": {
        "id": "hSV3NDnNELM-"
      },
      "execution_count": null,
      "outputs": []
    },
    {
      "cell_type": "code",
      "source": [
        "# orbitales sp2\n",
        "orb_sp2_1 = at.hybrid_orbital(orbitals=[orb_2s, orb_2py], coefficients=[1., np.sqrt(2.)])\n",
        "orb_sp2_1.plot_volume()\n",
        "#orb_sp2_2 = at.hybrid_orbital(orbitals=[orb_2s, orb_2px, orb_2py], coefficients=[1., -1./np.sqrt(2.), np.sqrt(3./2.)])\n",
        "#orb_sp2_2.plot_volume()\n",
        "#orb_sp2_3 = at.hybrid_orbital(orbitals=[orb_2s, orb_2px, orb_2py], coefficients=[1., -1./np.sqrt(2.), -np.sqrt(3./2.)])\n",
        "#orb_sp2_3.plot_volume()"
      ],
      "metadata": {
        "id": "vxcmuFbK6uv4"
      },
      "execution_count": null,
      "outputs": []
    },
    {
      "cell_type": "code",
      "source": [
        "# orbitales sp3\n",
        "#orb_sp3_1 = at.hybrid_orbital(orbitals=[orb_2s, orb_2px, orb_2py, orb_2pz], coefficients=[1., 1., 1., 1.])\n",
        "#orb_sp3_1.plot_volume()\n",
        "orb_sp3_2 = at.hybrid_orbital(orbitals=[orb_2s, orb_2px, orb_2py, orb_2pz], coefficients=[1., 1., -1., -1.])\n",
        "orb_sp3_2.plot_volume()\n",
        "#orb_sp3_3 = at.hybrid_orbital(orbitals=[orb_2s, orb_2px, orb_2py, orb_2pz], coefficients=[1., -1., 1., -1.])\n",
        "#orb_sp3_3.plot_volume()\n",
        "#orb_sp3_4 = at.hybrid_orbital(orbitals=[orb_2s, orb_2px, orb_2py, orb_2pz], coefficients=[1., -1., -1., 1.])\n",
        "#orb_sp3_4.plot_volume()"
      ],
      "metadata": {
        "id": "N1ftskHi_IAh"
      },
      "execution_count": null,
      "outputs": []
    },
    {
      "cell_type": "code",
      "source": [],
      "metadata": {
        "id": "eVYpUXhD8Db7"
      },
      "execution_count": null,
      "outputs": []
    }
  ],
  "metadata": {
    "colab": {
      "provenance": []
    },
    "kernelspec": {
      "display_name": "Python 3",
      "language": "python",
      "name": "python3"
    },
    "language_info": {
      "codemirror_mode": {
        "name": "ipython",
        "version": 3
      },
      "file_extension": ".py",
      "mimetype": "text/x-python",
      "name": "python",
      "nbconvert_exporter": "python",
      "pygments_lexer": "ipython3",
      "version": "3.8.5"
    }
  },
  "nbformat": 4,
  "nbformat_minor": 0
}