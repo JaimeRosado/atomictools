{
 "cells": [
  {
   "cell_type": "markdown",
   "metadata": {
    "id": "-szsuPknqU3H"
   },
   "source": [
    "# Visualización de orbitales de átomos monoelectrónicos\n",
    "Autores: Alejandro Villar y Jaime Rosado"
   ]
  },
  {
   "cell_type": "markdown",
   "metadata": {
    "id": "H-8oi9qXqU3L"
   },
   "source": [
    "### Comandos para ejecutar este cuaderno desde Google Colab$^*$"
   ]
  },
  {
   "cell_type": "markdown",
   "metadata": {
    "id": "V8srfIQhqU3M"
   },
   "source": [
    "Clona el repositorio de GitHub donde está alojada la librería `atomictools`."
   ]
  },
  {
   "cell_type": "code",
   "execution_count": null,
   "metadata": {
    "id": "IjZt0V9SqU3M"
   },
   "outputs": [],
   "source": [
    "!git clone https://github.com/JaimeRosado/atomictools.git"
   ]
  },
  {
   "cell_type": "markdown",
   "metadata": {
    "id": "M1zRcTsgeGcT"
   },
   "source": [
    "Al pinchar en el icono en forma de carpeta en el menú de la izquierda de la pantalla, se abre un árbol de archivos donde debería aparecer una carpeta llamada `atomictools`. Añade la ruta de esta carpeta en la búsqueda de Python."
   ]
  },
  {
   "cell_type": "code",
   "execution_count": null,
   "metadata": {
    "id": "q5T200mJqU3O"
   },
   "outputs": [],
   "source": [
    "import sys\n",
    "sys.path.insert(0,'/content/atomictools')"
   ]
  },
  {
   "cell_type": "markdown",
   "metadata": {
    "id": "mB5yFJyZTAVL"
   },
   "source": [
    "Ahora importa la librería `atomictools` con el alias `at`."
   ]
  },
  {
   "cell_type": "code",
   "execution_count": null,
   "metadata": {
    "id": "w2WkiQPnTGAL"
   },
   "outputs": [],
   "source": [
    "import atomictools as at"
   ]
  },
  {
   "cell_type": "markdown",
   "metadata": {},
   "source": [
    "$^*$Si tienes Python y Jupyter instalados, puedes correr el cuaderno desde Jupyter en lugar de Colab. Para eso, tienes que descargarte previamente la librería `atomictools` en tu PC. Ve a la página https://github.com/JaimeRosado/atomictools, pincha en el botón verde `Code` y se abrirá un menú desplegable. Pincha en la opción `Download ZIP` para descargarte la librería. A continuación, extrae el contenido del archivo ZIP y mueve este cuaderno a la misma carpeta donde has extraído la librería. Finalmente, abre el cuaderno con Jupyter y ejecuta la celda de arriba para importar la librería (las dos primeras celdas sólo sirven para ejecutar el cuaderno desde Colab)."
   ]
  },
  {
   "cell_type": "markdown",
   "metadata": {
    "id": "spQnTYiOqU3P"
   },
   "source": [
    "### Funciones angulares"
   ]
  },
  {
   "cell_type": "markdown",
   "metadata": {
    "id": "8XYIMhM3qU3R"
   },
   "source": [
    "Construye un armónico esférico. Para ello, hay que pasar a la siguiente función `spherical_harmonic` los números cuánticos $l$ y $m$ deseados."
   ]
  },
  {
   "cell_type": "code",
   "execution_count": null,
   "metadata": {
    "id": "13slnVQ7eoW-"
   },
   "outputs": [],
   "source": [
    "Y = at.spherical_harmonic(l=2, m=2)"
   ]
  },
  {
   "cell_type": "markdown",
   "metadata": {
    "id": "mhGgU-HeeoW_"
   },
   "source": [
    "El objeto creado permite visualizar el armónico esférico de dos maneras diferentes:\n",
    "- La distribución de probabilidad por ángulo sólido, es decir $|Y|^2$.\n",
    "- La función compleja $Y$, donde la escala de colores representa la fase compleja.\n",
    "\n",
    "En ambas representaciones, la figura 3d generada es interactiva. Se puede girar arrastrando con el ratón o hacer zoom usando la rueda del ratón. Además, hay unos botones en la parte superior derecha que permiten mover los ejes, volver a la visualización por defecto, etc."
   ]
  },
  {
   "cell_type": "code",
   "execution_count": null,
   "metadata": {
    "id": "tM8ZrvcIeoW_"
   },
   "outputs": [],
   "source": [
    "# Distribución de probabilidad\n",
    "Y.plot_prob()"
   ]
  },
  {
   "cell_type": "code",
   "execution_count": null,
   "metadata": {
    "id": "owgfoilpeoXA"
   },
   "outputs": [],
   "source": [
    "# Función compleja\n",
    "Y.plot_phase()"
   ]
  },
  {
   "cell_type": "markdown",
   "metadata": {
    "id": "QlUTvv7NLeg0"
   },
   "source": [
    "También se pueden construir funciones angulares reales (partes real o imaginaria de armónicos esféricos). Para ello, hay que pasar a la siguiente función `real_ang_function` los números cuánticos $l$ y $m$ (valor absoluto) e indicar la orientación del orbital, es decir, si se toma la parte real o imaginaria del armónico esférico correspondiente. Para ello, hay que introducir `part=\"Re\"` (opción por defecto) o `part=\"Im\"`."
   ]
  },
  {
   "cell_type": "code",
   "execution_count": null,
   "metadata": {
    "id": "7HC0cpFILdQV"
   },
   "outputs": [],
   "source": [
    "ang_f = at.real_ang_function(l=2, m=1, part=\"Re\")"
   ]
  },
  {
   "cell_type": "markdown",
   "metadata": {
    "id": "_ca7sTcNMisU"
   },
   "source": [
    "El objeto creado permite los mismos tipos de visualización que para armónicos esféricos. Nótese que al ser funciones reales, `plot_phase` representa la función en sólo dos colores: azul para la parte positiva (fase=0) y rojo para la parte negativa (fase=$\\pi$)."
   ]
  },
  {
   "cell_type": "code",
   "execution_count": null,
   "metadata": {
    "id": "6ClPkRdMM-3H"
   },
   "outputs": [],
   "source": [
    "# Distribución de probabilidad\n",
    "ang_f.plot_prob()"
   ]
  },
  {
   "cell_type": "code",
   "execution_count": null,
   "metadata": {
    "id": "89WEIxJiNHMW"
   },
   "outputs": [],
   "source": [
    "# Función compleja\n",
    "ang_f.plot_phase()"
   ]
  },
  {
   "cell_type": "markdown",
   "metadata": {
    "id": "fEe_vgzuMMQb"
   },
   "source": [
    "Por último, se pueden generar funciones angulares como combinación lineal de armónicos esféricos o de funciones angulares reales. Para eso, hay que introducir a la siguiente función `comb_ang_function` una lista de funciones angulares `functions` y sus coeficientes `coefficients`. Para cada función angular, hay que indicar entre paréntesis los parámetros `l`, `m` y `part` (`part` es sólo para funciones reales, si se omite se asume un armónico esférico). Los coeficientes no necesitan estar normalizados y pueden ser complejos."
   ]
  },
  {
   "cell_type": "code",
   "execution_count": null,
   "metadata": {
    "id": "hVFQNA2hMb9z"
   },
   "outputs": [],
   "source": [
    "comb_f = at.comb_ang_function(functions=[(1, 1, \"Re\"), (1, 0, \"Re\")], coefficients=[1., 1j])\n",
    "comb_f.plot_phase()"
   ]
  },
  {
   "cell_type": "markdown",
   "metadata": {
    "id": "2sdpiwK7eoXA"
   },
   "source": [
    "### Funciones radiales"
   ]
  },
  {
   "cell_type": "markdown",
   "metadata": {
    "id": "o-heg2z1eoXB"
   },
   "source": [
    "Construye la solución a la ecuación de Schrödinger radial para un átomo de un solo electrón. Para ello pasa a la siguiente función `R_hydrog` los números cuánticos $n$ y $l$ deseados.\n",
    "\n",
    "Por defecto, se asume el átomo de hidrógeno ($Z=1$) con un núcleo de masa infinita (masa reducida $\\mu=m_e$)."
   ]
  },
  {
   "cell_type": "code",
   "execution_count": null,
   "metadata": {
    "id": "p1LFF55ReoXB"
   },
   "outputs": [],
   "source": [
    "R = at.R_hydrog(n=3, l=1)"
   ]
  },
  {
   "cell_type": "markdown",
   "metadata": {
    "id": "GNSH0SLKeoXC"
   },
   "source": [
    "El objeto creado permite hacer distintas visualizaciones:\n",
    "- La función $R$ frente a la distancia $r$ entre el electrón y el núcleo.\n",
    "- La función $P=r\\cdot R$ frente a $r$.\n",
    "- La función $R^2$ (distribución de probabilidad volumétrica) frente a $r$.\n",
    "- La función $P^2$ (distribución de probabilidad radial) frente a $r$.\n",
    "\n",
    "En este caso, la figuras son 2d y por tanto no puede rotarse, pero se puede hacer zoom in/out sobre ellas, mover los ejes, etc."
   ]
  },
  {
   "cell_type": "code",
   "execution_count": null,
   "metadata": {
    "id": "7UXNQHvweoXC"
   },
   "outputs": [],
   "source": [
    "R.plot_R()\n",
    "#R.plot_P()\n",
    "#R.plot_R2()\n",
    "#R.plot_P2()"
   ]
  },
  {
   "cell_type": "markdown",
   "metadata": {
    "id": "J-R_iNdZeoXC"
   },
   "source": [
    "La misma función `R_hydrog` permite obtener las funciones radiales para cualquier átomo de un sólo electrón introduciendo el valor correspondiente de $Z$ o incluso átomos exóticos formados por dos partículas de signo opuesto. Por ejemplo, el positronio está formado por un electrón y un positrón y su masa reducida es $\\mu=m_e/2$. Para obtener una función radial del positronio, pasa a la función `mu=0.5` (la masa se da en unidades atómicas)."
   ]
  },
  {
   "cell_type": "code",
   "execution_count": null,
   "metadata": {
    "id": "cT2jTmIkeoXD"
   },
   "outputs": [],
   "source": [
    "#R = at.R_hydrog(n=1, l=0, Z=2) # He+\n",
    "R = at.R_hydrog(n=3, l=2, mu=0.5) # Positronio\n",
    "R.plot_R()"
   ]
  },
  {
   "cell_type": "markdown",
   "metadata": {
    "id": "3brbbilgeoXD"
   },
   "source": [
    "### Orbitales"
   ]
  },
  {
   "cell_type": "markdown",
   "metadata": {
    "id": "8ja4a9K1-Z7A"
   },
   "source": [
    "Construye un orbital (con parte radial y angular, pero no espinorial) para un átomo de un solo electron. Para ello, pasa a la siguiente función `orbital_hydrog` los números cuánticos $n$, $l$ y $m$. Para tomar una función angular real en lugar de un armónico esférico, introduce además `part=\"Re\"` o `part=\"Im\"`. Esta función también admite los parámetros `Z`y `mu`.\n",
    "\n"
   ]
  },
  {
   "cell_type": "code",
   "execution_count": null,
   "metadata": {
    "id": "FHmnjCgbADBB"
   },
   "outputs": [],
   "source": [
    "orbital = at.orbital_hydrog(n=3, l=2, m=1, part=\"Im\")"
   ]
  },
  {
   "cell_type": "markdown",
   "metadata": {
    "id": "CnjlxE7FAnK5"
   },
   "source": [
    "El objeto creado permite visualizar la distribución espacial de probabilidad 3d del electrón de dos maneras distintas:\n",
    "- Una representación de \"volumen\" que consiste en isosuperficies de probabilidad semitransparentes en distintos colores.\n",
    "- Una distribución de puntos semitransparentes con posiciones aleatorias siguiendo la distribución de probabilidad volumétrica.\n",
    "\n",
    "Como en los casos anteriores, se puede interaccionar con la figura generada."
   ]
  },
  {
   "cell_type": "code",
   "execution_count": null,
   "metadata": {
    "id": "rasohJs4CR1t"
   },
   "outputs": [],
   "source": [
    "orbital.plot_volume()"
   ]
  },
  {
   "cell_type": "code",
   "execution_count": null,
   "metadata": {
    "id": "Ob2SHasKCc_P"
   },
   "outputs": [],
   "source": [
    "orbital.plot_scatter()"
   ]
  },
  {
   "cell_type": "markdown",
   "metadata": {
    "id": "RjGOweK6DYA3"
   },
   "source": [
    "Esta función `plot_scatter` admite modificar el número de puntos y la opacidad con la que se ven a través de los parámetros `points` (1e4 por defecto, máximo 6.7e5) y `op` (0.05 por defecto, rango entre 0 y 1). Esto puede ser útil para poder ver mejor el átomo desde dentro al hacer zoom in."
   ]
  },
  {
   "cell_type": "code",
   "execution_count": null,
   "metadata": {
    "id": "qDRjYT4TE5T5"
   },
   "outputs": [],
   "source": [
    "orbital = at.orbital_hydrog(n=4, l=2, m=0)\n",
    "orbital.plot_scatter(points=5e4, op=0.5)"
   ]
  },
  {
   "cell_type": "markdown",
   "metadata": {
    "id": "EkDZaRqQO25i"
   },
   "source": [
    "Con la función `orbital` se puede crear un orbital a partir de una función radial `f_rad` y una función angular `f_ang` ya creadas."
   ]
  },
  {
   "cell_type": "code",
   "execution_count": null,
   "metadata": {
    "id": "Ak2L1YiQFmuF"
   },
   "outputs": [],
   "source": [
    "R_32 = at.R_hydrog(n=3, l=2)\n",
    "function = at.comb_ang_function(functions=[(2, 1), (2, 0)], coefficients=[1., 1.])\n",
    "orb = at.orbital(f_rad=R_32, f_ang=function)\n",
    "orb.plot_volume()"
   ]
  },
  {
   "cell_type": "markdown",
   "metadata": {
    "id": "gwYx2vLRQu1M"
   },
   "source": [
    "Además, la función `hybrid_orbital` permite crear un orbital como combinación lineal de otros orbitales ya creados. Para ello, hay que pasar una lista de orbitales al parámetro `orbitals` y los coeficientes de combinación lineal correspondientes al parámetro `coefficients`. El ejemplo de abajo ilustra los orbitales \"híbridos\" en los que se desdobla el nivel $n=2$ del átomo de hidrógeno por efecto Stark."
   ]
  },
  {
   "cell_type": "code",
   "execution_count": null,
   "metadata": {
    "id": "hbiSw6OSWzjB"
   },
   "outputs": [],
   "source": [
    "orb_200 = at.orbital_hydrog(2,0,0)\n",
    "orb_210 = at.orbital_hydrog(2,1,0)\n",
    "orbs = [orb_200, orb_210]\n",
    "comb1 = at.hybrid_orbital(orbitals=orbs, coefficients=[1.,1.])\n",
    "comb2 = at.hybrid_orbital(orbitals=orbs, coefficients=[1.,-1.])\n",
    "comb1.plot_volume()\n",
    "comb2.plot_volume()"
   ]
  },
  {
   "cell_type": "code",
   "execution_count": null,
   "metadata": {
    "id": "sJqJzw8PVdy4"
   },
   "outputs": [],
   "source": []
  }
 ],
 "metadata": {
  "colab": {
   "provenance": []
  },
  "kernelspec": {
   "display_name": "Python 3",
   "language": "python",
   "name": "python3"
  },
  "language_info": {
   "codemirror_mode": {
    "name": "ipython",
    "version": 3
   },
   "file_extension": ".py",
   "mimetype": "text/x-python",
   "name": "python",
   "nbconvert_exporter": "python",
   "pygments_lexer": "ipython3",
   "version": "3.8.5"
  }
 },
 "nbformat": 4,
 "nbformat_minor": 1
}
