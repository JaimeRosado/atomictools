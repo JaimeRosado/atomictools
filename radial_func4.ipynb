{
 "cells": [
  {
   "cell_type": "code",
   "execution_count": 1,
   "metadata": {},
   "outputs": [],
   "source": [
    "import plotly.express as px\n",
    "import plotly.graph_objects as go\n",
    "import plotly.io as pio\n",
    "from plotly.subplots import make_subplots\n",
    "import scipy.special as spe\n",
    "import numpy as np\n",
    "#import math\n",
    "pio.renderers.default='iframe'\n",
    "\n",
    "\n",
    "# No hace falta nada de esto\n",
    "#h=6.62607015*10**-34\n",
    "#hbarra=h/(2*np.pi)\n",
    "#epsilon0=8.8541878176*10**(-12)\n",
    "#mp=1.67*10**-27\n",
    "#a0=0.529\n",
    "#N=500\n",
    "\n",
    "def reduced_mass(m, M): # No es necesario\n",
    "    return (m * M) / (m + M)\n",
    "\n",
    "def radial(r, n, l, Z, mu):\n",
    "    C = np.sqrt((2.*mu/n)**3 * spe.factorial(n-l-1) / (2.*n*spe.factorial(n+l)))\n",
    "    rho = 2. * mu * Z * r / n\n",
    "    laguerre = spe.assoc_laguerre(rho, n-l-1, 2*l+1)\n",
    "    return C * np.exp(-rho/2.) * rho**l * laguerre\n",
    "\n",
    "class R_hydrog:\n",
    "    def __init__(self, n, l, Z=1, mu=1):\n",
    "        self.n = n         \n",
    "        self.l = l\n",
    "        self.npt = 500\n",
    "        self.Z = Z\n",
    "        self.mu = mu\n",
    "\n",
    "        # El límte de r se calcula iterativamente empezando por este valor inicial\n",
    "        rm = 3. * self.n**2 / self.Z / self.mu\n",
    "        rmax = np.array([])\n",
    "        integral = np.array([])\n",
    "        loop = True\n",
    "        while loop:\n",
    "            integ, r, R, P2 = self.calculate(rm)\n",
    "            rmax = np.append(rmax, rm)\n",
    "            integral = np.append(integral, integ)\n",
    "            if integ<0.99:\n",
    "                rm *= 1.1\n",
    "            elif integ>0.999:\n",
    "                rm *= 0.9\n",
    "            else:\n",
    "                loop = False\n",
    "        self.r = r\n",
    "        self.R = R\n",
    "        self.R2 = R**2\n",
    "        self.P = r * R\n",
    "        self.P2 = P2\n",
    "        \n",
    "        self.rmax = rmax\n",
    "        self.integral = integral\n",
    "\n",
    "    def calculate(self, rm):\n",
    "        Dr = rm / (self.npt-1)\n",
    "        r = np.linspace(0., rm, self.npt)\n",
    "        R = radial(r, self.n, self.l, self.Z, self.mu)\n",
    "        P2 = (r * R)**2\n",
    "        integ =  P2.sum() * Dr\n",
    "        return integ, r, R, P2\n",
    "\n",
    "    def plot_R(self):\n",
    "        fig = go.Figure(data = go.Scatter(x = self.r, y = self.R))\n",
    "        fig.show()\n",
    "        \n",
    "    def plot_P(self):\n",
    "        fig = go.Figure(data = go.Scatter(x = self.r, y = self.P))\n",
    "        fig.show()\n",
    "        \n",
    "    def plot_R2(self):\n",
    "        fig = go.Figure(data = go.Scatter(x = self.r, y = self.R2))\n",
    "        fig.show()\n",
    "    \n",
    "    def plot_P2(self):\n",
    "        fig = go.Figure(data = go.Scatter(x = self.r, y = self.P2))\n",
    "        fig.show()"
   ]
  },
  {
   "cell_type": "code",
   "execution_count": 2,
   "metadata": {},
   "outputs": [],
   "source": [
    "R32 = R_hydrog(3, 2)"
   ]
  },
  {
   "cell_type": "code",
   "execution_count": 3,
   "metadata": {},
   "outputs": [
    {
     "data": {
      "text/plain": [
       "(array([27.]), array([0.99896948]))"
      ]
     },
     "execution_count": 3,
     "metadata": {},
     "output_type": "execute_result"
    }
   ],
   "source": [
    "# Prueba el número de iteraciones necesarias para tener un rmax razonable\n",
    "# para distintos valores de n,l,Z,mu\n",
    "# Quizás haya un valor inicial de rmax mejor para reducir el número de iteraciones\n",
    "R32.rmax, R32.integral"
   ]
  },
  {
   "cell_type": "code",
   "execution_count": 4,
   "metadata": {},
   "outputs": [
    {
     "data": {
      "text/html": [
       "<iframe\n",
       "    scrolling=\"no\"\n",
       "    width=\"100%\"\n",
       "    height=\"545px\"\n",
       "    src=\"iframe_figures/figure_4.html\"\n",
       "    frameborder=\"0\"\n",
       "    allowfullscreen\n",
       "></iframe>\n"
      ]
     },
     "metadata": {},
     "output_type": "display_data"
    }
   ],
   "source": [
    "R32.plot_P2()"
   ]
  },
  {
   "cell_type": "code",
   "execution_count": 1,
   "metadata": {},
   "outputs": [],
   "source": [
    "import R_hydrogen as rh"
   ]
  },
  {
   "cell_type": "code",
   "execution_count": 2,
   "metadata": {},
   "outputs": [],
   "source": [
    "R32 = rh.R_hydrog(3, 2)"
   ]
  },
  {
   "cell_type": "code",
   "execution_count": 6,
   "metadata": {},
   "outputs": [
    {
     "data": {
      "text/html": [
       "<iframe\n",
       "    scrolling=\"no\"\n",
       "    width=\"100%\"\n",
       "    height=\"545px\"\n",
       "    src=\"iframe_figures/figure_6.html\"\n",
       "    frameborder=\"0\"\n",
       "    allowfullscreen\n",
       "></iframe>\n"
      ]
     },
     "metadata": {},
     "output_type": "display_data"
    }
   ],
   "source": [
    "R32.plot_P()"
   ]
  },
  {
   "cell_type": "markdown",
   "metadata": {},
   "source": [
    "## Dejo aquí los métodos que definiste por si son útiles después"
   ]
  },
  {
   "cell_type": "code",
   "execution_count": null,
   "metadata": {},
   "outputs": [],
   "source": [
    "    def import_radius(self, route): # De momento no\n",
    "        data_info=open(route)\n",
    "        i=0\n",
    "        print(\"Imported data info: \")\n",
    "        print()\n",
    "        for linea in data_info:\n",
    "            print(linea)\n",
    "            i+=1\n",
    "            if (i>=7):\n",
    "                break\n",
    "        data_set=np.loadtxt(route, skiprows=8)\n",
    "        return data_set\n",
    "        \n",
    "    def plot_imported(self, solution):\n",
    "        fig = go.Figure(data = go.Scatter(x = solution[:,0], y = solution[:,1]))\n",
    "        fig.show()\n",
    "    \n",
    "    def plot_Rvsr(self,solution):\n",
    "        fig = go.Figure(data = go.Scatter(x = solution[:,0], y = solution[:,1]))\n",
    "        fig.show()\n",
    "        \n",
    "    def plot_Pvsr(self, solution):\n",
    "        fig = go.Figure(data = go.Scatter(x = solution[:,0], y = solution[:,2]))\n",
    "        fig.show()\n",
    "        \n",
    "    def plot_R2vsr(self, solution):\n",
    "        fig = go.Figure(data = go.Scatter(x = solution[:,0], y = solution[:,3]))\n",
    "        fig.show()\n",
    "    \n",
    "    def plot_P2vsr(self, solution):\n",
    "        fig = go.Figure(data = go.Scatter(x = solution[:,0], y = solution[:,4]))\n",
    "        fig.show()\n",
    "    \n",
    "    def plot_data(self):\n",
    "        #definimos esta función que nos permite calcular la función P, así como los cuadrados de R y P\n",
    "        plot=np.empty([self.N,5],float)\n",
    "\n",
    "\n",
    "        for i in range(self.N):\n",
    "            plot[i,0]=self.r[i]                                      #Eje X, valores de r\n",
    "            plot[i,1]=radial(self.r[i], self.n, self.l,self.Z)       #Eje Y, valores de la función R\n",
    "            plot[i,2]=plot[i,1]*self.r[i]                            #Eje Y, valores de la función P\n",
    "            plot[i,3]=plot[i,2]**2                                   #Eje Y, valores de la función P**2\n",
    "            plot[i,4]=plot[i,1]**2                                   #Eje Y, valores de la función R**2\n",
    "        return plot\n",
    "    \n",
    "sorbital=Orbital(3,1,500,1)\n",
    "sorbital.radius()\n",
    "DATA_SET=sorbital.plot_data()\n",
    "sorbital.plot_P2vsr(DATA_SET)"
   ]
  }
 ],
 "metadata": {
  "kernelspec": {
   "display_name": "Python 3",
   "language": "python",
   "name": "python3"
  },
  "language_info": {
   "codemirror_mode": {
    "name": "ipython",
    "version": 3
   },
   "file_extension": ".py",
   "mimetype": "text/x-python",
   "name": "python",
   "nbconvert_exporter": "python",
   "pygments_lexer": "ipython3",
   "version": "3.8.5"
  }
 },
 "nbformat": 4,
 "nbformat_minor": 4
}
