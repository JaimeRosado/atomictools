{
 "cells": [
  {
   "cell_type": "markdown",
   "metadata": {
    "id": "-szsuPknqU3H"
   },
   "source": [
    "# Prácticas de cálculo numérico\n",
    "Física Atómica y Molecular, curso 2022/23\n",
    "\n",
    "Departamento de Estructura de la Materia, Física Térmica y Electrónica - UCM"
   ]
  },
  {
   "cell_type": "markdown",
   "metadata": {
    "id": "H-8oi9qXqU3L"
   },
   "source": [
    "### Comandos para ejecutar el cuaderno desde Google Colab"
   ]
  },
  {
   "cell_type": "markdown",
   "metadata": {
    "id": "V8srfIQhqU3M"
   },
   "source": [
    "Monta la unidad de Google Drive asociada a tu **cuenta UCM**. Hay que dar permisos a Colab para que acceda al Drive."
   ]
  },
  {
   "cell_type": "code",
   "execution_count": null,
   "metadata": {
    "colab": {
     "base_uri": "https://localhost:8080/"
    },
    "id": "IjZt0V9SqU3M",
    "outputId": "5e038340-064c-48d8-8c54-933eaff1c510"
   },
   "outputs": [],
   "source": [
    "from google.colab import drive\n",
    "drive.mount('/content/drive')"
   ]
  },
  {
   "cell_type": "markdown",
   "metadata": {
    "id": "BcfFvElcqU3O"
   },
   "source": [
    "Sigue este enlace para tener acceso a una carpeta compartida llamada 'ProgramasFAyM', la cual contiene los módulos donde está el código de los programas usados en estas prácticas.\n",
    "\n",
    "https://drive.google.com/drive/folders/1cSm1S8fYvurHPbSvcQqpm7sluvI1Ez9-?usp=sharing\n",
    "\n",
    "A continuación, **genera un acceso directo a esta carpeta** en el directorio principal de tu unidad de Google Drive (¡ojo, a la carpeta, no a los ficheros que contiene!). Para ello, usa la opción correspondiente del menú desplegable que aparece al pinchar la carpeta con el botón derecho del ratón."
   ]
  },
  {
   "cell_type": "markdown",
   "metadata": {
    "id": "AxBwSgbZqU3O"
   },
   "source": [
    "Añade la ruta de esta carpeta compartida a la ruta de búsqueda de Python."
   ]
  },
  {
   "cell_type": "code",
   "execution_count": null,
   "metadata": {
    "id": "q5T200mJqU3O"
   },
   "outputs": [],
   "source": [
    "import sys\n",
    "Mpath = '/content/drive/MyDrive/ProgramasFAyM'\n",
    "#Mpath = '/content/drive/My Drive/ProgramasFAyM'\n",
    "#Mpath = '/drive/MyDrive/ProgramasFAyM'\n",
    "#Mpath = '/drive/My Drive/ProgramasFAyM'\n",
    "sys.path.append(Mpath)"
   ]
  },
  {
   "cell_type": "markdown",
   "metadata": {
    "id": "spQnTYiOqU3P"
   },
   "source": [
    "### Primera práctica: cálculo de orbitales atómicos con dos modelos de potencial"
   ]
  },
  {
   "cell_type": "markdown",
   "metadata": {
    "id": "do0MaPs4qU3P"
   },
   "source": [
    "Importa el módulo donde se encuentra el código del programa. Sólo es necesario hacerlo una vez, aunque el programa se ejecute varias veces.\n",
    "\n",
    "Si no encuentra el módulo puede significar que no se ha creado correctamente el acceso directo a la carpeta compartida o que la ruta de esta carpeta es diferente a lo indicado en la celda anterior. En este último caso, prueba alguna de las alternativas de `Mpath` quitando el símbolo `#` que tiene delante. Si esto sigue sin funcionar, abre el árbol de archivos (icono con forma de carpeta a la izquierda de esta ventana) del entorno de ejecución y busca el acceso directo a la carpeta compartida en tu unidad Drive. Al pinchar con el botón derecho sobre ella, aparece un menú desplegable con la opción `copiar ruta`, que permite hallar la ruta correcta para dar a la variable `Mpath`."
   ]
  },
  {
   "cell_type": "code",
   "execution_count": null,
   "metadata": {
    "id": "Z9s_BpdUqU3Q"
   },
   "outputs": [],
   "source": [
    "import orbitals as ob"
   ]
  },
  {
   "cell_type": "markdown",
   "metadata": {
    "id": "8XYIMhM3qU3R"
   },
   "source": [
    "Ejecuta el programa. Los controles permiten modificar el potencial modelo y los parámetros para resolver la ecuación de Schrödinger. Algunos parámetros están fijos dependiendo del modelo de potencial elegido. Se pueden introducir directamente los valores numéricos con todos los decimales que se necesiten en los campos a la derecha del control. Hay que **pulsar `Enter`** cada vez que se introcude un valor numérico en un campo para que el parámetro se actualice.\n",
    "\n",
    "La primera vez que se modifica cualquier parámetro, aparece una figura con la solución a la ecuación de Schrödinger. Esta figura se actualiza cada vez que se modifica algún parámetro. Además, la propia figura tiene controles para mover los ejes, hacer zoom, etc.\n",
    "\n",
    "Una vez se haya encontrado una solución que satisface las condiciones de contorno y el número de nodos del orbital buscado, pon un nombre de fichero y haz click en `Save` para guardarlo. Tras guardar una solución en un fichero, se puede seguir modificando los parámetros para encontrar otra solución y guardarla en otro fichero con distinto nombre.\n",
    "\n",
    "Los ficheros se guardarán en la nube. Para tener acceso a ellos y descargarlos a tu ordenador, abre el árbol de archivos que se encuentra a la izquierda de la ventana de ejecución y usa la opción de descarga desde el menú desplegable junto a cada fichero. No obstante, no es necesario guardar todos los orbitales calculados en ficheros. Es suficiente con apuntar para cada orbital la energía, el radio máximo de cálculo y el radio en el que la función alcanza su valor máximo."
   ]
  },
  {
   "cell_type": "code",
   "execution_count": null,
   "metadata": {
    "id": "94FEIRI_qU3R",
    "scrolled": false
   },
   "outputs": [],
   "source": [
    "ob.calculate()"
   ]
  },
  {
   "cell_type": "markdown",
   "metadata": {
    "id": "dAwy4d0Z0jPW"
   },
   "source": [
    "### Segunda práctica: cálculo de orbitales atómicos con el potencial de Thomas-Fermi"
   ]
  },
  {
   "cell_type": "markdown",
   "metadata": {
    "id": "FIqZMx082U2Y"
   },
   "source": [
    "Importa los módulos donde se encuentran los códigos de los programas. Sólo es necesario hacerlo una vez, aunque los programas se ejecuten varias veces."
   ]
  },
  {
   "cell_type": "code",
   "execution_count": null,
   "metadata": {
    "id": "adcSLhso0kZN"
   },
   "outputs": [],
   "source": [
    "import ThomasFermi as tm\n",
    "import orbitals as ob"
   ]
  },
  {
   "cell_type": "markdown",
   "metadata": {
    "id": "_S6rkMYT20BU"
   },
   "source": [
    "Ejecuta el programa para resolver la ecuación de Fermi. Los controles permiten modificar los parámetros de entrada con los que resolver la ecuación. Se pueden introducir directamente los valores numéricos en los campos a la derecha del control (recuerda **pulsar `Enter`**). La figura también tiene controles internos para mover los ejes, hacer zoom, etc.\n",
    "\n",
    "Tras encontrar la solución que satisface las condiciones de contorno para el átomo considerado, haz click en `Accept` para aceptar la solución. Se generará entonces un gráfico con la distribución de carga y el potencial.\n",
    "\n",
    "A continuación, pon un nombre del fichero donde guardar los resultados y haz click en `Save`. Recuerda que tienes que descargar el fichero a tu ordenador antes de finalizar la sesión de Colab, porque si no el fichero se perderá."
   ]
  },
  {
   "cell_type": "code",
   "execution_count": null,
   "metadata": {
    "id": "p3x7gT6Q2oI2"
   },
   "outputs": [],
   "source": [
    "tm.calculate()"
   ]
  },
  {
   "cell_type": "markdown",
   "metadata": {
    "id": "pgSQAu-L3piW"
   },
   "source": [
    "Sigue las instrucciones del guion para hallar los parámetros `H` y `D` del potencial de Green-Sellin-Zachor que ajusta el potencial obtenido con el modelo de Thomas-Fermi. Puedes usar las líneas de código abajo para hacer los cálculos con Python."
   ]
  },
  {
   "cell_type": "code",
   "execution_count": null,
   "metadata": {
    "id": "LonUpQey4ZkN"
   },
   "outputs": [],
   "source": []
  },
  {
   "cell_type": "code",
   "execution_count": null,
   "metadata": {
    "id": "mp91_NJM4ZS9"
   },
   "outputs": [],
   "source": []
  },
  {
   "cell_type": "code",
   "execution_count": null,
   "metadata": {
    "id": "6xMESAcl4Yq-"
   },
   "outputs": [],
   "source": []
  },
  {
   "cell_type": "markdown",
   "metadata": {},
   "source": [
    "Para comprobar que el ajuste es correcto, ejecuta la siguiente celda. Hay que introducir el nombre del fichero donde se ha guardado la solución de la ecuación de Fermi y, a continuación, los parámetros `H` y `D` encontrados."
   ]
  },
  {
   "cell_type": "code",
   "execution_count": null,
   "metadata": {},
   "outputs": [],
   "source": [
    "tm.check_fit()"
   ]
  },
  {
   "cell_type": "markdown",
   "metadata": {
    "id": "ONsxQPLi3VJX"
   },
   "source": [
    "Ejecuta el programa para el cálculo de orbitales, que es el mismo usado en la primera práctica. Introduce los parámetros `H` y `D` para el potencial de Green-Sellin-Zachor.\n",
    "\n",
    "Recuerda que una vez se haya encontrado una solución, puedes guardarla en un fichero que luego debes descargar a tu ordenador, aunque es suficiente con apuntar la energía y radio máximo de cálculo de cada orbital."
   ]
  },
  {
   "cell_type": "code",
   "execution_count": null,
   "metadata": {
    "id": "J1_Rz8xX6iSg"
   },
   "outputs": [],
   "source": [
    "ob.calculate()"
   ]
  },
  {
   "cell_type": "code",
   "execution_count": null,
   "metadata": {},
   "outputs": [],
   "source": []
  }
 ],
 "metadata": {
  "colab": {
   "collapsed_sections": [],
   "provenance": []
  },
  "kernelspec": {
   "display_name": "Python 3",
   "language": "python",
   "name": "python3"
  },
  "language_info": {
   "codemirror_mode": {
    "name": "ipython",
    "version": 3
   },
   "file_extension": ".py",
   "mimetype": "text/x-python",
   "name": "python",
   "nbconvert_exporter": "python",
   "pygments_lexer": "ipython3",
   "version": "3.8.5"
  }
 },
 "nbformat": 4,
 "nbformat_minor": 1
}
