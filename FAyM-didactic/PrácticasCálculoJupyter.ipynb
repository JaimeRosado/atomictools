{
 "cells": [
  {
   "cell_type": "markdown",
   "metadata": {},
   "source": [
    "# Prácticas de cálculo numérico\n",
    "Física Atómica y Molecular, curso 2022/23\n",
    "\n",
    "Departamento de Estructura de la Materia, Física Térmica y Electrónica - UCM"
   ]
  },
  {
   "cell_type": "markdown",
   "metadata": {},
   "source": [
    "### Comandos para ejecutar el cuaderno desde Jupyter"
   ]
  },
  {
   "cell_type": "markdown",
   "metadata": {},
   "source": [
    "Para ejecutar este cuaderno desde Jupyter, previamente hay que tener los módulos `orbitals.py` y `ThomasFermi.py` en el mismo directorio de trabajo donde se encuentra el cuaderno.\n",
    "\n",
    "A continuación, importa la librería de gráficos y configúrala para poder visualizar los gráficos en Jupyter."
   ]
  },
  {
   "cell_type": "code",
   "execution_count": 1,
   "metadata": {},
   "outputs": [],
   "source": [
    "import plotly.io as pio\n",
    "pio.renderers.default='iframe'"
   ]
  },
  {
   "cell_type": "markdown",
   "metadata": {},
   "source": [
    "### Primera práctica: cálculo de orbitales atómicos con dos modelos de potencial"
   ]
  },
  {
   "cell_type": "markdown",
   "metadata": {},
   "source": [
    "Importa el módulo donde se encuentra el código del programa. Sólo es necesario hacerlo una vez, aunque el programa se ejecute varias veces."
   ]
  },
  {
   "cell_type": "code",
   "execution_count": 2,
   "metadata": {},
   "outputs": [],
   "source": [
    "import orbitals as ob"
   ]
  },
  {
   "cell_type": "markdown",
   "metadata": {},
   "source": [
    "Ejecuta el programa. Los controles permiten modificar el potencial modelo y los parámetros para resolver la ecuación de Schrödinger. Algunos parámetros están fijos dependiendo del modelo de potencial elegido. Se pueden introducir directamente los valores numéricos con todos los decimales que se necesiten en los campos a la derecha del control. Hay que **pulsar `Enter`** cada vez que se introcude un valor numérico en un campo para que el parámetro se actualice.\n",
    "\n",
    "La primera vez que se modifica cualquier parámetro, aparece una figura con la solución a la ecuación de Schrödinger. Esta figura se actualiza cada vez que se modifica algún parámetro. Además, la propia figura tiene controles para mover los ejes, hacer zoom, etc.\n",
    "\n",
    "Una vez se haya encontrado una solución que satisface las condiciones de contorno y el número de nodos del orbital buscado, pon un nombre de fichero y haz click en `Save` para guardarlo. El fichero se guardará en el mismo directorio de trabajo donde se encuentra este cuaderno. Tras guardar una solución en un fichero, se puede seguir modificando los parámetros para encontrar otra solución y guardarla en otro fichero con distinto nombre.\n",
    "\n",
    "No obstante, no es necesario guardar todos los orbitales calculados en ficheros. Es suficiente con apuntar la energía y el radio máximo de cálculo de cada orbital."
   ]
  },
  {
   "cell_type": "code",
   "execution_count": 3,
   "metadata": {
    "scrolled": false
   },
   "outputs": [
    {
     "data": {
      "application/vnd.jupyter.widget-view+json": {
       "model_id": "3e8ed8e788a4458189abb1c477df545d",
       "version_major": 2,
       "version_minor": 0
      },
      "text/plain": [
       "interactive(children=(Dropdown(description='P. model:', options=(('Hydrogenic', 'Hdg'), ('Sánchez del Río', 'S…"
      ]
     },
     "metadata": {},
     "output_type": "display_data"
    },
    {
     "data": {
      "application/vnd.jupyter.widget-view+json": {
       "model_id": "fa03605900f34dfdb3e1a5ea2800a216",
       "version_major": 2,
       "version_minor": 0
      },
      "text/plain": [
       "Box(children=(Text(value='orbital.txt', description='File name:', placeholder='Input file name'), Button(descr…"
      ]
     },
     "metadata": {},
     "output_type": "display_data"
    }
   ],
   "source": [
    "ob.calculate()"
   ]
  },
  {
   "cell_type": "markdown",
   "metadata": {},
   "source": [
    "### Segunda práctica: cálculo de orbitales atómicos con el potencial de Thomas-Fermi"
   ]
  },
  {
   "cell_type": "markdown",
   "metadata": {},
   "source": [
    "Importa los módulos donde se encuentran los códigos de los programas. Sólo es necesario hacerlo una vez, aunque los programas se ejecuten varias veces."
   ]
  },
  {
   "cell_type": "code",
   "execution_count": 2,
   "metadata": {},
   "outputs": [],
   "source": [
    "import plotly.io as pio\n",
    "pio.renderers.default='iframe'\n",
    "import ThomasFermi as tm\n",
    "import orbitals as ob"
   ]
  },
  {
   "cell_type": "markdown",
   "metadata": {},
   "source": [
    "Ejecuta el programa para resolver la ecuación de Fermi. Los controles permiten modificar los parámetros de entrada con los que resolver la ecuación. Se pueden introducir directamente los valores numéricos en los campos a la derecha del control (recuerda **pulsar `Enter`**). La figura también tiene controles internos para mover los ejes, hacer zoom, etc.\n",
    "\n",
    "Tras encontrar la solución que satisface las condiciones de contorno para el átomo considerado, haz click en `Accept` para aceptar la solución. Se generará entonces un gráfico con la distribución de carga y el potencial.\n",
    "\n",
    "A continuación, pon un nombre del fichero donde guardar los resultados y haz click en `Save`."
   ]
  },
  {
   "cell_type": "code",
   "execution_count": 4,
   "metadata": {
    "scrolled": false
   },
   "outputs": [],
   "source": [
    "tm.calculate()"
   ]
  },
  {
   "cell_type": "markdown",
   "metadata": {},
   "source": [
    "Sigue las instrucciones del guion para hallar los parámetros `H` y `D` del potencial de Green-Sellin-Zachor que ajusta el potencial obtenido con el modelo de Thomas-Fermi. Puedes usar las líneas de código abajo para hacer los cálculos con Python."
   ]
  },
  {
   "cell_type": "code",
   "execution_count": null,
   "metadata": {},
   "outputs": [],
   "source": []
  },
  {
   "cell_type": "code",
   "execution_count": null,
   "metadata": {},
   "outputs": [],
   "source": []
  },
  {
   "cell_type": "code",
   "execution_count": null,
   "metadata": {},
   "outputs": [],
   "source": []
  },
  {
   "cell_type": "markdown",
   "metadata": {},
   "source": [
    "Para comprobar que el ajuste es correcto, ejecuta la siguiente celda. Hay que introducir el nombre del fichero donde se ha guardado la solución de la ecuación de Fermi y, a continuación, los parámetros `H` y `D` encontrados."
   ]
  },
  {
   "cell_type": "code",
   "execution_count": 6,
   "metadata": {},
   "outputs": [
    {
     "data": {
      "application/vnd.jupyter.widget-view+json": {
       "model_id": "84a60b99f46b4c2ca21a54fcf4eebb5b",
       "version_major": 2,
       "version_minor": 0
      },
      "text/plain": [
       "interactive(children=(BoundedFloatText(value=0.0, description='H:', max=10.0, step=0.001), BoundedFloatText(va…"
      ]
     },
     "metadata": {},
     "output_type": "display_data"
    }
   ],
   "source": [
    "tm.check_fit()"
   ]
  },
  {
   "cell_type": "markdown",
   "metadata": {},
   "source": [
    "Ejecuta el programa para el cálculo de orbitales, que es el mismo usado en la primera práctica. Introduce los parámetros `H` y `D` para el potencial de Green-Sellin-Zachor.\n",
    "\n",
    "Recuerda que una vez se haya encontrado una solución, puedes guardarla en un fichero, aunque es suficiente con apuntar la energía y radio máximo de cálculo de cada orbital."
   ]
  },
  {
   "cell_type": "code",
   "execution_count": null,
   "metadata": {
    "scrolled": true
   },
   "outputs": [],
   "source": [
    "ob.calculate()"
   ]
  },
  {
   "cell_type": "code",
   "execution_count": null,
   "metadata": {},
   "outputs": [],
   "source": []
  }
 ],
 "metadata": {
  "kernelspec": {
   "display_name": "Python 3",
   "language": "python",
   "name": "python3"
  },
  "language_info": {
   "codemirror_mode": {
    "name": "ipython",
    "version": 3
   },
   "file_extension": ".py",
   "mimetype": "text/x-python",
   "name": "python",
   "nbconvert_exporter": "python",
   "pygments_lexer": "ipython3",
   "version": "3.8.5"
  }
 },
 "nbformat": 4,
 "nbformat_minor": 4
}
