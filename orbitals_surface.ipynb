{
 "cells": [
  {
   "cell_type": "code",
   "execution_count": 145,
   "metadata": {},
   "outputs": [],
   "source": [
    "import R_hydrogen_import as rad\n",
    "import spherical_harms as sph\n",
    "import matplotlib.pyplot as plt\n",
    "import plotly.express as px\n",
    "import plotly.graph_objects as go\n",
    "import plotly.io as pio\n",
    "from plotly.subplots import make_subplots\n",
    "import scipy.special as spe\n",
    "import numpy as np\n",
    "pio.renderers.default='iframe'"
   ]
  },
  {
   "cell_type": "code",
   "execution_count": 169,
   "metadata": {},
   "outputs": [],
   "source": [
    "def convert(x,y,z):\n",
    "            r=np.sqrt(x**2+y**2+z**2)\n",
    "            phi=np.arctan(np.sqrt(x**2 + y**2)/z)\n",
    "            theta=np.arctan(y/x)\n",
    "            return r,theta,phi\n",
    "\n",
    "class orbitals():\n",
    "    \n",
    "    def __init__(self,n,l,m,Z=1,mu=1):\n",
    "        \n",
    "        self.n=n\n",
    "        self.l=l\n",
    "        self.m=m\n",
    "        self.Z=Z\n",
    "        self.mu=mu\n",
    "        \n",
    "        x_1 = np.linspace(-30,30,40)\n",
    "        y_1 = np.linspace(-30,30,40)\n",
    "        z_1 = np.linspace(-30,30,40)\n",
    "        self.x1, self.y1, self.z1= np.meshgrid(x_1, y_1,z_1)\n",
    "\n",
    "        self.r,self.theta,self.phi=convert(self.x1,self.y1,self.z1)\n",
    "\n",
    "        self.theta_lm=sph.ftheta(self.l,self.m,self.theta)\n",
    "\n",
    "        self.phi_m=sph.fphi(self.m,self.phi)\n",
    "\n",
    "        self.R=rad.radial(self.r,self.n,self.l,self.Z,self.mu)\n",
    "\n",
    "        self.prob=np.abs(self.theta_lm*self.phi_m)**2*self.R**2\n",
    "        self.plot_prob=self.prob*10000\n",
    "        \n",
    "        \n",
    "    def plot_orb3d(self):\n",
    "        \n",
    "        min_val=np.min(self.prob)\n",
    "        loop=True\n",
    "        while loop:\n",
    "            if(min_val<=(9**-9*np.max(self.prob))):\n",
    "                min_val*=1.1\n",
    "            else:\n",
    "                loop=False\n",
    "        print(min_val)\n",
    "        fig = go.Figure(data=go.Volume(\n",
    "            x=self.x1.flatten(),\n",
    "            y=self.y1.flatten(),\n",
    "            z=self.z1.flatten(),\n",
    "            value=self.plot_prob.flatten(),\n",
    "            opacity=0.5,\n",
    "            isomin=0.1,\n",
    "            isomax=10,\n",
    "            surface_count=100,\n",
    "            colorscale='viridis'\n",
    "            ))\n",
    "        fig.show()"
   ]
  },
  {
   "cell_type": "code",
   "execution_count": 170,
   "metadata": {},
   "outputs": [
    {
     "name": "stdout",
     "output_type": "stream",
     "text": [
      "1.6235757189546496e-12\n"
     ]
    },
    {
     "data": {
      "text/html": [
       "<iframe\n",
       "    scrolling=\"no\"\n",
       "    width=\"100%\"\n",
       "    height=\"545px\"\n",
       "    src=\"iframe_figures/figure_41.html\"\n",
       "    frameborder=\"0\"\n",
       "    allowfullscreen\n",
       "></iframe>\n"
      ]
     },
     "metadata": {},
     "output_type": "display_data"
    }
   ],
   "source": [
    "orbitals(3,1,1).plot_orb3d()"
   ]
  },
  {
   "cell_type": "code",
   "execution_count": 39,
   "metadata": {},
   "outputs": [],
   "source": []
  },
  {
   "cell_type": "code",
   "execution_count": null,
   "metadata": {},
   "outputs": [],
   "source": []
  },
  {
   "cell_type": "code",
   "execution_count": null,
   "metadata": {},
   "outputs": [],
   "source": []
  }
 ],
 "metadata": {
  "kernelspec": {
   "display_name": "Python 3",
   "language": "python",
   "name": "python3"
  },
  "language_info": {
   "codemirror_mode": {
    "name": "ipython",
    "version": 3
   },
   "file_extension": ".py",
   "mimetype": "text/x-python",
   "name": "python",
   "nbconvert_exporter": "python",
   "pygments_lexer": "ipython3",
   "version": "3.8.5"
  }
 },
 "nbformat": 4,
 "nbformat_minor": 4
}
