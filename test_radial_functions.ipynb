{
 "cells": [
  {
   "cell_type": "code",
   "execution_count": 1,
   "metadata": {},
   "outputs": [],
   "source": [
    "import atomictools as at"
   ]
  },
  {
   "cell_type": "code",
   "execution_count": 4,
   "metadata": {},
   "outputs": [
    {
     "name": "stdout",
     "output_type": "stream",
     "text": [
      "Imported data info: \n",
      "\n",
      "2022-10-19 13:03:49\n",
      "\n",
      "Calculation of atomic orbitals for a central potential\n",
      "\n",
      "Solving Schrödinger eq. by variable sptep-size Numerov method\n",
      "\n",
      "Hydrogenic potential -Z/r\n",
      "\n",
      "Z\tL\tE(a.u.)\t  r_max(a.u.)\tN. points\n",
      "\n",
      "1\t0\t-0.5\t  10.0\t\t300\n",
      "\n",
      "Normalised radial wavefunction P(r)\n",
      "\n",
      " Format r(i), P(i) with r(i)=0.000111111*i^2\n",
      "\n"
     ]
    },
    {
     "data": {
      "text/html": [
       "<iframe\n",
       "    scrolling=\"no\"\n",
       "    width=\"100%\"\n",
       "    height=\"545px\"\n",
       "    src=\"iframe_figures/figure_4.html\"\n",
       "    frameborder=\"0\"\n",
       "    allowfullscreen\n",
       "></iframe>\n"
      ]
     },
     "metadata": {},
     "output_type": "display_data"
    }
   ],
   "source": [
    "R1s = at.R_num(\"H_1s.txt\")\n",
    "R1s.plot_R()"
   ]
  },
  {
   "cell_type": "code",
   "execution_count": 3,
   "metadata": {},
   "outputs": [
    {
     "data": {
      "text/plain": [
       "array([0.000000e+00, 1.111111e-04, 4.444444e-04, 1.000000e-03,\n",
       "       1.777778e-03, 2.777778e-03, 4.000000e-03, 5.444444e-03,\n",
       "       7.111111e-03, 9.000000e-03, 1.111111e-02, 1.344444e-02,\n",
       "       1.600000e-02, 1.877778e-02, 2.177778e-02, 2.500000e-02,\n",
       "       2.844444e-02, 3.211111e-02, 3.600000e-02, 4.011111e-02,\n",
       "       4.444444e-02, 4.900000e-02, 5.377778e-02, 5.877778e-02,\n",
       "       6.400000e-02, 6.944444e-02, 7.511111e-02, 8.100000e-02,\n",
       "       8.711111e-02, 9.344444e-02, 1.000000e-01, 1.067778e-01,\n",
       "       1.137778e-01, 1.210000e-01, 1.284444e-01, 1.361111e-01,\n",
       "       1.440000e-01, 1.521111e-01, 1.604444e-01, 1.690000e-01,\n",
       "       1.777778e-01, 1.867778e-01, 1.960000e-01, 2.054444e-01,\n",
       "       2.151111e-01, 2.250000e-01, 2.351111e-01, 2.454444e-01,\n",
       "       2.560000e-01, 2.667778e-01, 2.777778e-01, 2.890000e-01,\n",
       "       3.004444e-01, 3.121111e-01, 3.240000e-01, 3.361111e-01,\n",
       "       3.484444e-01, 3.610000e-01, 3.737778e-01, 3.867778e-01,\n",
       "       4.000000e-01, 4.134444e-01, 4.271111e-01, 4.410000e-01,\n",
       "       4.551111e-01, 4.694444e-01, 4.840000e-01, 4.987778e-01,\n",
       "       5.137778e-01, 5.290000e-01, 5.444444e-01, 5.601111e-01,\n",
       "       5.760000e-01, 5.921111e-01, 6.084444e-01, 6.250000e-01,\n",
       "       6.417778e-01, 6.587778e-01, 6.760000e-01, 6.934444e-01,\n",
       "       7.111111e-01, 7.290000e-01, 7.471111e-01, 7.654444e-01,\n",
       "       7.840000e-01, 8.027778e-01, 8.217778e-01, 8.410000e-01,\n",
       "       8.604444e-01, 8.801111e-01, 9.000000e-01, 9.201111e-01,\n",
       "       9.404444e-01, 9.610000e-01, 9.817778e-01, 1.002778e+00,\n",
       "       1.024000e+00, 1.045444e+00, 1.067111e+00, 1.089000e+00,\n",
       "       1.111111e+00, 1.133444e+00, 1.156000e+00, 1.178778e+00,\n",
       "       1.201778e+00, 1.225000e+00, 1.248444e+00, 1.272111e+00,\n",
       "       1.296000e+00, 1.320111e+00, 1.344444e+00, 1.369000e+00,\n",
       "       1.393778e+00, 1.418778e+00, 1.444000e+00, 1.469444e+00,\n",
       "       1.495111e+00, 1.521000e+00, 1.547111e+00, 1.573444e+00,\n",
       "       1.600000e+00, 1.626778e+00, 1.653778e+00, 1.681000e+00,\n",
       "       1.708444e+00, 1.736111e+00, 1.764000e+00, 1.792111e+00,\n",
       "       1.820444e+00, 1.849000e+00, 1.877778e+00, 1.906778e+00,\n",
       "       1.936000e+00, 1.965444e+00, 1.995111e+00, 2.025000e+00,\n",
       "       2.055111e+00, 2.085444e+00, 2.116000e+00, 2.146778e+00,\n",
       "       2.177778e+00, 2.209000e+00, 2.240444e+00, 2.272111e+00,\n",
       "       2.304000e+00, 2.336111e+00, 2.368444e+00, 2.401000e+00,\n",
       "       2.433778e+00, 2.466778e+00, 2.500000e+00, 2.533444e+00,\n",
       "       2.567111e+00, 2.601000e+00, 2.635111e+00, 2.669444e+00,\n",
       "       2.704000e+00, 2.738778e+00, 2.773778e+00, 2.809000e+00,\n",
       "       2.844444e+00, 2.880111e+00, 2.916000e+00, 2.952111e+00,\n",
       "       2.988444e+00, 3.025000e+00, 3.061778e+00, 3.098778e+00,\n",
       "       3.136000e+00, 3.173444e+00, 3.211111e+00, 3.249000e+00,\n",
       "       3.287111e+00, 3.325444e+00, 3.364000e+00, 3.402778e+00,\n",
       "       3.441778e+00, 3.481000e+00, 3.520444e+00, 3.560111e+00,\n",
       "       3.600000e+00, 3.640111e+00, 3.680444e+00, 3.721000e+00,\n",
       "       3.761778e+00, 3.802778e+00, 3.844000e+00, 3.885444e+00,\n",
       "       3.927111e+00, 3.969000e+00, 4.011111e+00, 4.053444e+00,\n",
       "       4.096000e+00, 4.138778e+00, 4.181778e+00, 4.225000e+00,\n",
       "       4.268444e+00, 4.312111e+00, 4.356000e+00, 4.400111e+00,\n",
       "       4.444444e+00, 4.489000e+00, 4.533778e+00, 4.578778e+00,\n",
       "       4.624000e+00, 4.669444e+00, 4.715111e+00, 4.761000e+00,\n",
       "       4.807111e+00, 4.853444e+00, 4.900000e+00, 4.946778e+00,\n",
       "       4.993778e+00, 5.041000e+00, 5.088444e+00, 5.136111e+00,\n",
       "       5.184000e+00, 5.232111e+00, 5.280444e+00, 5.329000e+00,\n",
       "       5.377778e+00, 5.426778e+00, 5.476000e+00, 5.525444e+00,\n",
       "       5.575111e+00, 5.625000e+00, 5.675111e+00, 5.725444e+00,\n",
       "       5.776000e+00, 5.826778e+00, 5.877778e+00, 5.929000e+00,\n",
       "       5.980444e+00, 6.032111e+00, 6.084000e+00, 6.136111e+00,\n",
       "       6.188444e+00, 6.241000e+00, 6.293778e+00, 6.346778e+00,\n",
       "       6.400000e+00, 6.453444e+00, 6.507111e+00, 6.561000e+00,\n",
       "       6.615111e+00, 6.669444e+00, 6.724000e+00, 6.778778e+00,\n",
       "       6.833778e+00, 6.889000e+00, 6.944444e+00, 7.000111e+00,\n",
       "       7.056000e+00, 7.112111e+00, 7.168444e+00, 7.225000e+00,\n",
       "       7.281778e+00, 7.338778e+00, 7.396000e+00, 7.453444e+00,\n",
       "       7.511111e+00, 7.569000e+00, 7.627111e+00, 7.685444e+00,\n",
       "       7.744000e+00, 7.802778e+00, 7.861778e+00, 7.921000e+00,\n",
       "       7.980444e+00, 8.040111e+00, 8.100000e+00, 8.160111e+00,\n",
       "       8.220444e+00, 8.281000e+00, 8.341778e+00, 8.402778e+00,\n",
       "       8.464000e+00, 8.525444e+00, 8.587111e+00, 8.649000e+00,\n",
       "       8.711111e+00, 8.773444e+00, 8.836000e+00, 8.898778e+00,\n",
       "       8.961778e+00, 9.025000e+00, 9.088444e+00, 9.152111e+00,\n",
       "       9.216000e+00, 9.280111e+00, 9.344444e+00, 9.409000e+00,\n",
       "       9.473778e+00, 9.538778e+00, 9.604000e+00, 9.669444e+00,\n",
       "       9.735111e+00, 9.801000e+00, 9.867111e+00, 9.933444e+00,\n",
       "       1.000000e+01])"
      ]
     },
     "execution_count": 3,
     "metadata": {},
     "output_type": "execute_result"
    }
   ],
   "source": [
    "R1s.r"
   ]
  },
  {
   "cell_type": "code",
   "execution_count": 4,
   "metadata": {},
   "outputs": [],
   "source": [
    "R32 = at.R_hydrog(1, 0)"
   ]
  },
  {
   "cell_type": "code",
   "execution_count": 5,
   "metadata": {},
   "outputs": [
    {
     "data": {
      "text/html": [
       "<iframe\n",
       "    scrolling=\"no\"\n",
       "    width=\"100%\"\n",
       "    height=\"545px\"\n",
       "    src=\"iframe_figures/figure_5.html\"\n",
       "    frameborder=\"0\"\n",
       "    allowfullscreen\n",
       "></iframe>\n"
      ]
     },
     "metadata": {},
     "output_type": "display_data"
    }
   ],
   "source": [
    "R32.plot_R()"
   ]
  },
  {
   "cell_type": "code",
   "execution_count": 5,
   "metadata": {},
   "outputs": [],
   "source": [
    "import R_hydrogen_import as RH"
   ]
  },
  {
   "cell_type": "code",
   "execution_count": 6,
   "metadata": {},
   "outputs": [
    {
     "name": "stdout",
     "output_type": "stream",
     "text": [
      "Imported data info: \n",
      "\n",
      "2022-10-19 13:03:49\n",
      "\n",
      "Calculation of atomic orbitals for a central potential\n",
      "\n",
      "Solving Schrödinger eq. by variable sptep-size Numerov method\n",
      "\n",
      "Hydrogenic potential -Z/r\n",
      "\n",
      "Z\tL\tE(a.u.)\t  r_max(a.u.)\tN. points\n",
      "\n",
      "1\t0\t-0.5\t  10.0\t\t300\n",
      "\n",
      "Normalised radial wavefunction P(r)\n",
      "\n",
      " Format r(i), P(i) with r(i)=0.000111111*i^2\n",
      "\n"
     ]
    },
    {
     "data": {
      "text/html": [
       "<iframe\n",
       "    scrolling=\"no\"\n",
       "    width=\"100%\"\n",
       "    height=\"545px\"\n",
       "    src=\"iframe_figures/figure_6.html\"\n",
       "    frameborder=\"0\"\n",
       "    allowfullscreen\n",
       "></iframe>\n"
      ]
     },
     "metadata": {},
     "output_type": "display_data"
    }
   ],
   "source": [
    "R32 = RH.R_hydrog(3, 2, use_sol=\"H_1s.txt\")\n",
    "R32.plot_P2()"
   ]
  },
  {
   "cell_type": "code",
   "execution_count": null,
   "metadata": {},
   "outputs": [],
   "source": []
  },
  {
   "cell_type": "code",
   "execution_count": 8,
   "metadata": {},
   "outputs": [],
   "source": [
    "filename = \"FeVII_2s.txt\"\n",
    "f = open(filename, \"r\")"
   ]
  },
  {
   "cell_type": "code",
   "execution_count": 20,
   "metadata": {},
   "outputs": [
    {
     "name": "stdout",
     "output_type": "stream",
     "text": [
      "2022-10-19 13:06:13\n",
      "\n",
      "Calculation of atomic orbitals for a central potential\n",
      "\n",
      "Solving Schrödinger eq. by variable sptep-size Numerov method\n",
      "\n",
      "Green-Sellin-Zachor potential\n",
      "\n",
      "Z\tN\tH\tD\tL\tE(a.u.)\t  r_max(a.u.)\tN. points\n",
      "\n",
      "26\t20\t1.32\t0.258\t0\t-30.5\t  1.5\t\t300\n",
      "\n",
      "Normalised radial wavefunction P(r)\n",
      "\n",
      " Format r(i), P(i) with r(i)=1.66667e-05*i^2\n",
      "\n",
      " 1.666667e-05  -5.576432e-04\n",
      "\n",
      " 6.666667e-05  -4.388249e-03\n",
      "\n",
      " 1.500000e-04  -1.075330e-02\n",
      "\n",
      " 2.666667e-04  -1.962089e-02\n",
      "\n"
     ]
    }
   ],
   "source": [
    "filename = \"FeVII_2s.txt\"\n",
    "f = open(filename, \"r\")\n",
    "for i, line in enumerate(f):\n",
    "    print(line)\n",
    "    if i>10:\n",
    "        break"
   ]
  },
  {
   "cell_type": "markdown",
   "metadata": {},
   "source": [
    "## Dejo aquí este código por si es útil"
   ]
  },
  {
   "cell_type": "code",
   "execution_count": null,
   "metadata": {},
   "outputs": [],
   "source": [
    "def import_radius(self, route): # De momento no\n",
    "    data_info=open(route)\n",
    "    i=0\n",
    "    print(\"Imported data info: \")\n",
    "    print()\n",
    "    for linea in data_info:\n",
    "        print(linea)\n",
    "        i+=1\n",
    "        if (i>=7):\n",
    "            break\n",
    "    data_set=np.loadtxt(route, skiprows=8)\n",
    "    return data_set"
   ]
  }
 ],
 "metadata": {
  "kernelspec": {
   "display_name": "Python 3",
   "language": "python",
   "name": "python3"
  },
  "language_info": {
   "codemirror_mode": {
    "name": "ipython",
    "version": 3
   },
   "file_extension": ".py",
   "mimetype": "text/x-python",
   "name": "python",
   "nbconvert_exporter": "python",
   "pygments_lexer": "ipython3",
   "version": "3.8.5"
  }
 },
 "nbformat": 4,
 "nbformat_minor": 4
}
