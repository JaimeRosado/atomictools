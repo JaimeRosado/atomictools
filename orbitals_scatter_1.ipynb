{
 "cells": [
  {
   "cell_type": "code",
   "execution_count": 38,
   "metadata": {},
   "outputs": [],
   "source": [
    "import R_hydrogen_import as rad\n",
    "import spherical_harms as sph\n",
    "import random as rnd\n",
    "import matplotlib.pyplot as plt\n",
    "import plotly.express as px\n",
    "import plotly.graph_objects as go\n",
    "import plotly.io as pio\n",
    "from plotly.subplots import make_subplots\n",
    "import scipy.special as spe\n",
    "from scipy.interpolate import interp1d\n",
    "import numpy as np\n",
    "pio.renderers.default='iframe'"
   ]
  },
  {
   "cell_type": "code",
   "execution_count": 41,
   "metadata": {},
   "outputs": [
    {
     "data": {
      "image/png": "[encoded data removed]",
      "text/plain": [
       "<Figure size 432x288 with 1 Axes>"
      ]
     },
     "metadata": {
      "needs_background": "light"
     },
     "output_type": "display_data"
    },
    {
     "data": {
      "image/png": "[encoded data removed]",
      "text/plain": [
       "<Figure size 432x288 with 1 Axes>"
      ]
     },
     "metadata": {
      "needs_background": "light"
     },
     "output_type": "display_data"
    }
   ],
   "source": [
    "#convierte esfericas a cartesianas\n",
    "def convert(r,theta,phi):\n",
    "    x=r*np.sin(theta)*np.cos(phi)\n",
    "    y=r*np.sin(theta)*np.sin(phi)\n",
    "    z=r*np.cos(theta)\n",
    "    return x,y,z\n",
    "\n",
    "#sirve para encontrar el valor más cercano a uno dado en un array\n",
    "def find_nearest(array, value): \n",
    "    array = np.asarray(array) \n",
    "    idx = (np.abs(array - value)).argmin() \n",
    "    return int(idx)\n",
    "\n",
    "#funcion de calculo de la probabilidad radial\n",
    "def rad_prob(n,l,Z,mu):\n",
    "    \n",
    "    def calculate(rm):\n",
    "        Dr = rm / (npt-1)\n",
    "        r = np.linspace(0., rm, npt)\n",
    "        R = rad.radial(r, n, l, Z, mu)\n",
    "        P2 = (r * R)**2\n",
    "        integ =  P2.sum() * Dr\n",
    "        return integ, r, R, P2\n",
    "    \n",
    "    rm = 3. * n**2 / Z / mu\n",
    "    loop = True\n",
    "    while loop:\n",
    "        integ, r, R, P2 = calculate(rm)\n",
    "        if integ<0.999999:\n",
    "            rm *= 1.1\n",
    "        elif integ>0.9999999:\n",
    "            rm *= 0.9\n",
    "        else:\n",
    "            loop = False\n",
    "            \n",
    "    return P2,rm\n",
    "\n",
    "#parámetros de cálculo, serán inputs de la clase orbital cuando se cree\n",
    "npt=200\n",
    "n=3\n",
    "l=1\n",
    "m=1\n",
    "Z=1\n",
    "mu=1\n",
    "discret=1\n",
    "\n",
    "#cálculo de r, P^2 y ftheta^2\n",
    "R,r_max=rad_prob(n,l,Z,mu)\n",
    "theta=np.linspace(0,np.pi,npt)\n",
    "\n",
    "theta_lm=sph.ftheta(l,m,theta)\n",
    "ang_prob=np.abs(theta_lm)**2\n",
    "\n",
    "prob_R=[]\n",
    "prob_ang=[]\n",
    "\n",
    "aux_R=0\n",
    "aux_ang=0\n",
    "\n",
    "#calculo de la integral acumulada para r y para la parte angular\n",
    "for i in range(0,npt,discret):\n",
    "    for j in range(discret):\n",
    "        aux_R+=R[i+j]**2\n",
    "        aux_ang+=ang_prob[i+j]\n",
    "    aux_R/=discret\n",
    "    aux_ang/=discret\n",
    "    prob_R.append(aux_R)\n",
    "    prob_ang.append(aux_ang)\n",
    "\n",
    "x1=np.linspace(0,r_max,len(prob_R))\n",
    "x2=np.linspace(0,np.pi,len(prob_ang))\n",
    "plt.scatter(x1,prob_R)\n",
    "plt.show()\n",
    "\n",
    "plt.scatter(x2,prob_ang)\n",
    "plt.show()"
   ]
  },
  {
   "cell_type": "code",
   "execution_count": 40,
   "metadata": {},
   "outputs": [
    {
     "data": {
      "text/html": [
       "<iframe\n",
       "    scrolling=\"no\"\n",
       "    width=\"100%\"\n",
       "    height=\"545px\"\n",
       "    src=\"iframe_figures/figure_40.html\"\n",
       "    frameborder=\"0\"\n",
       "    allowfullscreen\n",
       "></iframe>\n"
      ]
     },
     "metadata": {},
     "output_type": "display_data"
    }
   ],
   "source": [
    "#interpolación de los datos calculados anteriormente. sirve para suavizar los valores\n",
    "f_rad_aux=interp1d(x1, prob_R, kind='cubic')\n",
    "f_ang_aux=interp1d(x2,prob_ang, kind='cubic')\n",
    "f_rad=f_rad_aux(x1)\n",
    "f_ang=f_ang_aux(x2)\n",
    "\n",
    "N=1000   #numero de puntos de la gráfica. a partir de 3000 ejecuciones pesadas\n",
    "\n",
    "fig=go.Figure()\n",
    "fig.update(layout_showlegend=False)\n",
    "\n",
    "for i in range(N):\n",
    "    \n",
    "    #generación de valores aleatorios de probabilidad para r y theta\n",
    "    r_rand=rnd.uniform(0,np.max(prob_R))\n",
    "    theta_rand=rnd.uniform(0,np.max(prob_ang))\n",
    "    \n",
    "    #buscamos en el array el indice del valor mas cercano de probabilidad\n",
    "    r_idx=find_nearest(f_rad,r_rand)\n",
    "    theta_idx=find_nearest(f_ang,theta_rand)\n",
    "    \n",
    "    #con el indice, buscamos la coordenada r, theta correspondiente. phi es aleatorio\n",
    "    r_fin=x1[r_idx]\n",
    "    theta_fin=x2[theta_idx]\n",
    "    phi_fin=rnd.uniform(0,2*np.pi)\n",
    "    \n",
    "    x,y,z=convert(r_fin,theta_fin,phi_fin)\n",
    "    xs=np.array(x)\n",
    "    ys=np.array(y)\n",
    "    zs=np.array(z)\n",
    "    fig.add_trace(go.Scatter3d(\n",
    "            x=xs,\n",
    "            y=ys,\n",
    "            z=zs,\n",
    "            mode='markers',\n",
    "            marker=dict(\n",
    "            size=1,\n",
    "            color = 'red'\n",
    " )))\n",
    "fig.show()"
   ]
  },
  {
   "cell_type": "code",
   "execution_count": null,
   "metadata": {},
   "outputs": [],
   "source": [
    "f_ang()"
   ]
  }
 ],
 "metadata": {
  "kernelspec": {
   "display_name": "Python 3",
   "language": "python",
   "name": "python3"
  },
  "language_info": {
   "codemirror_mode": {
    "name": "ipython",
    "version": 3
   },
   "file_extension": ".py",
   "mimetype": "text/x-python",
   "name": "python",
   "nbconvert_exporter": "python",
   "pygments_lexer": "ipython3",
   "version": "3.8.5"
  }
 },
 "nbformat": 4,
 "nbformat_minor": 4
}
