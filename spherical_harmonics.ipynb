{
 "cells": [
  {
   "cell_type": "code",
   "execution_count": 21,
   "metadata": {},
   "outputs": [],
   "source": [
    "import plotly.graph_objects as go\n",
    "import plotly.io as pio\n",
    "from plotly.subplots import make_subplots\n",
    "import scipy.special as spe\n",
    "import numpy as np\n",
    "pio.renderers.default='iframe'\n",
    "\n",
    "def ftheta(l,m,theta):\n",
    "    C=np.sqrt((2*l+1)*spe.factorial(l-m)/(4*np.pi)/spe.factorial(l+m))\n",
    "    legendre=spe.lpmv(m,l,np.cos(theta))\n",
    "    return (-1)**m*C*legendre\n",
    "\n",
    "def fphi(m, phi):\n",
    "    return np.exp(1j*m*phi)\n",
    "\n",
    "class spherical_harmonics:\n",
    "    \n",
    "    def __init__(self,l,m):\n",
    "        self.l=l\n",
    "        self.m=m\n",
    "        self.theta=np.linspace(0, np.pi, 600)\n",
    "        self.phi=np.linspace(0, 2*np.pi, 600)\n",
    "        \n",
    "        C1=ftheta(self.l,self.m,self.theta)\n",
    "        C2=fphi(self.m,self.phi)\n",
    "        aux=np.outer(C2, C1)\n",
    "        Ylm=np.abs(aux)**2\n",
    "        \n",
    "        self.prob=Ylm\n",
    "        \n",
    "        #Plot constants\n",
    "        self.x=Ylm*np.outer(np.cos(self.phi), np.sin(self.theta))\n",
    "        self.y=Ylm*np.outer(np.sin(self.phi), np.sin(self.theta))\n",
    "        self.z=Ylm*np.outer(np.ones(np.size(self.theta)), np.cos(self.theta))\n",
    "        \n",
    "    def plot_prob(self):\n",
    "        fig = go.Figure(data=[go.Surface(x=self.x, y=self.y, z=self.z, surfacecolor=self.prob)])\n",
    "  \n",
    "        fig.update_traces(contours_z=dict(\n",
    "               show=True, usecolormap=True,\n",
    "               highlightcolor=\"limegreen\",\n",
    "               project_z=True))\n",
    "  \n",
    "        fig.show()\n",
    "            \n",
    "    def plot_phase(self):\n",
    "        fig = go.Figure(data=[go.Surface(x=self.x, y=self.y, z=self.z,surfacecolor=np.arctan(self.y/self.x))])\n",
    "\n",
    "        fig.update_traces(contours_z=dict(\n",
    "              show=True, usecolormap=True,\n",
    "              highlightcolor=\"limegreen\",\n",
    "              project_z=True))\n",
    "  \n",
    "        fig.show()"
   ]
  },
  {
   "cell_type": "code",
   "execution_count": 22,
   "metadata": {},
   "outputs": [
    {
     "data": {
      "text/html": [
       "<iframe\n",
       "    scrolling=\"no\"\n",
       "    width=\"100%\"\n",
       "    height=\"545px\"\n",
       "    src=\"iframe_figures/figure_44.html\"\n",
       "    frameborder=\"0\"\n",
       "    allowfullscreen\n",
       "></iframe>\n"
      ]
     },
     "metadata": {},
     "output_type": "display_data"
    },
    {
     "name": "stderr",
     "output_type": "stream",
     "text": [
      "<ipython-input-21-95a0d70d287a>:47: RuntimeWarning:\n",
      "\n",
      "invalid value encountered in true_divide\n",
      "\n"
     ]
    },
    {
     "data": {
      "text/html": [
       "<iframe\n",
       "    scrolling=\"no\"\n",
       "    width=\"100%\"\n",
       "    height=\"545px\"\n",
       "    src=\"iframe_figures/figure_44.html\"\n",
       "    frameborder=\"0\"\n",
       "    allowfullscreen\n",
       "></iframe>\n"
      ]
     },
     "metadata": {},
     "output_type": "display_data"
    }
   ],
   "source": [
    "spherical_harmonics(2,0).plot_prob()\n",
    "spherical_harmonics(2,0).plot_phase()"
   ]
  },
  {
   "cell_type": "code",
   "execution_count": null,
   "metadata": {},
   "outputs": [],
   "source": []
  }
 ],
 "metadata": {
  "kernelspec": {
   "display_name": "Python 3",
   "language": "python",
   "name": "python3"
  },
  "language_info": {
   "codemirror_mode": {
    "name": "ipython",
    "version": 3
   },
   "file_extension": ".py",
   "mimetype": "text/x-python",
   "name": "python",
   "nbconvert_exporter": "python",
   "pygments_lexer": "ipython3",
   "version": "3.8.5"
  }
 },
 "nbformat": 4,
 "nbformat_minor": 4
}
