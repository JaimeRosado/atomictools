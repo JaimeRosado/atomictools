{
 "cells": [
  {
   "cell_type": "code",
   "execution_count": 60,
   "metadata": {},
   "outputs": [
    {
     "data": {
      "text/html": [
       "<iframe\n",
       "    scrolling=\"no\"\n",
       "    width=\"100%\"\n",
       "    height=\"545px\"\n",
       "    src=\"iframe_figures/figure_60.html\"\n",
       "    frameborder=\"0\"\n",
       "    allowfullscreen\n",
       "></iframe>\n"
      ]
     },
     "metadata": {},
     "output_type": "display_data"
    }
   ],
   "source": [
    "import plotly.express as px\n",
    "import plotly.graph_objects as go\n",
    "import plotly.io as pio\n",
    "from plotly.subplots import make_subplots\n",
    "from scipy.special import genlaguerre\n",
    "import numpy as np\n",
    "import math\n",
    "pio.renderers.default='iframe'\n",
    "\n",
    "#definimos algunas constantes\n",
    "a0=1 #propósitos de ejercicio, radio de Bohr\n",
    "N=500\n",
    "#crearemos una funcion que reciba como parámetros r y los números cuánticos\n",
    "\n",
    "def radial(r, n, l):\n",
    "    aux=(n-l-1)\n",
    "    aux1=2*n*(n+l)\n",
    "    laguerre=genlaguerre(n-l-1,2*l+1)(2*r/(n*a0))\n",
    "    \n",
    "    raiz=np.sqrt((2/(n*a0))**3 * math.factorial(aux)/math.factorial(aux1))\n",
    "    R=raiz*np.exp(-r/(n*a0))*(2*r/(n*a0))**l*laguerre\n",
    "    return R\n",
    "\n",
    "\n",
    "def calcula_observables(n, l, N):\n",
    "    #definimos esta función que nos permite calcular la función P, así como los cuadrados de R y P\n",
    "    r=np.linspace(0,40,N)\n",
    "    plot=np.empty([N,5],float)\n",
    "\n",
    "\n",
    "    for i in range(N):\n",
    "        plot[i,0]=r[i]              #Eje X, valores de r\n",
    "        plot[i,1]=radial(r[i],3,1)  #Eje Y, valores de la función R\n",
    "        plot[i,2]=plot[i,1]*r[i]    #Eje Y, valores de la función P\n",
    "        plot[i,3]=plot[i,2]**2      #Eje Y, valores de la función P**2\n",
    "        plot[i,4]=plot[i,1]**2      #Eje Y, valores de la función R**2\n",
    "    return plot\n",
    "    \n",
    "plot1=np.empty([N,5],float)\n",
    "plot1=calcula_observables(3,1,N)\n",
    "\n",
    "fig = make_subplots(rows=4, cols=1, subplot_titles=(\"R frente a r\", \"P frente a r\", \"P**2 frente a r\", \"R**2 frente a r\"))\n",
    "fig.add_trace(go.Scatter(x=plot1[:,0], y=plot1[:,1]),  row=1, col=1)\n",
    "fig.add_trace(go.Scatter(x=plot1[:,0], y=plot1[:,2]),  row=2, col=1)\n",
    "fig.add_trace(go.Scatter(x=plot1[:,0], y=plot1[:,3]), row=3, col=1)\n",
    "fig.add_trace(go.Scatter(x=plot1[:,0], y=plot1[:,4]), row=4, col=1)\n",
    "fig.show()"
   ]
  },
  {
   "cell_type": "code",
   "execution_count": null,
   "metadata": {},
   "outputs": [],
   "source": []
  }
 ],
 "metadata": {
  "kernelspec": {
   "display_name": "Python 3",
   "language": "python",
   "name": "python3"
  },
  "language_info": {
   "codemirror_mode": {
    "name": "ipython",
    "version": 3
   },
   "file_extension": ".py",
   "mimetype": "text/x-python",
   "name": "python",
   "nbconvert_exporter": "python",
   "pygments_lexer": "ipython3",
   "version": "3.8.5"
  }
 },
 "nbformat": 4,
 "nbformat_minor": 4
}
