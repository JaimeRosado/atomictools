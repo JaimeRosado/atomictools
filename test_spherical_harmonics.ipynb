{
 "cells": [
  {
   "cell_type": "code",
   "execution_count": 44,
   "metadata": {},
   "outputs": [],
   "source": [
    "# definition of class atributes\n",
    "l = 1\n",
    "m = 1\n",
    "theta = np.linspace(0., np.pi, 41, endpoint=True)\n",
    "phi = np.linspace(-np.pi, np.pi, 41, endpoint=True)\n",
    "\n",
    "# Computed results of ftheta() and fphi()\n",
    "ftheta_lm = ftheta(l, m, theta)\n",
    "fphi_m = fphi(m, phi)\n",
    "\n",
    "# Y values, their absolute values, the square of them and phase\n",
    "Y = np.outer(fphi_m, ftheta_lm)\n",
    "module = np.abs(Y)\n",
    "prob = module**2\n",
    "phase = np.angle(Y)"
   ]
  },
  {
   "cell_type": "code",
   "execution_count": 60,
   "metadata": {},
   "outputs": [
    {
     "data": {
      "text/plain": [
       "array([-1.22464680e-16, -1.56434465e-01, -3.09016994e-01, -4.53990500e-01,\n",
       "       -5.87785252e-01, -7.07106781e-01, -8.09016994e-01, -8.91006524e-01,\n",
       "       -9.51056516e-01, -9.87688341e-01, -1.00000000e+00, -9.87688341e-01,\n",
       "       -9.51056516e-01, -8.91006524e-01, -8.09016994e-01, -7.07106781e-01,\n",
       "       -5.87785252e-01, -4.53990500e-01, -3.09016994e-01, -1.56434465e-01,\n",
       "        0.00000000e+00,  1.56434465e-01,  3.09016994e-01,  4.53990500e-01,\n",
       "        5.87785252e-01,  7.07106781e-01,  8.09016994e-01,  8.91006524e-01,\n",
       "        9.51056516e-01,  9.87688341e-01,  1.00000000e+00,  9.87688341e-01,\n",
       "        9.51056516e-01,  8.91006524e-01,  8.09016994e-01,  7.07106781e-01,\n",
       "        5.87785252e-01,  4.53990500e-01,  3.09016994e-01,  1.56434465e-01,\n",
       "        1.22464680e-16])"
      ]
     },
     "execution_count": 60,
     "metadata": {},
     "output_type": "execute_result"
    }
   ],
   "source": [
    "np.sin(phi)"
   ]
  },
  {
   "cell_type": "code",
   "execution_count": 41,
   "metadata": {},
   "outputs": [
    {
     "data": {
      "text/plain": [
       "0.12566370614359174"
      ]
     },
     "execution_count": 41,
     "metadata": {},
     "output_type": "execute_result"
    }
   ],
   "source": [
    "np.pi/25."
   ]
  },
  {
   "cell_type": "code",
   "execution_count": 35,
   "metadata": {},
   "outputs": [
    {
     "data": {
      "text/plain": [
       "array([0.12566371, 0.12566371, 0.12566371, 0.12566371, 0.12566371,\n",
       "       0.12566371, 0.12566371, 0.12566371, 0.12566371, 0.12566371,\n",
       "       0.12566371, 0.12566371, 0.12566371, 0.12566371, 0.12566371,\n",
       "       0.12566371, 0.12566371, 0.12566371, 0.12566371, 0.12566371,\n",
       "       0.12566371, 0.12566371, 0.12566371, 0.12566371, 0.12566371,\n",
       "       0.12566371, 0.12566371, 0.12566371, 0.12566371, 0.12566371,\n",
       "       0.12566371, 0.12566371, 0.12566371, 0.12566371, 0.12566371,\n",
       "       0.12566371, 0.12566371, 0.12566371, 0.12566371, 0.12566371,\n",
       "       0.12566371, 0.12566371, 0.12566371, 0.12566371, 0.12566371,\n",
       "       0.12566371, 0.12566371, 0.12566371, 0.12566371, 0.12566371])"
      ]
     },
     "execution_count": 35,
     "metadata": {},
     "output_type": "execute_result"
    }
   ],
   "source": [
    "np.diff(phi)"
   ]
  },
  {
   "cell_type": "code",
   "execution_count": 59,
   "metadata": {},
   "outputs": [
    {
     "data": {
      "text/plain": [
       "(1.0, -1.0)"
      ]
     },
     "execution_count": 59,
     "metadata": {},
     "output_type": "execute_result"
    }
   ],
   "source": [
    "(np.sin(phi)).max(), (np.sin(phi)).min()"
   ]
  },
  {
   "cell_type": "code",
   "execution_count": 58,
   "metadata": {},
   "outputs": [
    {
     "data": {
      "text/html": [
       "<iframe\n",
       "    scrolling=\"no\"\n",
       "    width=\"100%\"\n",
       "    height=\"545px\"\n",
       "    src=\"iframe_figures/figure_58.html\"\n",
       "    frameborder=\"0\"\n",
       "    allowfullscreen\n",
       "></iframe>\n"
      ]
     },
     "metadata": {},
     "output_type": "display_data"
    }
   ],
   "source": [
    "import plotly.express as px\n",
    "fig = px.scatter(x=phi, y=np.angle(fphi_m), color=np.angle(fphi_m), color_continuous_scale=\"HSV\")\n",
    "fig.show()"
   ]
  },
  {
   "cell_type": "code",
   "execution_count": 6,
   "metadata": {},
   "outputs": [
    {
     "data": {
      "text/plain": [
       "(-0.9795918367346941, 0.9795918367346939)"
      ]
     },
     "execution_count": 6,
     "metadata": {},
     "output_type": "execute_result"
    }
   ],
   "source": [
    "np.angle(fphi_m).min()/np.pi, np.angle(fphi_m).max()/np.pi"
   ]
  },
  {
   "cell_type": "code",
   "execution_count": null,
   "metadata": {},
   "outputs": [],
   "source": []
  },
  {
   "cell_type": "code",
   "execution_count": 5,
   "metadata": {},
   "outputs": [],
   "source": [
    "import plotly.graph_objects as go\n",
    "import plotly.io as pio\n",
    "from plotly.subplots import make_subplots\n",
    "from cmath import phase\n",
    "import scipy.special as spe\n",
    "import numpy as np\n",
    "pio.renderers.default='iframe'\n",
    "\n",
    "def ftheta(l, m, theta):\n",
    "    C = np.sqrt((2.*l+1.) * spe.factorial(l-m) / (4.*np.pi) / spe.factorial(l+m))\n",
    "    legendre = spe.lpmv(m, l, np.cos(theta))\n",
    "    return C * legendre\n",
    "\n",
    "def fphi(m, phi):\n",
    "    return np.exp(1j * m * phi)\n",
    "\n",
    "class spherical_harmonics:\n",
    "    \n",
    "    def __init__(self, l, m):\n",
    "        \n",
    "        # definition of class atributes\n",
    "        self.l = l\n",
    "        self.m = m\n",
    "        theta = np.linspace(0., np.pi, 100)\n",
    "        self.theta = theta\n",
    "        phi = np.linspace(0., 2.*np.pi, 100)\n",
    "        self.phi = phi\n",
    "        \n",
    "        # Computed results of ftheta() and fphi()\n",
    "        ftheta_lm = ftheta(l, m, theta)\n",
    "        fphi_m = fphi(m, phi)\n",
    "        \n",
    "        # Y values, their absolute values, the square of them and phase\n",
    "        Y = np.outer(fphi_m, ftheta_lm)\n",
    "        self.Y = Y\n",
    "        module = np.abs(Y)\n",
    "        self.module = module\n",
    "        prob = module**2\n",
    "        self.prob = prob\n",
    "        phase = np.angle(Y)\n",
    "        self.phase = phase\n",
    "        \n",
    "        # Cartesian coordinates for r=1\n",
    "        sin_theta = np.sin(theta)\n",
    "        x = np.outer(np.cos(phi), sin_theta)\n",
    "        y = np.outer(np.sin(phi), sin_theta)\n",
    "        z = np.outer(np.ones_like(phi), np.cos(theta))\n",
    "        \n",
    "        # Starting zoom of the graph. Relies on the l variable to adjust the graph\n",
    "        side = 1.25 + l - np.abs(m)\n",
    "        self.camera = dict(eye=dict(x=side, y=side, z=1.25))\n",
    "\n",
    "        # Cartesian projection of prob\n",
    "        self.prob_x = prob * x\n",
    "        self.prob_y = prob * y\n",
    "        self.prob_z = prob * z\n",
    "        \n",
    "        # Cartesian projection of module\n",
    "        self.module_x = module * x\n",
    "        self.module_y = module * y\n",
    "        self.module_z = module * z\n",
    "\n",
    "    def plot_prob(self):\n",
    "        fig = go.Figure(data=[go.Surface(x=self.prob_x, y=self.prob_y, z=self.prob_z, \n",
    "                                         surfacecolor=self.prob, colorscale='Oranges')])\n",
    "  \n",
    "        fig.update_traces(contours_z=dict(\n",
    "               show=True, usecolormap=True,\n",
    "               highlightcolor=\"limegreen\",\n",
    "               project_z=True))  \n",
    "    \n",
    "        fig.update_layout(scene_aspectmode='data', scene_camera=self.camera)\n",
    "  \n",
    "        fig.show()\n",
    "    \n",
    "            \n",
    "    def plot_phase(self):    \n",
    "        fig = go.Figure(data=[go.Surface(x=self.module_x, y=self.module_y, z=self.module_z,\n",
    "            surfacecolor=self.phase, colorscale='HSV', cmin=-np.pi, cmax=np.pi)])\n",
    "\n",
    "        fig.update_traces(contours_z=dict(\n",
    "              show=True, usecolormap=True,\n",
    "              highlightcolor=\"limegreen\",\n",
    "              project_z=True))\n",
    "        \n",
    "        fig.update_layout(scene_aspectmode='data', scene_camera=self.camera)\n",
    "  \n",
    "        fig.show()"
   ]
  },
  {
   "cell_type": "code",
   "execution_count": 8,
   "metadata": {},
   "outputs": [
    {
     "data": {
      "text/html": [
       "<iframe\n",
       "    scrolling=\"no\"\n",
       "    width=\"100%\"\n",
       "    height=\"545px\"\n",
       "    src=\"iframe_figures/figure_8.html\"\n",
       "    frameborder=\"0\"\n",
       "    allowfullscreen\n",
       "></iframe>\n"
      ]
     },
     "metadata": {},
     "output_type": "display_data"
    }
   ],
   "source": [
    "spherical_harmonics(2,1).plot_phase()"
   ]
  },
  {
   "cell_type": "code",
   "execution_count": 4,
   "metadata": {},
   "outputs": [
    {
     "data": {
      "text/html": [
       "<iframe\n",
       "    scrolling=\"no\"\n",
       "    width=\"100%\"\n",
       "    height=\"545px\"\n",
       "    src=\"iframe_figures/figure_4.html\"\n",
       "    frameborder=\"0\"\n",
       "    allowfullscreen\n",
       "></iframe>\n"
      ]
     },
     "metadata": {},
     "output_type": "display_data"
    }
   ],
   "source": [
    "spherical_harmonics(3,1).plot_prob()"
   ]
  },
  {
   "cell_type": "code",
   "execution_count": 236,
   "metadata": {},
   "outputs": [
    {
     "name": "stdout",
     "output_type": "stream",
     "text": [
      "[0.         0.04110671 0.18451004 0.0354077  0.06551323 0.06551323\n",
      " 0.0354077  0.18451004 0.04110671 0.        ]\n",
      "[0.         0.14306419 0.64215267 0.12322987 0.22800654 0.22800654\n",
      " 0.12322987 0.64215267 0.14306419 0.        ]\n",
      "[[ 1.          1.          1.          1.          1.         -1.\n",
      "  -1.         -1.         -1.         -1.        ]\n",
      " [ 0.76604444  0.76604444  0.76604444  0.76604444  0.76604444 -0.76604444\n",
      "  -0.76604444 -0.76604444 -0.76604444 -0.76604444]\n",
      " [ 0.17364818  0.17364818  0.17364818  0.17364818  0.17364818 -0.17364818\n",
      "  -0.17364818 -0.17364818 -0.17364818 -0.17364818]\n",
      " [-0.5        -0.5        -0.5        -0.5        -0.5         0.5\n",
      "   0.5         0.5         0.5         0.5       ]\n",
      " [-0.93969262 -0.93969262 -0.93969262 -0.93969262 -0.93969262  0.93969262\n",
      "   0.93969262  0.93969262  0.93969262  0.93969262]\n",
      " [-0.93969262 -0.93969262 -0.93969262 -0.93969262 -0.93969262  0.93969262\n",
      "   0.93969262  0.93969262  0.93969262  0.93969262]\n",
      " [-0.5        -0.5        -0.5        -0.5        -0.5         0.5\n",
      "   0.5         0.5         0.5         0.5       ]\n",
      " [ 0.17364818  0.17364818  0.17364818  0.17364818  0.17364818 -0.17364818\n",
      "  -0.17364818 -0.17364818 -0.17364818 -0.17364818]\n",
      " [ 0.76604444  0.76604444  0.76604444  0.76604444  0.76604444 -0.76604444\n",
      "  -0.76604444 -0.76604444 -0.76604444 -0.76604444]\n",
      " [ 1.          1.          1.          1.          1.         -1.\n",
      "  -1.         -1.         -1.         -1.        ]]\n"
     ]
    }
   ],
   "source": [
    "import numpy.linalg as linalg\n",
    "import matplotlib\n",
    "a=spherical_harmonics(4,2).prob[0]\n",
    "b=spherical_harmonics(4,2).phi_plot\n",
    "print(a)\n",
    "print(a/linalg.norm(a))\n",
    "print(b)"
   ]
  },
  {
   "cell_type": "code",
   "execution_count": 245,
   "metadata": {},
   "outputs": [
    {
     "name": "stdout",
     "output_type": "stream",
     "text": [
      "HSV\n"
     ]
    }
   ],
   "source": [
    "print('HSV')"
   ]
  },
  {
   "cell_type": "code",
   "execution_count": 249,
   "metadata": {},
   "outputs": [
    {
     "name": "stdout",
     "output_type": "stream",
     "text": [
      "[[ 1.          1.          1.         ... -1.         -1.\n",
      "  -1.        ]\n",
      " [ 0.99179001  0.99179001  0.99179001 ... -0.99179001 -0.99179001\n",
      "  -0.99179001]\n",
      " [ 0.96729486  0.96729486  0.96729486 ... -0.96729486 -0.96729486\n",
      "  -0.96729486]\n",
      " ...\n",
      " [ 0.96729486  0.96729486  0.96729486 ... -0.96729486 -0.96729486\n",
      "  -0.96729486]\n",
      " [ 0.99179001  0.99179001  0.99179001 ... -0.99179001 -0.99179001\n",
      "  -0.99179001]\n",
      " [ 1.          1.          1.         ... -1.         -1.\n",
      "  -1.        ]]\n"
     ]
    }
   ],
   "source": [
    "print(spherical_harmonics(3,1).phi_plot)"
   ]
  },
  {
   "cell_type": "code",
   "execution_count": null,
   "metadata": {},
   "outputs": [],
   "source": []
  }
 ],
 "metadata": {
  "kernelspec": {
   "display_name": "Python 3",
   "language": "python",
   "name": "python3"
  },
  "language_info": {
   "codemirror_mode": {
    "name": "ipython",
    "version": 3
   },
   "file_extension": ".py",
   "mimetype": "text/x-python",
   "name": "python",
   "nbconvert_exporter": "python",
   "pygments_lexer": "ipython3",
   "version": "3.8.5"
  }
 },
 "nbformat": 4,
 "nbformat_minor": 4
}
